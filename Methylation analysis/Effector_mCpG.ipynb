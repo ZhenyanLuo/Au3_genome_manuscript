{
 "cells": [
  {
   "cell_type": "code",
   "execution_count": 1,
   "metadata": {},
   "outputs": [],
   "source": [
    "import sys\n",
    "import pandas as pd\n",
    "from Bio import SeqIO\n",
    "from Bio import SearchIO\n",
    "import os\n",
    "import glob\n",
    "from pathlib import Path\n",
    "from Bio import AlignIO\n",
    "from Bio.SeqRecord import SeqRecord\n",
    "from Bio.Seq import Seq\n",
    "import pybedtools  "
   ]
  },
  {
   "cell_type": "code",
   "execution_count": 2,
   "metadata": {},
   "outputs": [],
   "source": [
    "#Read methylation data \n",
    "os.chdir('../../data/Methylation/')\n",
    "bed_5mC = pd.read_table('Au3_5mCpG_filtered.bed', header=None)\n",
    "bed_5mC.columns = ['chr', 'start', 'end', 'score','reads_count']\n"
   ]
  },
  {
   "cell_type": "code",
   "execution_count": 3,
   "metadata": {},
   "outputs": [],
   "source": [
    "Au3_genome_hapA = list(SeqIO.parse('../Au3_CHR_hapA_v3.fasta', 'fasta'))\n",
    "Au3_genome_hapB = list(SeqIO.parse('../Au3_CHR_hapB_v3.fasta', 'fasta'))\n",
    "Au3_genome = Au3_genome_hapA + Au3_genome_hapB"
   ]
  },
  {
   "cell_type": "code",
   "execution_count": 4,
   "metadata": {},
   "outputs": [],
   "source": [
    "Au3_genome_renamed = []\n",
    "for seq in Au3_genome:\n",
    "    seqid_old = seq.id\n",
    "    seq_seq = seq.seq\n",
    "    if '_ab' in seq.id:\n",
    "        seqnew = 'Chr14B'\n",
    "    elif 'HapA' in seqid_old:\n",
    "        #Add A to the end of the chromosome name\n",
    "        seqnew = seq.id + 'A'\n",
    "        seqnew = seqnew.replace('APSI_AU3_HapA_CHR', 'Chr')\n",
    "    elif 'HapB' in seqid_old:\n",
    "        #Add B to the end of the chromosome name\n",
    "        seqnew = seq.id + 'B'\n",
    "        seqnew = seqnew.replace('APSI_AU3_HapB_CHR', 'Chr')\n",
    "    Au3_genome_renamed.append(SeqRecord(seq=seq_seq, id=seqnew, name=seqid_old, description=''))\n"
   ]
  },
  {
   "cell_type": "code",
   "execution_count": 5,
   "metadata": {},
   "outputs": [],
   "source": [
    "gene_annotation = pd.read_table('../Au3_deduplicate/Au3_deduplicate.gff3', header=None, sep='\\t')"
   ]
  },
  {
   "cell_type": "code",
   "execution_count": 6,
   "metadata": {},
   "outputs": [],
   "source": [
    "effecotr_list = pd.read_table('../Effector/secretome.list', header=None, sep='\\t')"
   ]
  },
  {
   "cell_type": "code",
   "execution_count": 7,
   "metadata": {},
   "outputs": [],
   "source": [
    "effecotr_list.columns = ['gene_id']"
   ]
  },
  {
   "cell_type": "code",
   "execution_count": 8,
   "metadata": {},
   "outputs": [],
   "source": [
    "gene_annotation = gene_annotation[gene_annotation[2] == 'CDS']\n",
    "gene_annotation = gene_annotation.reset_index(drop=True)\n",
    "gene_annotation.columns = ['chr', 'source', 'type', 'start', 'end', 'score', 'strand', 'phase', 'attributes']\n",
    "gene_annotation['attributes'] = gene_annotation['attributes'].str.split(';').str[0].str.split('ID=').str[1]\n",
    "gene_annotation_renamed = gene_annotation.copy()\n",
    "\n",
    "for seqid in Au3_genome_renamed:\n",
    "    old_name = seqid.name\n",
    "    old_name = old_name.replace('APSI_', '')\n",
    "    new_name = seqid.id\n",
    "    gene_annotation_renamed['chr'] = gene_annotation_renamed['chr'].str.replace(old_name, new_name)\n",
    "\n",
    "gene_annotation_renamed['chr'] = gene_annotation_renamed['chr'].str.replace('Chr14Aab', 'Chr14B')"
   ]
  },
  {
   "cell_type": "code",
   "execution_count": 9,
   "metadata": {},
   "outputs": [],
   "source": [
    "gene_annotation_renamed['gene_id'] = gene_annotation_renamed['attributes'].str.split('.cds').str[0]\n",
    "gene_annotation_cds = gene_annotation_renamed.copy()\n",
    "#group by gene_id and get the min and max of the start and end\n",
    "gene_annotation_cds = gene_annotation_cds.groupby('gene_id').agg({'chr':'first', 'start':'min', 'end':'max', 'strand':'first'}).reset_index()"
   ]
  },
  {
   "cell_type": "code",
   "execution_count": 10,
   "metadata": {},
   "outputs": [],
   "source": [
    "gene_annotation_cds_list = gene_annotation_cds['gene_id'].tolist()"
   ]
  },
  {
   "cell_type": "code",
   "execution_count": 11,
   "metadata": {},
   "outputs": [],
   "source": [
    "effector_list_cds = []\n",
    "no_effector_list_cds = []\n",
    "for gene in gene_annotation_cds_list:\n",
    "    tmp = gene.split('-')[0]\n",
    "    if tmp in effecotr_list['gene_id'].tolist():\n",
    "        effector_list_cds.append(gene)\n",
    "    else:\n",
    "        no_effector_list_cds.append(gene)"
   ]
  },
  {
   "cell_type": "code",
   "execution_count": 12,
   "metadata": {},
   "outputs": [],
   "source": [
    "effector_list_cds_df = gene_annotation_cds[gene_annotation_cds['gene_id'].isin(effector_list_cds)]"
   ]
  },
  {
   "cell_type": "code",
   "execution_count": 13,
   "metadata": {},
   "outputs": [],
   "source": [
    "no_effector_list_cds_df = gene_annotation_cds[gene_annotation_cds['gene_id'].isin(no_effector_list_cds)]"
   ]
  },
  {
   "cell_type": "code",
   "execution_count": 14,
   "metadata": {},
   "outputs": [],
   "source": [
    "effector_list_cds_df_flanking_seq_upstream = []\n",
    "for index, row in effector_list_cds_df.iterrows():\n",
    "    seq = [seq for seq in Au3_genome_renamed if seq.id == row['chr']][0]\n",
    "    seq_seq = seq.seq\n",
    "    #If strand is positive\n",
    "    if row['strand'] == '+':\n",
    "        start = row['start']- 1000 -2\n",
    "        end = row['end'] -2\n",
    "        seq_seq = seq_seq[start:end]\n",
    "    else:\n",
    "        start = row['end']+ 1000 \n",
    "        end = row['end'] \n",
    "        seq_seq = seq_seq[row['start']:row['end']].reverse_complement()\n",
    "    effector_list_cds_df_flanking_seq_upstream.append(SeqRecord(seq=seq_seq, id=row['gene_id'], description=''))\n",
    "\n",
    "no_effector_list_cds_df_flanking_seq_upstream = []\n",
    "for index, row in no_effector_list_cds_df.iterrows():\n",
    "    seq = [seq for seq in Au3_genome_renamed if seq.id == row['chr']][0]\n",
    "    seq_seq = seq.seq\n",
    "    #If strand is positive\n",
    "    if row['strand'] == '+':\n",
    "        start = row['start']- 1000 -2\n",
    "        end = row['end'] -2\n",
    "        seq_seq = seq_seq[start:end]\n",
    "    else:\n",
    "        start = row['end']+ 1000 \n",
    "        end = row['end'] \n",
    "        seq_seq = seq_seq[row['start']:row['end']].reverse_complement()\n",
    "    no_effector_list_cds_df_flanking_seq_upstream.append(SeqRecord(seq=seq_seq, id=row['gene_id'], description=''))"
   ]
  },
  {
   "cell_type": "code",
   "execution_count": 15,
   "metadata": {},
   "outputs": [],
   "source": [
    "effector_df = effector_list_cds_df.copy()\n",
    "effector_df['effector'] = 'Yes'\n",
    "effector_df_tmp = no_effector_list_cds_df.copy()\n",
    "effector_df_tmp['effector'] = 'No'\n",
    "effector_df = pd.concat([effector_df, effector_df_tmp]).sort_values(['chr', 'start'])\n",
    "#Get upstream 1kb position\n",
    "effector_df['upstream_start'] = effector_df.apply(lambda x: x['start'] - 1002 if x['strand'] == '+' else x['end'], axis=1)\n",
    "effector_df['upstream_end'] = effector_df.apply(lambda x: x['end'] - 2 if x['strand'] == '+' else x['end'] + 1000, axis=1)\n",
    "effector_df['downstream_start'] = effector_df.apply(lambda x: x['end'] + 1 if x['strand'] == '+' else x['start'] - 1001, axis=1)\n",
    "effector_df['downstream_end'] = effector_df.apply(lambda x: x['end'] + 1001 if x['strand'] == '+' else x['start'] -1, axis=1)"
   ]
  },
  {
   "cell_type": "code",
   "execution_count": 16,
   "metadata": {},
   "outputs": [],
   "source": [
    "effector_df['id'] = effector_df['gene_id'].str.split('-').str[0]\n",
    "# Calculate the length of each gene\n",
    "effector_df['length'] = effector_df['end'] - effector_df['start']\n",
    "# If the id is the same, only keep the longest one\n",
    "effector_df = effector_df.sort_values(['id', 'length'], ascending=False).drop_duplicates('id', keep='first')"
   ]
  },
  {
   "cell_type": "code",
   "execution_count": 30,
   "metadata": {},
   "outputs": [],
   "source": [
    "effector_df_upstream_bed = effector_df[['chr', 'upstream_start', 'upstream_end']]\n",
    "effector_df_downstream_bed = effector_df[['chr', 'downstream_start', 'downstream_end']]\n"
   ]
  },
  {
   "cell_type": "code",
   "execution_count": 31,
   "metadata": {},
   "outputs": [],
   "source": [
    "effector_df_upstream_bed = pybedtools.BedTool.from_dataframe(effector_df_upstream_bed)\n",
    "effector_df_downstream_bed = pybedtools.BedTool.from_dataframe(effector_df_downstream_bed)"
   ]
  },
  {
   "cell_type": "code",
   "execution_count": 32,
   "metadata": {},
   "outputs": [],
   "source": [
    "bed_5mCpG = bed_5mC[['chr', 'start', 'end']]\n",
    "bed_5mCpG = pybedtools.BedTool.from_dataframe(bed_5mCpG)"
   ]
  },
  {
   "cell_type": "code",
   "execution_count": 33,
   "metadata": {},
   "outputs": [
    {
     "name": "stderr",
     "output_type": "stream",
     "text": [
      "***** WARNING: File /tmp/pybedtools.yyni3yi1.tmp has a record where naming convention (leading zero) is inconsistent with other files:\n",
      "Chr10A\t13511\t13512\n",
      "\n",
      "***** WARNING: File /tmp/pybedtools.yyni3yi1.tmp has a record where naming convention (leading zero) is inconsistent with other files:\n",
      "Chr10A\t13511\t13512\n",
      "\n",
      "***** WARNING: File /tmp/pybedtools.yyni3yi1.tmp has a record where naming convention (leading zero) is inconsistent with other files:\n",
      "Chr10A\t13511\t13512\n",
      "\n",
      "***** WARNING: File /tmp/pybedtools.yyni3yi1.tmp has a record where naming convention (leading zero) is inconsistent with other files:\n",
      "Chr10A\t13511\t13512\n",
      "\n"
     ]
    }
   ],
   "source": [
    "#Get intersection with 5mC sites\n",
    "effector_df_upstream_bed_5mC = effector_df_upstream_bed.intersect(bed_5mCpG, wa=True, wb=True)\n",
    "effector_df_downstream_bed_5mC = effector_df_downstream_bed.intersect(bed_5mCpG, wa=True, wb=True)\n"
   ]
  },
  {
   "cell_type": "code",
   "execution_count": 34,
   "metadata": {},
   "outputs": [],
   "source": [
    "effector_df_upstream_bed_5mC = effector_df_upstream_bed_5mC.to_dataframe()\n",
    "effector_df_downstream_bed_5mC = effector_df_downstream_bed_5mC.to_dataframe()\n",
    "#sort by chrom and start, end, get the sum of 5mC sites\n",
    "effector_df_upstream_bed_5mC = effector_df_upstream_bed_5mC.sort_values(['chrom', 'start', 'end']).groupby(['chrom', 'start', 'end']).size().reset_index()\n",
    "effector_df_downstream_bed_5mC = effector_df_downstream_bed_5mC.sort_values(['chrom', 'start', 'end']).groupby(['chrom', 'start', 'end']).size().reset_index()"
   ]
  },
  {
   "cell_type": "code",
   "execution_count": 46,
   "metadata": {},
   "outputs": [],
   "source": [
    "effector_df_upstream_bed_5mC.columns = ['chr', 'start', 'end', '5mC_count']\n",
    "#Merge with effector_df_upstream_bed\n",
    "effector_df_tmp = effector_df[['gene_id', 'chr', 'upstream_start', 'upstream_end', 'strand', 'effector']]\n",
    "effector_df_tmp.columns = ['gene_id', 'chr', 'start', 'end', 'strand', 'effector']  #<-note this start and end is the upstream start and end\n",
    "\n",
    "#effector_df_upstream_bed = effector_df_upstream_bed.to_dataframe()\n",
    "effector_df_upstream_bed = effector_df_tmp.merge(effector_df_upstream_bed_5mC, on=['chr', 'start', 'end'], how='left')\n",
    "#fill na with 0\n",
    "effector_df_upstream_bed['5mC_count'] = effector_df_upstream_bed['5mC_count'].fillna(0)\n",
    "\n",
    "#Merge with effector_df_downstream_bed\n",
    "effector_df_downstream_bed_5mC.columns = ['chr', 'start', 'end', '5mC_count']\n",
    "#effector_df_downstream_bed = effector_df_downstream_bed.to_dataframe()\n",
    "effector_df_tmp = effector_df[['gene_id', 'chr', 'downstream_start', 'downstream_end', 'strand', 'effector']]\n",
    "effector_df_tmp.columns = ['gene_id', 'chr', 'start', 'end', 'strand', 'effector']  #<-note this start and end is the downstream start and end\n",
    "\n",
    "effector_df_downstream_bed = effector_df_tmp.merge(effector_df_downstream_bed_5mC, on=['chr', 'start', 'end'], how='left')\n",
    "#fill na with 0\n",
    "effector_df_downstream_bed['5mC_count'] = effector_df_downstream_bed['5mC_count'].fillna(0)"
   ]
  },
  {
   "cell_type": "code",
   "execution_count": 108,
   "metadata": {},
   "outputs": [],
   "source": [
    "bed_5mCpG = bed_5mC[['chr', 'start', 'end']]\n",
    "bed_5mCpG = pybedtools.BedTool.from_dataframe(bed_5mCpG)\n"
   ]
  },
  {
   "cell_type": "code",
   "execution_count": 39,
   "metadata": {},
   "outputs": [],
   "source": [
    "effector_df_tmp = effector_df[['gene_id', 'chr', 'upstream_start', 'upstream_end', 'strand', 'effector']]\n",
    "effector_df_tmp.columns = ['gene_id', 'chr', 'start', 'end', 'strand', 'effector'] "
   ]
  },
  {
   "cell_type": "code",
   "execution_count": 47,
   "metadata": {},
   "outputs": [
    {
     "data": {
      "text/html": [
       "<div>\n",
       "<style scoped>\n",
       "    .dataframe tbody tr th:only-of-type {\n",
       "        vertical-align: middle;\n",
       "    }\n",
       "\n",
       "    .dataframe tbody tr th {\n",
       "        vertical-align: top;\n",
       "    }\n",
       "\n",
       "    .dataframe thead th {\n",
       "        text-align: right;\n",
       "    }\n",
       "</style>\n",
       "<table border=\"1\" class=\"dataframe\">\n",
       "  <thead>\n",
       "    <tr style=\"text-align: right;\">\n",
       "      <th></th>\n",
       "      <th>gene_id</th>\n",
       "      <th>chr</th>\n",
       "      <th>start</th>\n",
       "      <th>end</th>\n",
       "      <th>strand</th>\n",
       "      <th>effector</th>\n",
       "      <th>5mC_count</th>\n",
       "    </tr>\n",
       "  </thead>\n",
       "  <tbody>\n",
       "    <tr>\n",
       "      <th>0</th>\n",
       "      <td>MK676_026288-T1</td>\n",
       "      <td>Chr18A</td>\n",
       "      <td>15728115</td>\n",
       "      <td>15729903</td>\n",
       "      <td>+</td>\n",
       "      <td>No</td>\n",
       "      <td>0.0</td>\n",
       "    </tr>\n",
       "    <tr>\n",
       "      <th>1</th>\n",
       "      <td>MK676_026287-T1</td>\n",
       "      <td>Chr18A</td>\n",
       "      <td>14502119</td>\n",
       "      <td>14503442</td>\n",
       "      <td>+</td>\n",
       "      <td>No</td>\n",
       "      <td>0.0</td>\n",
       "    </tr>\n",
       "    <tr>\n",
       "      <th>2</th>\n",
       "      <td>MK676_026286-T1</td>\n",
       "      <td>Chr17A</td>\n",
       "      <td>25052808</td>\n",
       "      <td>25054425</td>\n",
       "      <td>+</td>\n",
       "      <td>No</td>\n",
       "      <td>1.0</td>\n",
       "    </tr>\n",
       "    <tr>\n",
       "      <th>3</th>\n",
       "      <td>MK676_026285-T3</td>\n",
       "      <td>Chr17A</td>\n",
       "      <td>18836050</td>\n",
       "      <td>18837050</td>\n",
       "      <td>-</td>\n",
       "      <td>No</td>\n",
       "      <td>18.0</td>\n",
       "    </tr>\n",
       "    <tr>\n",
       "      <th>4</th>\n",
       "      <td>MK676_026284-T1</td>\n",
       "      <td>Chr17A</td>\n",
       "      <td>9983107</td>\n",
       "      <td>9984661</td>\n",
       "      <td>+</td>\n",
       "      <td>No</td>\n",
       "      <td>0.0</td>\n",
       "    </tr>\n",
       "    <tr>\n",
       "      <th>...</th>\n",
       "      <td>...</td>\n",
       "      <td>...</td>\n",
       "      <td>...</td>\n",
       "      <td>...</td>\n",
       "      <td>...</td>\n",
       "      <td>...</td>\n",
       "      <td>...</td>\n",
       "    </tr>\n",
       "    <tr>\n",
       "      <th>35567</th>\n",
       "      <td>MK675_000005-T1</td>\n",
       "      <td>Chr01B</td>\n",
       "      <td>392045</td>\n",
       "      <td>393233</td>\n",
       "      <td>+</td>\n",
       "      <td>No</td>\n",
       "      <td>2.0</td>\n",
       "    </tr>\n",
       "    <tr>\n",
       "      <th>35568</th>\n",
       "      <td>MK675_000004-T1</td>\n",
       "      <td>Chr01B</td>\n",
       "      <td>287348</td>\n",
       "      <td>288348</td>\n",
       "      <td>-</td>\n",
       "      <td>No</td>\n",
       "      <td>0.0</td>\n",
       "    </tr>\n",
       "    <tr>\n",
       "      <th>35569</th>\n",
       "      <td>MK675_000003-T1</td>\n",
       "      <td>Chr01B</td>\n",
       "      <td>282760</td>\n",
       "      <td>285056</td>\n",
       "      <td>+</td>\n",
       "      <td>No</td>\n",
       "      <td>1.0</td>\n",
       "    </tr>\n",
       "    <tr>\n",
       "      <th>35570</th>\n",
       "      <td>MK675_000002-T1</td>\n",
       "      <td>Chr01B</td>\n",
       "      <td>280927</td>\n",
       "      <td>282822</td>\n",
       "      <td>+</td>\n",
       "      <td>No</td>\n",
       "      <td>0.0</td>\n",
       "    </tr>\n",
       "    <tr>\n",
       "      <th>35571</th>\n",
       "      <td>MK675_000001-T1</td>\n",
       "      <td>Chr01B</td>\n",
       "      <td>102228</td>\n",
       "      <td>103228</td>\n",
       "      <td>-</td>\n",
       "      <td>No</td>\n",
       "      <td>3.0</td>\n",
       "    </tr>\n",
       "  </tbody>\n",
       "</table>\n",
       "<p>35572 rows × 7 columns</p>\n",
       "</div>"
      ],
      "text/plain": [
       "               gene_id     chr     start       end strand effector  5mC_count\n",
       "0      MK676_026288-T1  Chr18A  15728115  15729903      +       No        0.0\n",
       "1      MK676_026287-T1  Chr18A  14502119  14503442      +       No        0.0\n",
       "2      MK676_026286-T1  Chr17A  25052808  25054425      +       No        1.0\n",
       "3      MK676_026285-T3  Chr17A  18836050  18837050      -       No       18.0\n",
       "4      MK676_026284-T1  Chr17A   9983107   9984661      +       No        0.0\n",
       "...                ...     ...       ...       ...    ...      ...        ...\n",
       "35567  MK675_000005-T1  Chr01B    392045    393233      +       No        2.0\n",
       "35568  MK675_000004-T1  Chr01B    287348    288348      -       No        0.0\n",
       "35569  MK675_000003-T1  Chr01B    282760    285056      +       No        1.0\n",
       "35570  MK675_000002-T1  Chr01B    280927    282822      +       No        0.0\n",
       "35571  MK675_000001-T1  Chr01B    102228    103228      -       No        3.0\n",
       "\n",
       "[35572 rows x 7 columns]"
      ]
     },
     "execution_count": 47,
     "metadata": {},
     "output_type": "execute_result"
    }
   ],
   "source": [
    "effector_df_upstream_bed"
   ]
  },
  {
   "cell_type": "code",
   "execution_count": 51,
   "metadata": {},
   "outputs": [
    {
     "data": {
      "image/png": "[encoded data removed]",
      "text/plain": [
       "<Figure size 1000x500 with 1 Axes>"
      ]
     },
     "metadata": {},
     "output_type": "display_data"
    }
   ],
   "source": [
    "#Plot the 5mC sites for effector is yes with effector_df_upstream_bed\n",
    "import matplotlib.pyplot as plt\n",
    "import seaborn as sns\n",
    "import pandas as pd\n",
    "import numpy as np\n",
    "import matplotlib.patches as patches\n",
    "import matplotlib.pyplot as plt\n",
    "\n",
    "fig, ax = plt.subplots(figsize=(10, 5))\n",
    "sns.barplot(x='chr', y='5mC_count', data=effector_df_upstream_bed, hue='effector', ax=ax)\n",
    "plt.xlabel('Position')\n",
    "plt.ylabel('5mC count')\n",
    "plt.title('5mC count in upstream 1kb region')\n",
    "plt.show()"
   ]
  },
  {
   "cell_type": "code",
   "execution_count": 53,
   "metadata": {},
   "outputs": [
    {
     "data": {
      "image/png": "[encoded data removed]",
      "text/plain": [
       "<Figure size 1000x500 with 1 Axes>"
      ]
     },
     "metadata": {},
     "output_type": "display_data"
    }
   ],
   "source": [
    "fig, ax = plt.subplots(figsize=(10, 5))\n",
    "sns.barplot(x='chr', y='5mC_count', data=effector_df_downstream_bed, hue='effector', ax=ax)\n",
    "plt.xlabel('Position')\n",
    "plt.ylabel('5mC count')\n",
    "plt.title('5mC count in downstream 1kb region')\n",
    "plt.show()"
   ]
  },
  {
   "cell_type": "code",
   "execution_count": 42,
   "metadata": {},
   "outputs": [
    {
     "data": {
      "text/html": [
       "<div>\n",
       "<style scoped>\n",
       "    .dataframe tbody tr th:only-of-type {\n",
       "        vertical-align: middle;\n",
       "    }\n",
       "\n",
       "    .dataframe tbody tr th {\n",
       "        vertical-align: top;\n",
       "    }\n",
       "\n",
       "    .dataframe thead th {\n",
       "        text-align: right;\n",
       "    }\n",
       "</style>\n",
       "<table border=\"1\" class=\"dataframe\">\n",
       "  <thead>\n",
       "    <tr style=\"text-align: right;\">\n",
       "      <th></th>\n",
       "      <th>gene_id</th>\n",
       "      <th>chr</th>\n",
       "      <th>start</th>\n",
       "      <th>end</th>\n",
       "      <th>strand</th>\n",
       "      <th>effector</th>\n",
       "      <th>5mC_count</th>\n",
       "    </tr>\n",
       "  </thead>\n",
       "  <tbody>\n",
       "    <tr>\n",
       "      <th>0</th>\n",
       "      <td>MK676_026288-T1</td>\n",
       "      <td>Chr18A</td>\n",
       "      <td>15728115</td>\n",
       "      <td>15729903</td>\n",
       "      <td>+</td>\n",
       "      <td>No</td>\n",
       "      <td>NaN</td>\n",
       "    </tr>\n",
       "    <tr>\n",
       "      <th>1</th>\n",
       "      <td>MK676_026287-T1</td>\n",
       "      <td>Chr18A</td>\n",
       "      <td>14502119</td>\n",
       "      <td>14503442</td>\n",
       "      <td>+</td>\n",
       "      <td>No</td>\n",
       "      <td>NaN</td>\n",
       "    </tr>\n",
       "    <tr>\n",
       "      <th>2</th>\n",
       "      <td>MK676_026286-T1</td>\n",
       "      <td>Chr17A</td>\n",
       "      <td>25052808</td>\n",
       "      <td>25054425</td>\n",
       "      <td>+</td>\n",
       "      <td>No</td>\n",
       "      <td>1.0</td>\n",
       "    </tr>\n",
       "    <tr>\n",
       "      <th>3</th>\n",
       "      <td>MK676_026285-T3</td>\n",
       "      <td>Chr17A</td>\n",
       "      <td>18836050</td>\n",
       "      <td>18837050</td>\n",
       "      <td>-</td>\n",
       "      <td>No</td>\n",
       "      <td>18.0</td>\n",
       "    </tr>\n",
       "    <tr>\n",
       "      <th>4</th>\n",
       "      <td>MK676_026284-T1</td>\n",
       "      <td>Chr17A</td>\n",
       "      <td>9983107</td>\n",
       "      <td>9984661</td>\n",
       "      <td>+</td>\n",
       "      <td>No</td>\n",
       "      <td>NaN</td>\n",
       "    </tr>\n",
       "    <tr>\n",
       "      <th>...</th>\n",
       "      <td>...</td>\n",
       "      <td>...</td>\n",
       "      <td>...</td>\n",
       "      <td>...</td>\n",
       "      <td>...</td>\n",
       "      <td>...</td>\n",
       "      <td>...</td>\n",
       "    </tr>\n",
       "    <tr>\n",
       "      <th>35567</th>\n",
       "      <td>MK675_000005-T1</td>\n",
       "      <td>Chr01B</td>\n",
       "      <td>392045</td>\n",
       "      <td>393233</td>\n",
       "      <td>+</td>\n",
       "      <td>No</td>\n",
       "      <td>2.0</td>\n",
       "    </tr>\n",
       "    <tr>\n",
       "      <th>35568</th>\n",
       "      <td>MK675_000004-T1</td>\n",
       "      <td>Chr01B</td>\n",
       "      <td>287348</td>\n",
       "      <td>288348</td>\n",
       "      <td>-</td>\n",
       "      <td>No</td>\n",
       "      <td>NaN</td>\n",
       "    </tr>\n",
       "    <tr>\n",
       "      <th>35569</th>\n",
       "      <td>MK675_000003-T1</td>\n",
       "      <td>Chr01B</td>\n",
       "      <td>282760</td>\n",
       "      <td>285056</td>\n",
       "      <td>+</td>\n",
       "      <td>No</td>\n",
       "      <td>1.0</td>\n",
       "    </tr>\n",
       "    <tr>\n",
       "      <th>35570</th>\n",
       "      <td>MK675_000002-T1</td>\n",
       "      <td>Chr01B</td>\n",
       "      <td>280927</td>\n",
       "      <td>282822</td>\n",
       "      <td>+</td>\n",
       "      <td>No</td>\n",
       "      <td>NaN</td>\n",
       "    </tr>\n",
       "    <tr>\n",
       "      <th>35571</th>\n",
       "      <td>MK675_000001-T1</td>\n",
       "      <td>Chr01B</td>\n",
       "      <td>102228</td>\n",
       "      <td>103228</td>\n",
       "      <td>-</td>\n",
       "      <td>No</td>\n",
       "      <td>3.0</td>\n",
       "    </tr>\n",
       "  </tbody>\n",
       "</table>\n",
       "<p>35572 rows × 7 columns</p>\n",
       "</div>"
      ],
      "text/plain": [
       "               gene_id     chr     start       end strand effector  5mC_count\n",
       "0      MK676_026288-T1  Chr18A  15728115  15729903      +       No        NaN\n",
       "1      MK676_026287-T1  Chr18A  14502119  14503442      +       No        NaN\n",
       "2      MK676_026286-T1  Chr17A  25052808  25054425      +       No        1.0\n",
       "3      MK676_026285-T3  Chr17A  18836050  18837050      -       No       18.0\n",
       "4      MK676_026284-T1  Chr17A   9983107   9984661      +       No        NaN\n",
       "...                ...     ...       ...       ...    ...      ...        ...\n",
       "35567  MK675_000005-T1  Chr01B    392045    393233      +       No        2.0\n",
       "35568  MK675_000004-T1  Chr01B    287348    288348      -       No        NaN\n",
       "35569  MK675_000003-T1  Chr01B    282760    285056      +       No        1.0\n",
       "35570  MK675_000002-T1  Chr01B    280927    282822      +       No        NaN\n",
       "35571  MK675_000001-T1  Chr01B    102228    103228      -       No        3.0\n",
       "\n",
       "[35572 rows x 7 columns]"
      ]
     },
     "execution_count": 42,
     "metadata": {},
     "output_type": "execute_result"
    }
   ],
   "source": [
    "effector_df_tmp.merge(effector_df_upstream_bed_5mC, on=['chr', 'start', 'end'], how='left')"
   ]
  },
  {
   "cell_type": "code",
   "execution_count": 38,
   "metadata": {},
   "outputs": [
    {
     "data": {
      "text/html": [
       "<div>\n",
       "<style scoped>\n",
       "    .dataframe tbody tr th:only-of-type {\n",
       "        vertical-align: middle;\n",
       "    }\n",
       "\n",
       "    .dataframe tbody tr th {\n",
       "        vertical-align: top;\n",
       "    }\n",
       "\n",
       "    .dataframe thead th {\n",
       "        text-align: right;\n",
       "    }\n",
       "</style>\n",
       "<table border=\"1\" class=\"dataframe\">\n",
       "  <thead>\n",
       "    <tr style=\"text-align: right;\">\n",
       "      <th></th>\n",
       "      <th>chr</th>\n",
       "      <th>start</th>\n",
       "      <th>end</th>\n",
       "      <th>5mC_count</th>\n",
       "    </tr>\n",
       "  </thead>\n",
       "  <tbody>\n",
       "    <tr>\n",
       "      <th>0</th>\n",
       "      <td>Chr01A</td>\n",
       "      <td>130870</td>\n",
       "      <td>131870</td>\n",
       "      <td>2</td>\n",
       "    </tr>\n",
       "    <tr>\n",
       "      <th>1</th>\n",
       "      <td>Chr01A</td>\n",
       "      <td>195429</td>\n",
       "      <td>196429</td>\n",
       "      <td>2</td>\n",
       "    </tr>\n",
       "    <tr>\n",
       "      <th>2</th>\n",
       "      <td>Chr01A</td>\n",
       "      <td>314743</td>\n",
       "      <td>317039</td>\n",
       "      <td>2</td>\n",
       "    </tr>\n",
       "    <tr>\n",
       "      <th>3</th>\n",
       "      <td>Chr01A</td>\n",
       "      <td>545842</td>\n",
       "      <td>546842</td>\n",
       "      <td>4</td>\n",
       "    </tr>\n",
       "    <tr>\n",
       "      <th>4</th>\n",
       "      <td>Chr01A</td>\n",
       "      <td>555386</td>\n",
       "      <td>556386</td>\n",
       "      <td>2</td>\n",
       "    </tr>\n",
       "    <tr>\n",
       "      <th>...</th>\n",
       "      <td>...</td>\n",
       "      <td>...</td>\n",
       "      <td>...</td>\n",
       "      <td>...</td>\n",
       "    </tr>\n",
       "    <tr>\n",
       "      <th>19516</th>\n",
       "      <td>Chr18B</td>\n",
       "      <td>25755626</td>\n",
       "      <td>25757296</td>\n",
       "      <td>6</td>\n",
       "    </tr>\n",
       "    <tr>\n",
       "      <th>19517</th>\n",
       "      <td>Chr18B</td>\n",
       "      <td>25767499</td>\n",
       "      <td>25769319</td>\n",
       "      <td>3</td>\n",
       "    </tr>\n",
       "    <tr>\n",
       "      <th>19518</th>\n",
       "      <td>Chr18B</td>\n",
       "      <td>26054617</td>\n",
       "      <td>26055617</td>\n",
       "      <td>11</td>\n",
       "    </tr>\n",
       "    <tr>\n",
       "      <th>19519</th>\n",
       "      <td>Chr18B</td>\n",
       "      <td>26383376</td>\n",
       "      <td>26385960</td>\n",
       "      <td>8</td>\n",
       "    </tr>\n",
       "    <tr>\n",
       "      <th>19520</th>\n",
       "      <td>Chr18B</td>\n",
       "      <td>26469770</td>\n",
       "      <td>26470770</td>\n",
       "      <td>5</td>\n",
       "    </tr>\n",
       "  </tbody>\n",
       "</table>\n",
       "<p>19521 rows × 4 columns</p>\n",
       "</div>"
      ],
      "text/plain": [
       "          chr     start       end  5mC_count\n",
       "0      Chr01A    130870    131870          2\n",
       "1      Chr01A    195429    196429          2\n",
       "2      Chr01A    314743    317039          2\n",
       "3      Chr01A    545842    546842          4\n",
       "4      Chr01A    555386    556386          2\n",
       "...       ...       ...       ...        ...\n",
       "19516  Chr18B  25755626  25757296          6\n",
       "19517  Chr18B  25767499  25769319          3\n",
       "19518  Chr18B  26054617  26055617         11\n",
       "19519  Chr18B  26383376  26385960          8\n",
       "19520  Chr18B  26469770  26470770          5\n",
       "\n",
       "[19521 rows x 4 columns]"
      ]
     },
     "execution_count": 38,
     "metadata": {},
     "output_type": "execute_result"
    }
   ],
   "source": [
    "effector_df_upstream_bed_5mC"
   ]
  },
  {
   "cell_type": "code",
   "execution_count": 102,
   "metadata": {},
   "outputs": [
    {
     "data": {
      "text/plain": [
       "SeqRecord(seq=Seq('CG'), id='<unknown id>', name='<unknown name>', description='<unknown description>', dbxrefs=[])"
      ]
     },
     "execution_count": 102,
     "metadata": {},
     "output_type": "execute_result"
    }
   ],
   "source": [
    "test_chr1B[12446:12448].reverse_complement()"
   ]
  },
  {
   "cell_type": "code",
   "execution_count": 47,
   "metadata": {},
   "outputs": [],
   "source": [
    "test_chr1B = next((seq for seq in Au3_genome_renamed if seq.id == 'Chr01B'), None)"
   ]
  },
  {
   "cell_type": "code",
   "execution_count": 104,
   "metadata": {},
   "outputs": [
    {
     "data": {
      "text/plain": [
       "Seq('CG')"
      ]
     },
     "execution_count": 104,
     "metadata": {},
     "output_type": "execute_result"
    }
   ],
   "source": [
    "test_chr1B.seq[14157:14159]"
   ]
  },
  {
   "cell_type": "code",
   "execution_count": 81,
   "metadata": {},
   "outputs": [
    {
     "name": "stdout",
     "output_type": "stream",
     "text": [
      "AAATAAAACTTGGTTTTTTTAGTTTGGATTGTGATGAAAAAATATTTCAAATTTGTTTTCCAAAGCTCGTTGAGAAACGTGGCCTAAGTTTTTCTCCTCAAACTTCTCAAAGAGTAACAAGGTATCTTAAGTGCAAAAGGGAGTCGCGCAAAATCATGCTTCACTCAAGGCGAATCCTTTAGTAATGCTACAGGGAGAGATACTTTCACTCACCGAATACTTAAATGCGAGGATTTCAAACTGGAACATTTTTCTCGTACAGTACAGGCTTTGTCATACAGCTGTATTGGACAAAGAAGGTTTCACTTTTTCCCAGGTTTTTTTAGGTATGGAGAGGGAATATTGGGCGTTGATCTTCTCAAAACAGTCGTGTGCTTCACTATCACTCCTTCAGTAACATCTACAGGGAAAGAGATGCTTTTATTGGCTCATTACTTAAAATGCGAGGATACAAAATTAAAGCACGTCTTTCCTAAAGGCTCTCCAATGAGCCTTGGACGGGCACATTTTGCCTTGTCGTAGGTTTTGTTAGGTGTCGAGATACAATATTGAGGGTTGCTTGTTTCAAAATACTTGCGGAGGGCAGAGAAATTTTTTCATTTTCTGTGAAAGCTTGCGCTGTAGTCAACCTCATTTTTCATACCATCCCACATTGAGAGTAGCCTTCATCGCTGGTTGCTCCAGAAAGGGACCTCTCGATCCCTTAGCAAGGACAGGGACCAATAATATGCCGAAGAAGTTTTTACACTGTATTGGGCAGGAGGCGCATGCCCCTTCAGCGAGGTTTTTCCGCTCTTTGACCATGTTGGCTTTTTCCACCCATTGGGAAGGAAAGTCTGCAAGTCTTCCCAAGCATTAGAGAAAACCATTACGAATGATTGAGGCCTATAAGGCTCTGCTAGTTTGAAGGGTTGTTTGAAGTATATCCCACTATTCGACGGACGCCACCCCATCATTTTTTGTTTTACATTGTTCCATACGGCAATCCGCTTAATGATCG\n"
     ]
    }
   ],
   "source": [
    "print(test_chr1B.seq[8736713:8736713+1000].reverse_complement())"
   ]
  }
 ],
 "metadata": {
  "kernelspec": {
   "display_name": "biopy",
   "language": "python",
   "name": "python3"
  },
  "language_info": {
   "codemirror_mode": {
    "name": "ipython",
    "version": 3
   },
   "file_extension": ".py",
   "mimetype": "text/x-python",
   "name": "python",
   "nbconvert_exporter": "python",
   "pygments_lexer": "ipython3",
   "version": "3.10.12"
  }
 },
 "nbformat": 4,
 "nbformat_minor": 2
}
