{
 "cells": [
  {
   "cell_type": "code",
   "execution_count": 1,
   "metadata": {
    "vscode": {
     "languageId": "r"
    }
   },
   "outputs": [
    {
     "name": "stderr",
     "output_type": "stream",
     "text": [
      "Loading required package: regioneR\n",
      "\n",
      "Loading required package: GenomicRanges\n",
      "\n",
      "Loading required package: stats4\n",
      "\n",
      "Loading required package: BiocGenerics\n",
      "\n",
      "\n",
      "Attaching package: ‘BiocGenerics’\n",
      "\n",
      "\n",
      "The following objects are masked from ‘package:stats’:\n",
      "\n",
      "    IQR, mad, sd, var, xtabs\n",
      "\n",
      "\n",
      "The following objects are masked from ‘package:base’:\n",
      "\n",
      "    anyDuplicated, aperm, append, as.data.frame, basename, cbind,\n",
      "    colnames, dirname, do.call, duplicated, eval, evalq, Filter, Find,\n",
      "    get, grep, grepl, intersect, is.unsorted, lapply, Map, mapply,\n",
      "    match, mget, order, paste, pmax, pmax.int, pmin, pmin.int,\n",
      "    Position, rank, rbind, Reduce, rownames, sapply, setdiff, sort,\n",
      "    table, tapply, union, unique, unsplit, which.max, which.min\n",
      "\n",
      "\n",
      "Loading required package: S4Vectors\n",
      "\n",
      "\n",
      "Attaching package: ‘S4Vectors’\n",
      "\n",
      "\n",
      "The following object is masked from ‘package:utils’:\n",
      "\n",
      "    findMatches\n",
      "\n",
      "\n",
      "The following objects are masked from ‘package:base’:\n",
      "\n",
      "    expand.grid, I, unname\n",
      "\n",
      "\n",
      "Loading required package: IRanges\n",
      "\n",
      "Loading required package: GenomeInfoDb\n",
      "\n",
      "── \u001b[1mAttaching core tidyverse packages\u001b[22m ──────────────────────── tidyverse 2.0.0 ──\n",
      "\u001b[32m✔\u001b[39m \u001b[34mdplyr    \u001b[39m 1.1.4     \u001b[32m✔\u001b[39m \u001b[34mreadr    \u001b[39m 2.1.5\n",
      "\u001b[32m✔\u001b[39m \u001b[34mforcats  \u001b[39m 1.0.0     \u001b[32m✔\u001b[39m \u001b[34mstringr  \u001b[39m 1.5.1\n",
      "\u001b[32m✔\u001b[39m \u001b[34mggplot2  \u001b[39m 3.5.1     \u001b[32m✔\u001b[39m \u001b[34mtibble   \u001b[39m 3.2.1\n",
      "\u001b[32m✔\u001b[39m \u001b[34mlubridate\u001b[39m 1.9.3     \u001b[32m✔\u001b[39m \u001b[34mtidyr    \u001b[39m 1.3.1\n",
      "\u001b[32m✔\u001b[39m \u001b[34mpurrr    \u001b[39m 1.0.2     \n",
      "── \u001b[1mConflicts\u001b[22m ────────────────────────────────────────── tidyverse_conflicts() ──\n",
      "\u001b[31m✖\u001b[39m \u001b[34mlubridate\u001b[39m::\u001b[32m%within%()\u001b[39m masks \u001b[34mIRanges\u001b[39m::%within%()\n",
      "\u001b[31m✖\u001b[39m \u001b[34mdplyr\u001b[39m::\u001b[32mcollapse()\u001b[39m     masks \u001b[34mIRanges\u001b[39m::collapse()\n",
      "\u001b[31m✖\u001b[39m \u001b[34mdplyr\u001b[39m::\u001b[32mcombine()\u001b[39m      masks \u001b[34mBiocGenerics\u001b[39m::combine()\n",
      "\u001b[31m✖\u001b[39m \u001b[34mdplyr\u001b[39m::\u001b[32mdesc()\u001b[39m         masks \u001b[34mIRanges\u001b[39m::desc()\n",
      "\u001b[31m✖\u001b[39m \u001b[34mtidyr\u001b[39m::\u001b[32mexpand()\u001b[39m       masks \u001b[34mS4Vectors\u001b[39m::expand()\n",
      "\u001b[31m✖\u001b[39m \u001b[34mdplyr\u001b[39m::\u001b[32mfilter()\u001b[39m       masks \u001b[34mstats\u001b[39m::filter()\n",
      "\u001b[31m✖\u001b[39m \u001b[34mdplyr\u001b[39m::\u001b[32mfirst()\u001b[39m        masks \u001b[34mS4Vectors\u001b[39m::first()\n",
      "\u001b[31m✖\u001b[39m \u001b[34mdplyr\u001b[39m::\u001b[32mlag()\u001b[39m          masks \u001b[34mstats\u001b[39m::lag()\n",
      "\u001b[31m✖\u001b[39m \u001b[34mggplot2\u001b[39m::\u001b[32mPosition()\u001b[39m   masks \u001b[34mBiocGenerics\u001b[39m::Position(), \u001b[34mbase\u001b[39m::Position()\n",
      "\u001b[31m✖\u001b[39m \u001b[34mpurrr\u001b[39m::\u001b[32mreduce()\u001b[39m       masks \u001b[34mGenomicRanges\u001b[39m::reduce(), \u001b[34mIRanges\u001b[39m::reduce()\n",
      "\u001b[31m✖\u001b[39m \u001b[34mdplyr\u001b[39m::\u001b[32mrename()\u001b[39m       masks \u001b[34mS4Vectors\u001b[39m::rename()\n",
      "\u001b[31m✖\u001b[39m \u001b[34mlubridate\u001b[39m::\u001b[32msecond()\u001b[39m   masks \u001b[34mS4Vectors\u001b[39m::second()\n",
      "\u001b[31m✖\u001b[39m \u001b[34mlubridate\u001b[39m::\u001b[32msecond<-()\u001b[39m masks \u001b[34mS4Vectors\u001b[39m::second<-()\n",
      "\u001b[31m✖\u001b[39m \u001b[34mdplyr\u001b[39m::\u001b[32mslice()\u001b[39m        masks \u001b[34mIRanges\u001b[39m::slice()\n",
      "\u001b[36mℹ\u001b[39m Use the conflicted package (\u001b[3m\u001b[34m<http://conflicted.r-lib.org/>\u001b[39m\u001b[23m) to force all conflicts to become errors\n"
     ]
    }
   ],
   "source": [
    "library(cli)\n",
    "library(karyoploteR)\n",
    "library(tidyverse)\n",
    "library(GenomicRanges)\n",
    "library(regioneR)\n",
    "library(readxl)\n",
    "library(dplyr)"
   ]
  },
  {
   "cell_type": "code",
   "execution_count": 50,
   "metadata": {
    "vscode": {
     "languageId": "r"
    }
   },
   "outputs": [
    {
     "name": "stderr",
     "output_type": "stream",
     "text": [
      "\u001b[1mRows: \u001b[22m\u001b[34m20030\u001b[39m \u001b[1mColumns: \u001b[22m\u001b[34m9\u001b[39m\n",
      "\u001b[36m──\u001b[39m \u001b[1mColumn specification\u001b[22m \u001b[36m────────────────────────────────────────────────────────\u001b[39m\n",
      "\u001b[1mDelimiter:\u001b[22m \",\"\n",
      "\u001b[31mchr\u001b[39m (1): chrom\n",
      "\u001b[32mdbl\u001b[39m (8): start, end, GC, CpG, TE_cov, mCpG, gene_cov, mCpG/CpG\n",
      "\n",
      "\u001b[36mℹ\u001b[39m Use `spec()` to retrieve the full column specification for this data.\n",
      "\u001b[36mℹ\u001b[39m Specify the column types or set `show_col_types = FALSE` to quiet this message.\n"
     ]
    }
   ],
   "source": [
    "cen_table<- read_csv('../../data/CEN/cen_info.csv')%>%as.data.frame%>%\n",
    "  mutate(\n",
    "    start = as.numeric(start),\n",
    "    end = as.numeric(end),\n",
    "    GC = as.numeric(GC),\n",
    "    CpG = as.numeric(CpG),\n",
    "    TE_cov = as.numeric(TE_cov),\n",
    "    mCpG = as.numeric(mCpG),\n",
    "    `mCpG/CpG` = as.numeric(`mCpG/CpG`)  \n",
    "  )"
   ]
  },
  {
   "cell_type": "code",
   "execution_count": 51,
   "metadata": {
    "vscode": {
     "languageId": "r"
    }
   },
   "outputs": [],
   "source": [
    "to_minus<-cen_table%>%group_by(chrom)%>%summarise(to_minus = min(start))%>%as.data.frame"
   ]
  },
  {
   "cell_type": "code",
   "execution_count": 52,
   "metadata": {
    "vscode": {
     "languageId": "r"
    }
   },
   "outputs": [],
   "source": [
    "#left join to_minus to cen_table by chrom\n",
    "new_cen_table <-left_join(cen_table, to_minus, by ='chrom')"
   ]
  },
  {
   "cell_type": "code",
   "execution_count": null,
   "metadata": {
    "vscode": {
     "languageId": "r"
    }
   },
   "outputs": [],
   "source": [
    "#new_cen_table <-new_cen_table%>%mutate(start = start - to_minus, end = end- to_minus)"
   ]
  },
  {
   "cell_type": "code",
   "execution_count": 53,
   "metadata": {
    "vscode": {
     "languageId": "r"
    }
   },
   "outputs": [],
   "source": [
    "genome_size.c1<-cen_table%>%select(chrom)%>%unique\n",
    "genome_size.c2<-cen_table%>%group_by(chrom)%>%summarise(min(start))%>%as.data.frame%>%select('min(start)')\n",
    "genome_size.c3<-cen_table%>%group_by(chrom)%>%summarise(max(end))%>%as.data.frame%>%select('max(end)')\n",
    "genome<-data.frame(chr=genome_size.c1$chrom, start=genome_size.c2$`min(start)`, end=genome_size.c3$`max(end)`)"
   ]
  },
  {
   "cell_type": "code",
   "execution_count": 54,
   "metadata": {
    "vscode": {
     "languageId": "r"
    }
   },
   "outputs": [],
   "source": [
    "cen_position <-read.table('../../data/20250220_cen.table', header = F, sep = '\\t')\n",
    "colnames(cen_position)<-c('chrom', 'start','end')"
   ]
  },
  {
   "cell_type": "code",
   "execution_count": 55,
   "metadata": {
    "vscode": {
     "languageId": "r"
    }
   },
   "outputs": [],
   "source": [
    "new_cen_position <-left_join(cen_position, to_minus, by = 'chrom')\n",
    "new_cen_position <-new_cen_position%>%mutate(start = start - to_minus, end = end- to_minus)"
   ]
  },
  {
   "cell_type": "code",
   "execution_count": 56,
   "metadata": {
    "vscode": {
     "languageId": "r"
    }
   },
   "outputs": [],
   "source": [
    "partA<-genome%>%head(18)%>%toGRanges\n",
    "partB<-genome%>%tail(18)%>%toGRanges"
   ]
  },
  {
   "cell_type": "code",
   "execution_count": 57,
   "metadata": {
    "vscode": {
     "languageId": "r"
    }
   },
   "outputs": [
    {
     "data": {
      "text/plain": [
       "GRanges object with 20030 ranges and 1 metadata column:\n",
       "        seqnames            ranges strand |        GC\n",
       "           <Rle>         <IRanges>  <Rle> | <numeric>\n",
       "      1   Chr01A 33700000-33710000      * |     0.337\n",
       "      2   Chr01A 33710000-33720000      * |     0.379\n",
       "      3   Chr01A 33720000-33730000      * |     0.368\n",
       "      4   Chr01A 33730000-33740000      * |     0.433\n",
       "      5   Chr01A 33740000-33750000      * |     0.388\n",
       "    ...      ...               ...    ... .       ...\n",
       "  20026   Chr18B   7290000-7300000      * |     0.332\n",
       "  20027   Chr18B   7300000-7310000      * |     0.329\n",
       "  20028   Chr18B   7310000-7320000      * |     0.305\n",
       "  20029   Chr18B   7320000-7330000      * |     0.299\n",
       "  20030   Chr18B   7330000-7340000      * |     0.378\n",
       "  -------\n",
       "  seqinfo: 36 sequences from an unspecified genome; no seqlengths"
      ]
     },
     "metadata": {},
     "output_type": "display_data"
    }
   ],
   "source": [
    "GC_data<-cen_table%>%select(chrom, start,end, GC)%>%as.data.frame%>%toGRanges\n",
    "GC_data\n"
   ]
  },
  {
   "cell_type": "code",
   "execution_count": 61,
   "metadata": {
    "vscode": {
     "languageId": "r"
    }
   },
   "outputs": [
    {
     "name": "stderr",
     "output_type": "stream",
     "text": [
      "No predefined canonical chromosomes found for the requested genome. Applying a heuristic chromosome filtering.\n",
      "\n",
      "To get the unfiltered genome, please set chromosomes=\"all\" in the plotKaryotype call\n",
      "\n"
     ]
    },
    {
     "data": {
      "text/html": [
       "<strong>png:</strong> 2"
      ],
      "text/latex": [
       "\\textbf{png:} 2"
      ],
      "text/markdown": [
       "**png:** 2"
      ],
      "text/plain": [
       "png \n",
       "  2 "
      ]
     },
     "metadata": {},
     "output_type": "display_data"
    }
   ],
   "source": [
    "options(repr.plot.width=12, repr.plot.height=16)\n",
    "pdf(\"../../data/20250221_Au3_partA_cen.pdf\", width=12, height=16)\n",
    "kp <- plotKaryotype(genome = partA, plot.type=2)\n",
    "kpAddBaseNumbers(kp, tick.dist=1000000, tick.len=10, add.units=TRUE, digits=2, minor.ticks=TRUE, minor.tick.dist=100000, minor.tick.len=5,  cex=0.7, tick.col='black', minor.tick.col='red')\n",
    "kpRect(kp, chr=cen_position$chrom, x0 = cen_position$start, x1 = cen_position$end, y0 = -2, y1 = 0.5, col = rgb(0, 0, 1, 0.2), border = \"NA\")\n",
    "#kpHeatmap(kp, GC_data, y = cen_table$TE_cov, col=c(\"white\",\"yellow\",\"red\"),ymin=0, ymax=1,lwd=0.2, data.panel = \"ideogram\" )\n",
    "#kpLines(kp, chr =cen_table$chrom, x=(cen_table$start +cen_table$end)/2, y = (cen_table$GC), r0=0, r1=0.5,col=\"darkgreen\",ymin=0, ymax=1,lwd=0, data.panel = 1 )\n",
    "#kpLines(kp, chr =cen_table$chrom, x=(cen_table$start +cen_table$end)/2, y = (cen_table$CpG), r0=0.8, r1=0.2,col=\"red\",ymin=0, ymax=100,lwd=0.3, data.panel = 2 )\n",
    "#kpLines(kp, chr =cen_table$chrom, x=(cen_table$start +cen_table$end)/2, y = (cen_table$mCpG), r0=0.8, r1=0.2,col=\"blue\",ymin=0, ymax=100,lwd=0.3, data.panel = 2 )\n",
    "kpLines(kp, chr =cen_table$chrom, x=(cen_table$start +cen_table$end)/2, y = (cen_table$GC),r0=0, r1=0.5,col=\"orange\",ymin=0, ymax=1,lwd=0.5, data.panel = 1 )\n",
    "kpLines(kp, chr =cen_table$chrom, x=(cen_table$start +cen_table$end)/2, y = (cen_table$TE_cov), r0=0.8, r1=0.5,col=\"blue\",ymin=0, ymax=1,lwd=0.5, data.panel = 2 )\n",
    "kpLines(kp, chr =cen_table$chrom, x=(cen_table$start +cen_table$end)/2, y = (cen_table$gene_cov), r0=0.5, r1=0.2,col=\"red\",ymin=0, ymax=1,lwd=0.5, data.panel = 2 )\n",
    "kpLines(kp, chr =cen_table$chrom, x=(cen_table$start +cen_table$end)/2, y = (cen_table$`mCpG/CpG`), r0=1.5, r1=0.9,col=\"black\",ymin=0, ymax=1,lwd=0.5, data.panel = 2 )\n",
    "kpAxis(kp, ymax=100, ymin=0, r0=0, r1=0.5, cex=0.5)\n",
    "kpAxis(kp, ymax=100, ymin=0, r0=0.8, r1=0.2, cex=0.5, data.panel = 2)\n",
    "kpAxis(kp, ymax=100, ymin=0, r0=1.5, r1=0.9, cex=0.5, data.panel = 2)\n",
    "kpDataBackground(kp, data.panel = 2, col=rgb(0.219, 0.216, 0.206, 0.1),r0 =0.8, r1=0.2)\n",
    "kpDataBackground(kp, data.panel = 1, col=rgb(0.219, 0.216, 0.206, 0.1),r0 =0, r1=0.5)\n",
    "kpDataBackground(kp, data.panel = 2, col=rgb(0.219, 0.216, 0.206, 0.1),r0=1.5, r1=0.9)\n",
    "dev.off()\n"
   ]
  },
  {
   "cell_type": "code",
   "execution_count": 62,
   "metadata": {
    "vscode": {
     "languageId": "r"
    }
   },
   "outputs": [
    {
     "name": "stderr",
     "output_type": "stream",
     "text": [
      "No predefined canonical chromosomes found for the requested genome. Applying a heuristic chromosome filtering.\n",
      "\n",
      "To get the unfiltered genome, please set chromosomes=\"all\" in the plotKaryotype call\n",
      "\n"
     ]
    },
    {
     "data": {
      "text/html": [
       "<strong>png:</strong> 2"
      ],
      "text/latex": [
       "\\textbf{png:} 2"
      ],
      "text/markdown": [
       "**png:** 2"
      ],
      "text/plain": [
       "png \n",
       "  2 "
      ]
     },
     "metadata": {},
     "output_type": "display_data"
    }
   ],
   "source": [
    "options(repr.plot.width=12, repr.plot.height=16)\n",
    "pdf(\"../../data/20250221_Au3_partB_cen.pdf\", width=12, height=16)\n",
    "kp <- plotKaryotype(genome = partB, plot.type=2)\n",
    "kpAddBaseNumbers(kp, tick.dist=1000000, tick.len=10, add.units=TRUE, digits=2, minor.ticks=TRUE, minor.tick.dist=100000, minor.tick.len=5,  cex=0.7, tick.col='black', minor.tick.col='red')\n",
    "kpRect(kp, chr=cen_position$chrom, x0 = cen_position$start, x1 = cen_position$end, y0 = -2, y1 = 0.5, col = rgb(0, 0, 1, 0.2), border = \"NA\")\n",
    "#kpHeatmap(kp, GC_data, y = cen_table$TE_cov, col=c(\"white\",\"yellow\",\"red\"),ymin=0, ymax=1,lwd=0.2, data.panel = \"ideogram\" )\n",
    "#kpLines(kp, chr =cen_table$chrom, x=(cen_table$start +cen_table$end)/2, y = (cen_table$GC), r0=0, r1=0.5,col=\"darkgreen\",ymin=0, ymax=1,lwd=0, data.panel = 1 )\n",
    "#kpLines(kp, chr =cen_table$chrom, x=(cen_table$start +cen_table$end)/2, y = (cen_table$CpG), r0=0.8, r1=0.2,col=\"red\",ymin=0, ymax=100,lwd=0.3, data.panel = 2 )\n",
    "#kpLines(kp, chr =cen_table$chrom, x=(cen_table$start +cen_table$end)/2, y = (cen_table$mCpG), r0=0.8, r1=0.2,col=\"blue\",ymin=0, ymax=100,lwd=0.3, data.panel = 2 )\n",
    "kpLines(kp, chr =cen_table$chrom, x=(cen_table$start +cen_table$end)/2, y = (cen_table$GC),r0=0, r1=0.5,col=\"orange\",ymin=0, ymax=1,lwd=0.3, data.panel = 1 )\n",
    "kpLines(kp, chr =cen_table$chrom, x=(cen_table$start +cen_table$end)/2, y = (cen_table$TE_cov), r0=0.8, r1=0.5,col=\"blue\",ymin=0, ymax=1,lwd=0.3, data.panel = 2 )\n",
    "kpLines(kp, chr =cen_table$chrom, x=(cen_table$start +cen_table$end)/2, y = (cen_table$gene_cov), r0=0.5, r1=0.2,col=\"red\",ymin=0, ymax=1,lwd=0.3, data.panel = 2 )\n",
    "kpLines(kp, chr =cen_table$chrom, x=(cen_table$start +cen_table$end)/2, y = (cen_table$`mCpG/CpG`), r0=1.5, r1=0.9,col=\"black\",ymin=0, ymax=1,lwd=0.2, data.panel = 2 )\n",
    "kpAxis(kp, ymax=100, ymin=0, r0=0, r1=0.5, cex=0.5)\n",
    "kpAxis(kp, ymax=100, ymin=0, r0=0.8, r1=0.2, cex=0.5, data.panel = 2)\n",
    "kpAxis(kp, ymax=100, ymin=0, r0=1.5, r1=0.9, cex=0.5, data.panel = 2)\n",
    "kpDataBackground(kp, data.panel = 2, col=rgb(0.219, 0.216, 0.206, 0.1),r0 =0.8, r1=0.2)\n",
    "kpDataBackground(kp, data.panel = 1, col=rgb(0.219, 0.216, 0.206, 0.1),r0 =0, r1=0.5)\n",
    "kpDataBackground(kp, data.panel = 2, col=rgb(0.219, 0.216, 0.206, 0.1),r0=1.5, r1=0.9)\n",
    "dev.off()\n"
   ]
  }
 ],
 "metadata": {
  "kernelspec": {
   "display_name": "R",
   "language": "R",
   "name": "ir"
  },
  "language_info": {
   "codemirror_mode": "r",
   "file_extension": ".r",
   "mimetype": "text/x-r-source",
   "name": "R",
   "pygments_lexer": "r",
   "version": "4.3.2"
  }
 },
 "nbformat": 4,
 "nbformat_minor": 2
}
