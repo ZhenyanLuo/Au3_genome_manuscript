{
 "cells": [
  {
   "cell_type": "code",
   "execution_count": 1,
   "metadata": {},
   "outputs": [],
   "source": [
    "import sys\n",
    "import pandas as pd\n",
    "from Bio import SeqIO\n",
    "from Bio import SearchIO\n",
    "import os\n",
    "import glob\n",
    "from pathlib import Path\n",
    "from Bio import AlignIO\n",
    "from Bio.SeqRecord import SeqRecord\n",
    "from Bio.Seq import Seq\n",
    "import numpy as np"
   ]
  },
  {
   "cell_type": "code",
   "execution_count": 2,
   "metadata": {},
   "outputs": [],
   "source": [
    "os.chdir('../../data/Au3_deduplicate')"
   ]
  },
  {
   "cell_type": "code",
   "execution_count": 3,
   "metadata": {},
   "outputs": [],
   "source": [
    "Au3_cds = list(SeqIO.parse('Au3.cds', 'fasta'))\n",
    "Au3_faa = list(SeqIO.parse('Au3.faa', 'fasta'))"
   ]
  },
  {
   "cell_type": "code",
   "execution_count": 55,
   "metadata": {},
   "outputs": [],
   "source": [
    "Au3_duplicate_gene_list = pd.read_csv('../Au3_duplicate_gene.txt', header=None)\n",
    "Au3_duplicate_gene_list = list(Au3_duplicate_gene_list[0])"
   ]
  },
  {
   "cell_type": "code",
   "execution_count": 56,
   "metadata": {},
   "outputs": [],
   "source": [
    "Au3_cds_deduplicate = []\n",
    "Au3_faa_deduplicate = []\n",
    "for i in range(len(Au3_cds)):\n",
    "    header = Au3_cds[i].id.strip().split('-')[0]\n",
    "    if header not in Au3_duplicate_gene_list:\n",
    "        Au3_cds_deduplicate.append(Au3_cds[i])\n",
    "for i in range(len(Au3_faa)):\n",
    "    header = Au3_faa[i].id.strip().split('-')[0]\n",
    "    if header not in Au3_duplicate_gene_list:\n",
    "        Au3_faa_deduplicate.append(Au3_faa[i])"
   ]
  },
  {
   "cell_type": "code",
   "execution_count": 72,
   "metadata": {},
   "outputs": [
    {
     "data": {
      "text/plain": [
       "38160"
      ]
     },
     "execution_count": 72,
     "metadata": {},
     "output_type": "execute_result"
    }
   ],
   "source": [
    "#Write deduplicated CDS and protein sequences\n",
    "SeqIO.write(Au3_cds_deduplicate, 'Au3_deduplicate.cds', 'fasta')\n",
    "SeqIO.write(Au3_faa_deduplicate, 'Au3_deduplicate.faa', 'fasta')"
   ]
  },
  {
   "cell_type": "code",
   "execution_count": 58,
   "metadata": {},
   "outputs": [],
   "source": [
    "Au3_gff = pd.read_csv('Au3.gff3', sep='\\t', header=None, comment='#')\n",
    "Au3_gff.columns = ['seqid', 'source', 'type', 'start', 'end', 'score', 'strand', 'phase', 'attributes']"
   ]
  },
  {
   "cell_type": "code",
   "execution_count": 59,
   "metadata": {},
   "outputs": [],
   "source": [
    "#If attributes not contains duplicate gene, write to deduplicate gff file\n",
    "Au3_gff_deduplicate = []\n",
    "for i in range(len(Au3_gff)):\n",
    "    gene = Au3_gff['attributes'][i].strip().split(';')[0].split('=')[1].split('-')[0]\n",
    "    if gene not in Au3_duplicate_gene_list:\n",
    "        Au3_gff_deduplicate.append(Au3_gff.iloc[i])\n",
    "Au3_gff_deduplicate = pd.DataFrame(Au3_gff_deduplicate)"
   ]
  },
  {
   "cell_type": "code",
   "execution_count": 73,
   "metadata": {},
   "outputs": [],
   "source": [
    "#Write deduplicated gff file\n",
    "Au3_gff_deduplicate.to_csv('Au3_deduplicate.gff3', sep='\\t', header=False, index=False)"
   ]
  },
  {
   "cell_type": "code",
   "execution_count": 61,
   "metadata": {},
   "outputs": [],
   "source": [
    "#hapA_seq list contain HapA in seqid but not contain CHR14ab\n",
    "hapA_seq_list = Au3_gff[Au3_gff['seqid'].str.contains('HapA') & ~Au3_gff['seqid'].str.contains('CHR14ab')]['seqid'].unique()\n",
    "hapB_seq_list = Au3_gff[Au3_gff['seqid'].str.contains('HapB') | Au3_gff['seqid'].str.contains('CHR14ab')]['seqid'].unique()"
   ]
  },
  {
   "cell_type": "code",
   "execution_count": 62,
   "metadata": {},
   "outputs": [],
   "source": [
    "Au3_gff_deduplicate_gene = Au3_gff_deduplicate[Au3_gff_deduplicate['type'] == 'gene']\n",
    "Au3_gff_deduplicate_gene_hapA = Au3_gff_deduplicate_gene[Au3_gff_deduplicate_gene['seqid'].isin(hapA_seq_list)]\n",
    "Au3_gff_deduplicate_gene_hapB = Au3_gff_deduplicate_gene[Au3_gff_deduplicate_gene['seqid'].isin(hapB_seq_list)]"
   ]
  },
  {
   "cell_type": "code",
   "execution_count": 74,
   "metadata": {},
   "outputs": [
    {
     "name": "stderr",
     "output_type": "stream",
     "text": [
      "/tmp/ipykernel_73672/3426300053.py:1: SettingWithCopyWarning: \n",
      "A value is trying to be set on a copy of a slice from a DataFrame.\n",
      "Try using .loc[row_indexer,col_indexer] = value instead\n",
      "\n",
      "See the caveats in the documentation: https://pandas.pydata.org/pandas-docs/stable/user_guide/indexing.html#returning-a-view-versus-a-copy\n",
      "  Au3_gff_deduplicate_gene_hapA['attributes'] = Au3_gff_deduplicate_gene_hapA['attributes'].str.split(';').str[0] + '-T1;'\n",
      "/tmp/ipykernel_73672/3426300053.py:2: SettingWithCopyWarning: \n",
      "A value is trying to be set on a copy of a slice from a DataFrame.\n",
      "Try using .loc[row_indexer,col_indexer] = value instead\n",
      "\n",
      "See the caveats in the documentation: https://pandas.pydata.org/pandas-docs/stable/user_guide/indexing.html#returning-a-view-versus-a-copy\n",
      "  Au3_gff_deduplicate_gene_hapB['attributes'] = Au3_gff_deduplicate_gene_hapB['attributes'].str.split(';').str[0] + '-T1;'\n"
     ]
    }
   ],
   "source": [
    "Au3_gff_deduplicate_gene_hapA['attributes'] = Au3_gff_deduplicate_gene_hapA['attributes'].str.split(';').str[0] + '-T1;'\n",
    "Au3_gff_deduplicate_gene_hapB['attributes'] = Au3_gff_deduplicate_gene_hapB['attributes'].str.split(';').str[0] + '-T1;'\n",
    "Au3_gff_deduplicate_gene_hapA.to_csv('Au3_deduplicate_hapA.gff3', sep='\\t', header=False, index=False)\n",
    "Au3_gff_deduplicate_gene_hapB.to_csv('Au3_deduplicate_hapB.gff3', sep='\\t', header=False, index=False)"
   ]
  },
  {
   "cell_type": "code",
   "execution_count": 66,
   "metadata": {},
   "outputs": [
    {
     "data": {
      "text/plain": [
       "19590"
      ]
     },
     "execution_count": 66,
     "metadata": {},
     "output_type": "execute_result"
    }
   ],
   "source": [
    "len(Au3_gff_deduplicate_gene_hapA)"
   ]
  },
  {
   "cell_type": "code",
   "execution_count": 67,
   "metadata": {},
   "outputs": [
    {
     "data": {
      "text/plain": [
       "16913"
      ]
     },
     "execution_count": 67,
     "metadata": {},
     "output_type": "execute_result"
    }
   ],
   "source": [
    "len(Au3_gff_deduplicate_gene_hapB)"
   ]
  },
  {
   "cell_type": "code",
   "execution_count": 68,
   "metadata": {},
   "outputs": [],
   "source": [
    "Au3_gff_deduplicate_gene_hapA_list = list(Au3_gff_deduplicate_gene_hapA['attributes'].str.split(';').str[0].str.split('=').str[1])\n",
    "Au3_gff_deduplicate_gene_hapB_list = list(Au3_gff_deduplicate_gene_hapB['attributes'].str.split(';').str[0].str.split('=').str[1])"
   ]
  },
  {
   "cell_type": "code",
   "execution_count": 69,
   "metadata": {},
   "outputs": [],
   "source": [
    "#Extract hapA and hapB CDS and protein sequences\n",
    "hapA_cds = []\n",
    "hapA_faa = []\n",
    "hapB_cds = []\n",
    "hapB_faa = []\n",
    "for i in range(len(Au3_cds_deduplicate)):\n",
    "    header = Au3_cds_deduplicate[i].id.strip()\n",
    "    if header in Au3_gff_deduplicate_gene_hapA_list:\n",
    "        hapA_cds.append(Au3_cds_deduplicate[i])\n",
    "    elif header in Au3_gff_deduplicate_gene_hapB_list:\n",
    "        hapB_cds.append(Au3_cds_deduplicate[i])\n",
    "for i in range(len(Au3_faa_deduplicate)):\n",
    "    header = Au3_faa_deduplicate[i].id.strip()\n",
    "    if header in Au3_gff_deduplicate_gene_hapA_list:\n",
    "        hapA_faa.append(Au3_faa_deduplicate[i])\n",
    "    elif header in Au3_gff_deduplicate_gene_hapB_list:\n",
    "        hapB_faa.append(Au3_faa_deduplicate[i])"
   ]
  },
  {
   "cell_type": "code",
   "execution_count": 75,
   "metadata": {},
   "outputs": [
    {
     "data": {
      "text/plain": [
       "16419"
      ]
     },
     "execution_count": 75,
     "metadata": {},
     "output_type": "execute_result"
    }
   ],
   "source": [
    "SeqIO.write(hapA_cds, 'Au3_deduplicate_hapA.cds', 'fasta')\n",
    "SeqIO.write(hapA_faa, 'Au3_deduplicate_hapA.faa', 'fasta')\n",
    "SeqIO.write(hapB_cds, 'Au3_deduplicate_hapB.cds', 'fasta')\n",
    "SeqIO.write(hapB_faa, 'Au3_deduplicate_hapB.faa', 'fasta')"
   ]
  }
 ],
 "metadata": {
  "kernelspec": {
   "display_name": "biopy",
   "language": "python",
   "name": "python3"
  },
  "language_info": {
   "codemirror_mode": {
    "name": "ipython",
    "version": 3
   },
   "file_extension": ".py",
   "mimetype": "text/x-python",
   "name": "python",
   "nbconvert_exporter": "python",
   "pygments_lexer": "ipython3",
   "version": "3.10.12"
  }
 },
 "nbformat": 4,
 "nbformat_minor": 2
}
