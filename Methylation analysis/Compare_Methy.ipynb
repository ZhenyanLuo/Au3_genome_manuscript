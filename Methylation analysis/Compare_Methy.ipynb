{
 "cells": [
  {
   "cell_type": "code",
   "execution_count": 1,
   "metadata": {},
   "outputs": [],
   "source": [
    "import sys\n",
    "import re\n",
    "import os\n",
    "import pandas as pd\n",
    "import glob\n",
    "from pathlib import Path\n",
    "import Bio\n",
    "import numpy as np\n",
    "from pybedtools import BedTool\n",
    "import pybedtools\n",
    "from Bio import SeqIO\n",
    "from concurrent.futures import ThreadPoolExecutor\n",
    "import multiprocessing as mp\n",
    "from matplotlib import pyplot as plt\n",
    "import seaborn as sns\n",
    "from scipy import stats\n"
   ]
  },
  {
   "cell_type": "code",
   "execution_count": null,
   "metadata": {},
   "outputs": [],
   "source": []
  },
  {
   "cell_type": "markdown",
   "metadata": {},
   "source": []
  },
  {
   "cell_type": "markdown",
   "metadata": {},
   "source": [
    "#Preprocess 5mCpG\n",
    "cat Pacbio_Au3_v3.pbCpG.bed|grep -v 'CHR14_ab'|grep -v '#'|grep 'HapA'|sed -e 's/APSI_AU3_HapA_CHR/Chr/'|awk '{if($4 >=50) print}'|awk -v OFS='\\t' '{if($7 >=4)print $1\"A\",$2,$3,$4,$7}' >Au3_5mCpG.bed\n",
    "cat Pacbio_Au3_v3.pbCpG.bed|grep 'CHR14_ab\\|HapB'|sed -e 's/APSI_AU3_HapA_CHR14_ab/APSI_AU3_HapB_CHR14/'|grep -v '#'|grep 'HapB'|sed -e 's/APSI_AU3_HapB_CHR/Chr/'|awk '{if($4 >=50) print}'|awk -v OFS='\\t' '{if($7 >=4)print $1\"B\",$2,$3,$4,$7}' >>Au3_5mCpG.bed\n",
    "#Preprocess 6mA and 4mC (6mA and 4mC already filter with removing coverage lower than 4)\n",
    "\n",
    "cat Pacbio_M4C_Au3.csv|sed -e 's/,/ /g'|grep -v '#'|grep -v 'CHR14_ab'|grep 'HapA'|sed -e 's/APSI_AU3_HapA_CHR/Chr/'|awk -v OFS='\\t' '{print $1\"A\", $3,$4, $6, $7}' >Au3_4mC.bed\n",
    "cat Pacbio_M4C_Au3.csv|sed -e 's/,/ /g'|grep -v '#'|grep 'CHR14_ab\\|HapB'|sed -e 's/APSI_AU3_HapA_CHR14_ab/APSI_AU3_HapB_CHR14/'|grep 'HapB'|sed -e 's/APSI_AU3_HapB_CHR/Chr/'|awk -v OFS='\\t' '{print $1\"B\", $3,$4, $6, $7}' >>Au3_4mC.bed\n",
    "\n",
    "cat Pacbio_M6A_Au3.csv|sed -e 's/,/ /g'|grep -v '#'|grep -v 'CHR14_ab'|grep 'HapA'|sed -e 's/APSI_AU3_HapA_CHR/Chr/'|awk -v OFS='\\t' '{print $1\"A\", $3,$4, $6, $7}' >Au3_6mA.bed\n",
    "cat Pacbio_M6A_Au3.csv|sed -e 's/,/ /g'|grep -v '#'|grep 'CHR14_ab\\|HapB'|sed -e 's/APSI_AU3_HapA_CHR14_ab/APSI_AU3_HapB_CHR14/'|grep 'HapB'|sed -e 's/APSI_AU3_HapB_CHR/Chr/'|awk -v OFS='\\t' '{print $1\"B\", $3,$4, $6, $7}' >>Au3_6mA.bed\n",
    "\n",
    "#Ignore strand here(not save the column with strand information and only capture '+' strand)\n",
    "cat Au3_4mC.bed|awk -v OFS='\\t' '{if($4 == \"+\") print $0}' >Au3_4mC_forward.bed\n",
    "cat Au3_4mC.bed|awk -v OFS='\\t' '{if($4 == \"-\") print $0}' >Au3_4mC_reverse.bed\n",
    "cat Au3_6mA.bed|awk -v OFS='\\t' '{if($4 == \"+\") print $0}' >Au3_6mA_forward.bed\n",
    "cat Au3_6mA.bed|awk -v OFS='\\t' '{if($4 == \"-\") print $0}' >Au3_6mA_reverse.bed\n",
    "\n"
   ]
  },
  {
   "cell_type": "code",
   "execution_count": 2,
   "metadata": {},
   "outputs": [],
   "source": [
    "os.chdir('../../data/Methylation/')"
   ]
  },
  {
   "cell_type": "code",
   "execution_count": 3,
   "metadata": {},
   "outputs": [],
   "source": [
    "bed_4mC = pd.read_table('Au3_4mC_forward.bed', header=None)\n",
    "bed_4mC.columns = ['chr', 'start', 'end', 'strand','score']\n",
    "bed_6mA = pd.read_table('Au3_6mA_forward.bed', header=None)\n",
    "bed_6mA.columns = ['chr', 'start', 'end', 'strand','score']\n",
    "bed_5mC = pd.read_table('Au3_5mCpG_filtered.bed', header=None)\n",
    "bed_5mC.columns = ['chr', 'start', 'end', 'score','reads_count']"
   ]
  },
  {
   "cell_type": "code",
   "execution_count": 4,
   "metadata": {},
   "outputs": [],
   "source": [
    "genome = pd.read_table('Au3.genome', header=None, sep=' ')\n",
    "genome.columns = ['chr', 'size']"
   ]
  },
  {
   "cell_type": "code",
   "execution_count": 5,
   "metadata": {},
   "outputs": [
    {
     "name": "stderr",
     "output_type": "stream",
     "text": [
      "/tmp/ipykernel_182077/3423421318.py:3: SettingWithCopyWarning: \n",
      "A value is trying to be set on a copy of a slice from a DataFrame.\n",
      "Try using .loc[row_indexer,col_indexer] = value instead\n",
      "\n",
      "See the caveats in the documentation: https://pandas.pydata.org/pandas-docs/stable/user_guide/indexing.html#returning-a-view-versus-a-copy\n",
      "  telomere_hapA['id'] = telomere_hapA['id'] + 'A'\n",
      "/tmp/ipykernel_182077/3423421318.py:4: SettingWithCopyWarning: \n",
      "A value is trying to be set on a copy of a slice from a DataFrame.\n",
      "Try using .loc[row_indexer,col_indexer] = value instead\n",
      "\n",
      "See the caveats in the documentation: https://pandas.pydata.org/pandas-docs/stable/user_guide/indexing.html#returning-a-view-versus-a-copy\n",
      "  telomere_hapA['id'] = telomere_hapA['id'].str.replace('AU3_HapA_CHR', 'Chr')\n",
      "/tmp/ipykernel_182077/3423421318.py:6: SettingWithCopyWarning: \n",
      "A value is trying to be set on a copy of a slice from a DataFrame.\n",
      "Try using .loc[row_indexer,col_indexer] = value instead\n",
      "\n",
      "See the caveats in the documentation: https://pandas.pydata.org/pandas-docs/stable/user_guide/indexing.html#returning-a-view-versus-a-copy\n",
      "  telomere_hapB['id'] = telomere_hapB['id'] + 'B'\n",
      "/tmp/ipykernel_182077/3423421318.py:7: SettingWithCopyWarning: \n",
      "A value is trying to be set on a copy of a slice from a DataFrame.\n",
      "Try using .loc[row_indexer,col_indexer] = value instead\n",
      "\n",
      "See the caveats in the documentation: https://pandas.pydata.org/pandas-docs/stable/user_guide/indexing.html#returning-a-view-versus-a-copy\n",
      "  telomere_hapB['id'] = telomere_hapB['id'].str.replace('AU3_HapB_CHR', 'Chr')\n",
      "/tmp/ipykernel_182077/3423421318.py:10: SettingWithCopyWarning: \n",
      "A value is trying to be set on a copy of a slice from a DataFrame.\n",
      "Try using .loc[row_indexer,col_indexer] = value instead\n",
      "\n",
      "See the caveats in the documentation: https://pandas.pydata.org/pandas-docs/stable/user_guide/indexing.html#returning-a-view-versus-a-copy\n",
      "  telomere_df_fwd['start'] = telomere_df_fwd['window'] - 50\n",
      "/tmp/ipykernel_182077/3423421318.py:11: SettingWithCopyWarning: \n",
      "A value is trying to be set on a copy of a slice from a DataFrame.\n",
      "Try using .loc[row_indexer,col_indexer] = value instead\n",
      "\n",
      "See the caveats in the documentation: https://pandas.pydata.org/pandas-docs/stable/user_guide/indexing.html#returning-a-view-versus-a-copy\n",
      "  telomere_df_fwd['end'] = telomere_df_fwd['window']\n",
      "/tmp/ipykernel_182077/3423421318.py:14: SettingWithCopyWarning: \n",
      "A value is trying to be set on a copy of a slice from a DataFrame.\n",
      "Try using .loc[row_indexer,col_indexer] = value instead\n",
      "\n",
      "See the caveats in the documentation: https://pandas.pydata.org/pandas-docs/stable/user_guide/indexing.html#returning-a-view-versus-a-copy\n",
      "  telomere_df_rev['start'] = telomere_df_rev['window'] -50\n",
      "/tmp/ipykernel_182077/3423421318.py:15: SettingWithCopyWarning: \n",
      "A value is trying to be set on a copy of a slice from a DataFrame.\n",
      "Try using .loc[row_indexer,col_indexer] = value instead\n",
      "\n",
      "See the caveats in the documentation: https://pandas.pydata.org/pandas-docs/stable/user_guide/indexing.html#returning-a-view-versus-a-copy\n",
      "  telomere_df_rev['end'] = telomere_df_rev['window']\n"
     ]
    },
    {
     "data": {
      "text/html": [
       "<div>\n",
       "<style scoped>\n",
       "    .dataframe tbody tr th:only-of-type {\n",
       "        vertical-align: middle;\n",
       "    }\n",
       "\n",
       "    .dataframe tbody tr th {\n",
       "        vertical-align: top;\n",
       "    }\n",
       "\n",
       "    .dataframe thead th {\n",
       "        text-align: right;\n",
       "    }\n",
       "</style>\n",
       "<table border=\"1\" class=\"dataframe\">\n",
       "  <thead>\n",
       "    <tr style=\"text-align: right;\">\n",
       "      <th></th>\n",
       "      <th>id</th>\n",
       "      <th>start</th>\n",
       "      <th>end</th>\n",
       "    </tr>\n",
       "  </thead>\n",
       "  <tbody>\n",
       "    <tr>\n",
       "      <th>0</th>\n",
       "      <td>Chr01A</td>\n",
       "      <td>0</td>\n",
       "      <td>50</td>\n",
       "    </tr>\n",
       "    <tr>\n",
       "      <th>1</th>\n",
       "      <td>Chr01A</td>\n",
       "      <td>50</td>\n",
       "      <td>100</td>\n",
       "    </tr>\n",
       "    <tr>\n",
       "      <th>2</th>\n",
       "      <td>Chr01A</td>\n",
       "      <td>100</td>\n",
       "      <td>150</td>\n",
       "    </tr>\n",
       "    <tr>\n",
       "      <th>3</th>\n",
       "      <td>Chr01A</td>\n",
       "      <td>150</td>\n",
       "      <td>200</td>\n",
       "    </tr>\n",
       "    <tr>\n",
       "      <th>4</th>\n",
       "      <td>Chr01A</td>\n",
       "      <td>200</td>\n",
       "      <td>250</td>\n",
       "    </tr>\n",
       "    <tr>\n",
       "      <th>...</th>\n",
       "      <td>...</td>\n",
       "      <td>...</td>\n",
       "      <td>...</td>\n",
       "    </tr>\n",
       "    <tr>\n",
       "      <th>13009</th>\n",
       "      <td>Chr18B</td>\n",
       "      <td>26483850</td>\n",
       "      <td>26483900</td>\n",
       "    </tr>\n",
       "    <tr>\n",
       "      <th>13010</th>\n",
       "      <td>Chr18B</td>\n",
       "      <td>26483900</td>\n",
       "      <td>26483950</td>\n",
       "    </tr>\n",
       "    <tr>\n",
       "      <th>13011</th>\n",
       "      <td>Chr18B</td>\n",
       "      <td>26483950</td>\n",
       "      <td>26484000</td>\n",
       "    </tr>\n",
       "    <tr>\n",
       "      <th>13012</th>\n",
       "      <td>Chr18B</td>\n",
       "      <td>26484000</td>\n",
       "      <td>26484050</td>\n",
       "    </tr>\n",
       "    <tr>\n",
       "      <th>13013</th>\n",
       "      <td>Chr18B</td>\n",
       "      <td>26484050</td>\n",
       "      <td>26484100</td>\n",
       "    </tr>\n",
       "  </tbody>\n",
       "</table>\n",
       "<p>13014 rows × 3 columns</p>\n",
       "</div>"
      ],
      "text/plain": [
       "           id     start       end\n",
       "0      Chr01A         0        50\n",
       "1      Chr01A        50       100\n",
       "2      Chr01A       100       150\n",
       "3      Chr01A       150       200\n",
       "4      Chr01A       200       250\n",
       "...       ...       ...       ...\n",
       "13009  Chr18B  26483850  26483900\n",
       "13010  Chr18B  26483900  26483950\n",
       "13011  Chr18B  26483950  26484000\n",
       "13012  Chr18B  26484000  26484050\n",
       "13013  Chr18B  26484050  26484100\n",
       "\n",
       "[13014 rows x 3 columns]"
      ]
     },
     "execution_count": 5,
     "metadata": {},
     "output_type": "execute_result"
    }
   ],
   "source": [
    "telomere_df = pd.read_table('../Au3_tidk_filter.tsv', header=0, sep = '\\t')\n",
    "telomere_hapA = telomere_df[telomere_df['id'].str.contains('HapA')]\n",
    "telomere_hapA['id'] = telomere_hapA['id'] + 'A'\n",
    "telomere_hapA['id'] = telomere_hapA['id'].str.replace('AU3_HapA_CHR', 'Chr')\n",
    "telomere_hapB = telomere_df[telomere_df['id'].str.contains('HapB')]\n",
    "telomere_hapB['id'] = telomere_hapB['id'] + 'B'\n",
    "telomere_hapB['id'] = telomere_hapB['id'].str.replace('AU3_HapB_CHR', 'Chr')\n",
    "telomere_df = pd.concat([telomere_hapA, telomere_hapB])\n",
    "telomere_df_fwd = telomere_df[telomere_df['forward_repeat_number'] >0 ]\n",
    "telomere_df_fwd['start'] = telomere_df_fwd['window'] - 50\n",
    "telomere_df_fwd['end'] = telomere_df_fwd['window']\n",
    "telomere_df_fwd = telomere_df_fwd[['id', 'start', 'end']]\n",
    "telomere_df_rev = telomere_df[telomere_df['reverse_repeat_number'] >0 ]\n",
    "telomere_df_rev['start'] = telomere_df_rev['window'] -50\n",
    "telomere_df_rev['end'] = telomere_df_rev['window']\n",
    "telomere_df_rev = telomere_df_rev[['id', 'start', 'end']]\n",
    "telomere_df = pd.concat([telomere_df_fwd, telomere_df_rev])\n",
    "telomere_df"
   ]
  },
  {
   "cell_type": "code",
   "execution_count": 5,
   "metadata": {},
   "outputs": [
    {
     "ename": "NameError",
     "evalue": "name 'telomere_df' is not defined",
     "output_type": "error",
     "traceback": [
      "\u001b[0;31m---------------------------------------------------------------------------\u001b[0m",
      "\u001b[0;31mNameError\u001b[0m                                 Traceback (most recent call last)",
      "Cell \u001b[0;32mIn[5], line 4\u001b[0m\n\u001b[1;32m      2\u001b[0m telomere_methy \u001b[38;5;241m=\u001b[39m pd\u001b[38;5;241m.\u001b[39mDataFrame()\n\u001b[1;32m      3\u001b[0m \u001b[38;5;66;03m#Read lines from the telomere file\u001b[39;00m\n\u001b[0;32m----> 4\u001b[0m telomere_df_bed \u001b[38;5;241m=\u001b[39m BedTool\u001b[38;5;241m.\u001b[39mfrom_dataframe(\u001b[43mtelomere_df\u001b[49m)\n\u001b[1;32m      5\u001b[0m bed_4mC_bed \u001b[38;5;241m=\u001b[39m bed_4mC[[\u001b[38;5;124m'\u001b[39m\u001b[38;5;124mchr\u001b[39m\u001b[38;5;124m'\u001b[39m, \u001b[38;5;124m'\u001b[39m\u001b[38;5;124mstart\u001b[39m\u001b[38;5;124m'\u001b[39m, \u001b[38;5;124m'\u001b[39m\u001b[38;5;124mend\u001b[39m\u001b[38;5;124m'\u001b[39m]]\n\u001b[1;32m      6\u001b[0m bed_4mC_bed \u001b[38;5;241m=\u001b[39m BedTool\u001b[38;5;241m.\u001b[39mfrom_dataframe(bed_4mC)\n",
      "\u001b[0;31mNameError\u001b[0m: name 'telomere_df' is not defined"
     ]
    }
   ],
   "source": [
    "#find whether the 4mC, 6mA, 5mC sites are in telomere regions\n",
    "telomere_methy = pd.DataFrame()\n",
    "#Read lines from the telomere file\n",
    "telomere_df_bed = BedTool.from_dataframe(telomere_df)\n",
    "bed_4mC_bed = bed_4mC[['chr', 'start', 'end']]\n",
    "bed_4mC_bed = BedTool.from_dataframe(bed_4mC)\n",
    "bed_5mC_bed = bed_5mC[['chr', 'start', 'end']]\n",
    "bed_6mA_bed = bed_6mA[['chr', 'start', 'end']]\n",
    "bed_6mA_bed = BedTool.from_dataframe(bed_6mA)\n",
    "bed_5mC_bed = BedTool.from_dataframe(bed_5mC)\n",
    "#intersect the bed files\n",
    "telomere_4mC = telomere_df_bed.intersect(bed_4mC_bed, wa=True, wb=True)\n",
    "telomere_4mC = telomere_4mC.to_dataframe()\n",
    "telomere_6mA = telomere_df_bed.intersect(bed_6mA_bed, wa=True, wb=True)\n",
    "telomere_6mA = telomere_6mA.to_dataframe()\n",
    "telomere_5mC = telomere_df_bed.intersect(bed_5mC_bed, wa=True, wb=True)\n",
    "telomere_5mC = telomere_5mC.to_dataframe()"
   ]
  },
  {
   "cell_type": "code",
   "execution_count": 4,
   "metadata": {},
   "outputs": [
    {
     "ename": "NameError",
     "evalue": "name 'telomere_4mC' is not defined",
     "output_type": "error",
     "traceback": [
      "\u001b[0;31m---------------------------------------------------------------------------\u001b[0m",
      "\u001b[0;31mNameError\u001b[0m                                 Traceback (most recent call last)",
      "Cell \u001b[0;32mIn[4], line 1\u001b[0m\n\u001b[0;32m----> 1\u001b[0m \u001b[43mtelomere_4mC\u001b[49m\n",
      "\u001b[0;31mNameError\u001b[0m: name 'telomere_4mC' is not defined"
     ]
    }
   ],
   "source": [
    "telomere_4mC"
   ]
  },
  {
   "cell_type": "code",
   "execution_count": 12,
   "metadata": {},
   "outputs": [
    {
     "data": {
      "text/html": [
       "<div>\n",
       "<style scoped>\n",
       "    .dataframe tbody tr th:only-of-type {\n",
       "        vertical-align: middle;\n",
       "    }\n",
       "\n",
       "    .dataframe tbody tr th {\n",
       "        vertical-align: top;\n",
       "    }\n",
       "\n",
       "    .dataframe thead th {\n",
       "        text-align: right;\n",
       "    }\n",
       "</style>\n",
       "<table border=\"1\" class=\"dataframe\">\n",
       "  <thead>\n",
       "    <tr style=\"text-align: right;\">\n",
       "      <th></th>\n",
       "      <th>id</th>\n",
       "      <th>window</th>\n",
       "      <th>forward_repeat_number</th>\n",
       "      <th>reverse_repeat_number</th>\n",
       "      <th>telomeric_repeat</th>\n",
       "    </tr>\n",
       "  </thead>\n",
       "  <tbody>\n",
       "    <tr>\n",
       "      <th>0</th>\n",
       "      <td>AU3_HapA_CHR01</td>\n",
       "      <td>50</td>\n",
       "      <td>6</td>\n",
       "      <td>0</td>\n",
       "      <td>AACCCT</td>\n",
       "    </tr>\n",
       "    <tr>\n",
       "      <th>1</th>\n",
       "      <td>AU3_HapA_CHR01</td>\n",
       "      <td>100</td>\n",
       "      <td>8</td>\n",
       "      <td>0</td>\n",
       "      <td>AACCCT</td>\n",
       "    </tr>\n",
       "    <tr>\n",
       "      <th>2</th>\n",
       "      <td>AU3_HapA_CHR01</td>\n",
       "      <td>150</td>\n",
       "      <td>8</td>\n",
       "      <td>0</td>\n",
       "      <td>AACCCT</td>\n",
       "    </tr>\n",
       "    <tr>\n",
       "      <th>3</th>\n",
       "      <td>AU3_HapA_CHR01</td>\n",
       "      <td>200</td>\n",
       "      <td>7</td>\n",
       "      <td>0</td>\n",
       "      <td>AACCCT</td>\n",
       "    </tr>\n",
       "    <tr>\n",
       "      <th>4</th>\n",
       "      <td>AU3_HapA_CHR01</td>\n",
       "      <td>250</td>\n",
       "      <td>7</td>\n",
       "      <td>0</td>\n",
       "      <td>AACCCT</td>\n",
       "    </tr>\n",
       "    <tr>\n",
       "      <th>...</th>\n",
       "      <td>...</td>\n",
       "      <td>...</td>\n",
       "      <td>...</td>\n",
       "      <td>...</td>\n",
       "      <td>...</td>\n",
       "    </tr>\n",
       "    <tr>\n",
       "      <th>13009</th>\n",
       "      <td>AU3_HapB_CHR18</td>\n",
       "      <td>26483900</td>\n",
       "      <td>0</td>\n",
       "      <td>8</td>\n",
       "      <td>AACCCT</td>\n",
       "    </tr>\n",
       "    <tr>\n",
       "      <th>13010</th>\n",
       "      <td>AU3_HapB_CHR18</td>\n",
       "      <td>26483950</td>\n",
       "      <td>0</td>\n",
       "      <td>7</td>\n",
       "      <td>AACCCT</td>\n",
       "    </tr>\n",
       "    <tr>\n",
       "      <th>13011</th>\n",
       "      <td>AU3_HapB_CHR18</td>\n",
       "      <td>26484000</td>\n",
       "      <td>0</td>\n",
       "      <td>7</td>\n",
       "      <td>AACCCT</td>\n",
       "    </tr>\n",
       "    <tr>\n",
       "      <th>13012</th>\n",
       "      <td>AU3_HapB_CHR18</td>\n",
       "      <td>26484050</td>\n",
       "      <td>0</td>\n",
       "      <td>7</td>\n",
       "      <td>AACCCT</td>\n",
       "    </tr>\n",
       "    <tr>\n",
       "      <th>13013</th>\n",
       "      <td>AU3_HapB_CHR18</td>\n",
       "      <td>26484100</td>\n",
       "      <td>0</td>\n",
       "      <td>7</td>\n",
       "      <td>AACCCT</td>\n",
       "    </tr>\n",
       "  </tbody>\n",
       "</table>\n",
       "<p>13014 rows × 5 columns</p>\n",
       "</div>"
      ],
      "text/plain": [
       "                   id    window  forward_repeat_number  reverse_repeat_number  \\\n",
       "0      AU3_HapA_CHR01        50                      6                      0   \n",
       "1      AU3_HapA_CHR01       100                      8                      0   \n",
       "2      AU3_HapA_CHR01       150                      8                      0   \n",
       "3      AU3_HapA_CHR01       200                      7                      0   \n",
       "4      AU3_HapA_CHR01       250                      7                      0   \n",
       "...               ...       ...                    ...                    ...   \n",
       "13009  AU3_HapB_CHR18  26483900                      0                      8   \n",
       "13010  AU3_HapB_CHR18  26483950                      0                      7   \n",
       "13011  AU3_HapB_CHR18  26484000                      0                      7   \n",
       "13012  AU3_HapB_CHR18  26484050                      0                      7   \n",
       "13013  AU3_HapB_CHR18  26484100                      0                      7   \n",
       "\n",
       "      telomeric_repeat  \n",
       "0               AACCCT  \n",
       "1               AACCCT  \n",
       "2               AACCCT  \n",
       "3               AACCCT  \n",
       "4               AACCCT  \n",
       "...                ...  \n",
       "13009           AACCCT  \n",
       "13010           AACCCT  \n",
       "13011           AACCCT  \n",
       "13012           AACCCT  \n",
       "13013           AACCCT  \n",
       "\n",
       "[13014 rows x 5 columns]"
      ]
     },
     "execution_count": 12,
     "metadata": {},
     "output_type": "execute_result"
    }
   ],
   "source": [
    "telomere_df"
   ]
  },
  {
   "cell_type": "code",
   "execution_count": 5,
   "metadata": {},
   "outputs": [],
   "source": [
    "bed_5mC_count = bed_5mC.groupby(['chr']).size().reset_index(name='count')\n",
    "#left join\n",
    "bed_5mC_count = pd.merge(genome, bed_5mC_count, on='chr', how='left')\n",
    "bed_5mC_count['Cov']= bed_5mC_count['count']*100/bed_5mC_count['size']\n",
    "bed_5mC_count.sort_values(by=['chr'], ascending=True, inplace=True)\n",
    "#Use the last character of the chr column as haplotype\n",
    "bed_5mC_count['hap']= bed_5mC_count['chr'].str[-1]\n",
    "bed_5mC_count['type'] = '5mCpG'"
   ]
  },
  {
   "cell_type": "code",
   "execution_count": 6,
   "metadata": {},
   "outputs": [
    {
     "data": {
      "text/plain": [
       "array(['Chr01A', 'Chr01B', 'Chr02A', 'Chr02B', 'Chr03A', 'Chr03B',\n",
       "       'Chr04A', 'Chr04B', 'Chr05A', 'Chr05B', 'Chr06A', 'Chr06B',\n",
       "       'Chr07A', 'Chr07B', 'Chr08A', 'Chr08B', 'Chr09A', 'Chr09B',\n",
       "       'Chr10A', 'Chr10B', 'Chr11A', 'Chr11B', 'Chr12A', 'Chr12B',\n",
       "       'Chr13A', 'Chr13B', 'Chr14A', 'Chr14B', 'Chr15A', 'Chr15B',\n",
       "       'Chr16A', 'Chr16B', 'Chr17A', 'Chr17B', 'Chr18A', 'Chr18B'],\n",
       "      dtype=object)"
      ]
     },
     "execution_count": 6,
     "metadata": {},
     "output_type": "execute_result"
    }
   ],
   "source": [
    "bed_5mC['chr'].unique()"
   ]
  },
  {
   "cell_type": "code",
   "execution_count": 7,
   "metadata": {},
   "outputs": [],
   "source": [
    "bed_4mC_count = bed_4mC.groupby(['chr']).size().reset_index(name='count')\n",
    "#left join\n",
    "bed_4mC_count = pd.merge(genome, bed_4mC_count, on='chr', how='left')\n",
    "bed_4mC_count['Cov']= bed_4mC_count['count']*100/bed_4mC_count['size']\n",
    "bed_4mC_count.sort_values(by=['chr'], ascending=True, inplace=True)\n",
    "#Use the last character of the chr column as haplotype\n",
    "bed_4mC_count['hap']= bed_4mC_count['chr'].str[-1]\n",
    "bed_4mC_count['type'] = '4mC'"
   ]
  },
  {
   "cell_type": "code",
   "execution_count": 8,
   "metadata": {},
   "outputs": [],
   "source": [
    "bed_6mA_count = bed_6mA.groupby(['chr']).size().reset_index(name='count')\n",
    "#left join\n",
    "bed_6mA_count = pd.merge(genome, bed_6mA_count, on='chr', how='left')\n",
    "bed_6mA_count['Cov']= bed_6mA_count['count']*100/bed_6mA_count['size']\n",
    "bed_6mA_count.sort_values(by=['chr'], ascending=True, inplace=True)\n",
    "#Use the last character of the chr column as haplotype\n",
    "bed_6mA_count['hap']= bed_6mA_count['chr'].str[-1]\n",
    "bed_6mA_count['type'] = '6mA'"
   ]
  },
  {
   "cell_type": "code",
   "execution_count": 9,
   "metadata": {},
   "outputs": [],
   "source": [
    "Methy_count = pd.concat([bed_5mC_count, bed_4mC_count, bed_6mA_count])"
   ]
  },
  {
   "cell_type": "code",
   "execution_count": 10,
   "metadata": {},
   "outputs": [
    {
     "name": "stderr",
     "output_type": "stream",
     "text": [
      "/tmp/ipykernel_61190/4145559125.py:5: FutureWarning: \n",
      "\n",
      "Passing `palette` without assigning `hue` is deprecated and will be removed in v0.14.0. Assign the `x` variable to `hue` and set `legend=False` for the same effect.\n",
      "\n",
      "  sns.violinplot(x='hap', y='Cov', data=bed_5mC_count, palette='coolwarm')\n"
     ]
    },
    {
     "data": {
      "image/png": "[encoded data removed]",
      "text/plain": [
       "<Figure size 600x300 with 1 Axes>"
      ]
     },
     "metadata": {},
     "output_type": "display_data"
    }
   ],
   "source": [
    "#plot 5mC coverage as violin plot\n",
    "import seaborn as sns\n",
    "import matplotlib.pyplot as plt\n",
    "plt.figure(figsize=(6, 3))\n",
    "sns.violinplot(x='hap', y='Cov', data=bed_5mC_count, palette='coolwarm')\n",
    "#add dot plot\n",
    "sns.swarmplot(x='hap', y='Cov', data=bed_5mC_count, color='k', size=4)\n",
    "plt.title('5mC coverage of whole genome')\n",
    "plt.ylabel('Coverage (%)')\n",
    "plt.show()\n"
   ]
  },
  {
   "cell_type": "code",
   "execution_count": null,
   "metadata": {},
   "outputs": [
    {
     "data": {
      "text/html": [
       "<div>\n",
       "<style scoped>\n",
       "    .dataframe tbody tr th:only-of-type {\n",
       "        vertical-align: middle;\n",
       "    }\n",
       "\n",
       "    .dataframe tbody tr th {\n",
       "        vertical-align: top;\n",
       "    }\n",
       "\n",
       "    .dataframe thead th {\n",
       "        text-align: right;\n",
       "    }\n",
       "</style>\n",
       "<table border=\"1\" class=\"dataframe\">\n",
       "  <thead>\n",
       "    <tr style=\"text-align: right;\">\n",
       "      <th></th>\n",
       "      <th>chr</th>\n",
       "      <th>size</th>\n",
       "      <th>count</th>\n",
       "      <th>Cov</th>\n",
       "      <th>hap</th>\n",
       "      <th>type</th>\n",
       "    </tr>\n",
       "  </thead>\n",
       "  <tbody>\n",
       "    <tr>\n",
       "      <th>0</th>\n",
       "      <td>Chr01A</td>\n",
       "      <td>85591751</td>\n",
       "      <td>229230</td>\n",
       "      <td>0.267818</td>\n",
       "      <td>A</td>\n",
       "      <td>5mCpG</td>\n",
       "    </tr>\n",
       "    <tr>\n",
       "      <th>19</th>\n",
       "      <td>Chr01B</td>\n",
       "      <td>81879591</td>\n",
       "      <td>247551</td>\n",
       "      <td>0.302335</td>\n",
       "      <td>B</td>\n",
       "      <td>5mCpG</td>\n",
       "    </tr>\n",
       "    <tr>\n",
       "      <th>1</th>\n",
       "      <td>Chr02A</td>\n",
       "      <td>84617575</td>\n",
       "      <td>211671</td>\n",
       "      <td>0.250150</td>\n",
       "      <td>A</td>\n",
       "      <td>5mCpG</td>\n",
       "    </tr>\n",
       "    <tr>\n",
       "      <th>20</th>\n",
       "      <td>Chr02B</td>\n",
       "      <td>83031777</td>\n",
       "      <td>215669</td>\n",
       "      <td>0.259743</td>\n",
       "      <td>B</td>\n",
       "      <td>5mCpG</td>\n",
       "    </tr>\n",
       "    <tr>\n",
       "      <th>2</th>\n",
       "      <td>Chr03A</td>\n",
       "      <td>76987749</td>\n",
       "      <td>184976</td>\n",
       "      <td>0.240267</td>\n",
       "      <td>A</td>\n",
       "      <td>5mCpG</td>\n",
       "    </tr>\n",
       "    <tr>\n",
       "      <th>21</th>\n",
       "      <td>Chr03B</td>\n",
       "      <td>84687478</td>\n",
       "      <td>240530</td>\n",
       "      <td>0.284021</td>\n",
       "      <td>B</td>\n",
       "      <td>5mCpG</td>\n",
       "    </tr>\n",
       "    <tr>\n",
       "      <th>3</th>\n",
       "      <td>Chr04A</td>\n",
       "      <td>70778902</td>\n",
       "      <td>174353</td>\n",
       "      <td>0.246335</td>\n",
       "      <td>A</td>\n",
       "      <td>5mCpG</td>\n",
       "    </tr>\n",
       "    <tr>\n",
       "      <th>22</th>\n",
       "      <td>Chr04B</td>\n",
       "      <td>71071614</td>\n",
       "      <td>197329</td>\n",
       "      <td>0.277648</td>\n",
       "      <td>B</td>\n",
       "      <td>5mCpG</td>\n",
       "    </tr>\n",
       "    <tr>\n",
       "      <th>4</th>\n",
       "      <td>Chr05A</td>\n",
       "      <td>69948377</td>\n",
       "      <td>180550</td>\n",
       "      <td>0.258119</td>\n",
       "      <td>A</td>\n",
       "      <td>5mCpG</td>\n",
       "    </tr>\n",
       "    <tr>\n",
       "      <th>23</th>\n",
       "      <td>Chr05B</td>\n",
       "      <td>70239414</td>\n",
       "      <td>213208</td>\n",
       "      <td>0.303545</td>\n",
       "      <td>B</td>\n",
       "      <td>5mCpG</td>\n",
       "    </tr>\n",
       "    <tr>\n",
       "      <th>5</th>\n",
       "      <td>Chr06A</td>\n",
       "      <td>65770632</td>\n",
       "      <td>159993</td>\n",
       "      <td>0.243259</td>\n",
       "      <td>A</td>\n",
       "      <td>5mCpG</td>\n",
       "    </tr>\n",
       "    <tr>\n",
       "      <th>24</th>\n",
       "      <td>Chr06B</td>\n",
       "      <td>63517070</td>\n",
       "      <td>160373</td>\n",
       "      <td>0.252488</td>\n",
       "      <td>B</td>\n",
       "      <td>5mCpG</td>\n",
       "    </tr>\n",
       "    <tr>\n",
       "      <th>6</th>\n",
       "      <td>Chr07A</td>\n",
       "      <td>61052114</td>\n",
       "      <td>177855</td>\n",
       "      <td>0.291317</td>\n",
       "      <td>A</td>\n",
       "      <td>5mCpG</td>\n",
       "    </tr>\n",
       "    <tr>\n",
       "      <th>25</th>\n",
       "      <td>Chr07B</td>\n",
       "      <td>58501933</td>\n",
       "      <td>179868</td>\n",
       "      <td>0.307457</td>\n",
       "      <td>B</td>\n",
       "      <td>5mCpG</td>\n",
       "    </tr>\n",
       "    <tr>\n",
       "      <th>7</th>\n",
       "      <td>Chr08A</td>\n",
       "      <td>60211033</td>\n",
       "      <td>143535</td>\n",
       "      <td>0.238387</td>\n",
       "      <td>A</td>\n",
       "      <td>5mCpG</td>\n",
       "    </tr>\n",
       "    <tr>\n",
       "      <th>26</th>\n",
       "      <td>Chr08B</td>\n",
       "      <td>59431777</td>\n",
       "      <td>157212</td>\n",
       "      <td>0.264525</td>\n",
       "      <td>B</td>\n",
       "      <td>5mCpG</td>\n",
       "    </tr>\n",
       "    <tr>\n",
       "      <th>8</th>\n",
       "      <td>Chr09A</td>\n",
       "      <td>57827416</td>\n",
       "      <td>137330</td>\n",
       "      <td>0.237483</td>\n",
       "      <td>A</td>\n",
       "      <td>5mCpG</td>\n",
       "    </tr>\n",
       "    <tr>\n",
       "      <th>27</th>\n",
       "      <td>Chr09B</td>\n",
       "      <td>59097721</td>\n",
       "      <td>156274</td>\n",
       "      <td>0.264433</td>\n",
       "      <td>B</td>\n",
       "      <td>5mCpG</td>\n",
       "    </tr>\n",
       "    <tr>\n",
       "      <th>9</th>\n",
       "      <td>Chr10A</td>\n",
       "      <td>57602587</td>\n",
       "      <td>159374</td>\n",
       "      <td>0.276679</td>\n",
       "      <td>A</td>\n",
       "      <td>5mCpG</td>\n",
       "    </tr>\n",
       "    <tr>\n",
       "      <th>28</th>\n",
       "      <td>Chr10B</td>\n",
       "      <td>55509584</td>\n",
       "      <td>158781</td>\n",
       "      <td>0.286042</td>\n",
       "      <td>B</td>\n",
       "      <td>5mCpG</td>\n",
       "    </tr>\n",
       "    <tr>\n",
       "      <th>10</th>\n",
       "      <td>Chr11A</td>\n",
       "      <td>56546150</td>\n",
       "      <td>115860</td>\n",
       "      <td>0.204895</td>\n",
       "      <td>A</td>\n",
       "      <td>5mCpG</td>\n",
       "    </tr>\n",
       "    <tr>\n",
       "      <th>29</th>\n",
       "      <td>Chr11B</td>\n",
       "      <td>51355936</td>\n",
       "      <td>114047</td>\n",
       "      <td>0.222072</td>\n",
       "      <td>B</td>\n",
       "      <td>5mCpG</td>\n",
       "    </tr>\n",
       "    <tr>\n",
       "      <th>11</th>\n",
       "      <td>Chr12A</td>\n",
       "      <td>54851119</td>\n",
       "      <td>123253</td>\n",
       "      <td>0.224705</td>\n",
       "      <td>A</td>\n",
       "      <td>5mCpG</td>\n",
       "    </tr>\n",
       "    <tr>\n",
       "      <th>30</th>\n",
       "      <td>Chr12B</td>\n",
       "      <td>60506416</td>\n",
       "      <td>157437</td>\n",
       "      <td>0.260199</td>\n",
       "      <td>B</td>\n",
       "      <td>5mCpG</td>\n",
       "    </tr>\n",
       "    <tr>\n",
       "      <th>12</th>\n",
       "      <td>Chr13A</td>\n",
       "      <td>46523952</td>\n",
       "      <td>131839</td>\n",
       "      <td>0.283379</td>\n",
       "      <td>A</td>\n",
       "      <td>5mCpG</td>\n",
       "    </tr>\n",
       "    <tr>\n",
       "      <th>31</th>\n",
       "      <td>Chr13B</td>\n",
       "      <td>44901655</td>\n",
       "      <td>140836</td>\n",
       "      <td>0.313654</td>\n",
       "      <td>B</td>\n",
       "      <td>5mCpG</td>\n",
       "    </tr>\n",
       "    <tr>\n",
       "      <th>13</th>\n",
       "      <td>Chr14A</td>\n",
       "      <td>45634404</td>\n",
       "      <td>120854</td>\n",
       "      <td>0.264831</td>\n",
       "      <td>A</td>\n",
       "      <td>5mCpG</td>\n",
       "    </tr>\n",
       "    <tr>\n",
       "      <th>18</th>\n",
       "      <td>Chr14B</td>\n",
       "      <td>42960447</td>\n",
       "      <td>105367</td>\n",
       "      <td>0.245265</td>\n",
       "      <td>B</td>\n",
       "      <td>5mCpG</td>\n",
       "    </tr>\n",
       "    <tr>\n",
       "      <th>14</th>\n",
       "      <td>Chr15A</td>\n",
       "      <td>43942271</td>\n",
       "      <td>105029</td>\n",
       "      <td>0.239016</td>\n",
       "      <td>A</td>\n",
       "      <td>5mCpG</td>\n",
       "    </tr>\n",
       "    <tr>\n",
       "      <th>32</th>\n",
       "      <td>Chr15B</td>\n",
       "      <td>46997453</td>\n",
       "      <td>149805</td>\n",
       "      <td>0.318751</td>\n",
       "      <td>B</td>\n",
       "      <td>5mCpG</td>\n",
       "    </tr>\n",
       "    <tr>\n",
       "      <th>15</th>\n",
       "      <td>Chr16A</td>\n",
       "      <td>37086052</td>\n",
       "      <td>83331</td>\n",
       "      <td>0.224696</td>\n",
       "      <td>A</td>\n",
       "      <td>5mCpG</td>\n",
       "    </tr>\n",
       "    <tr>\n",
       "      <th>33</th>\n",
       "      <td>Chr16B</td>\n",
       "      <td>35082462</td>\n",
       "      <td>84124</td>\n",
       "      <td>0.239789</td>\n",
       "      <td>B</td>\n",
       "      <td>5mCpG</td>\n",
       "    </tr>\n",
       "    <tr>\n",
       "      <th>16</th>\n",
       "      <td>Chr17A</td>\n",
       "      <td>28021773</td>\n",
       "      <td>51724</td>\n",
       "      <td>0.184585</td>\n",
       "      <td>A</td>\n",
       "      <td>5mCpG</td>\n",
       "    </tr>\n",
       "    <tr>\n",
       "      <th>34</th>\n",
       "      <td>Chr17B</td>\n",
       "      <td>30262541</td>\n",
       "      <td>68472</td>\n",
       "      <td>0.226260</td>\n",
       "      <td>B</td>\n",
       "      <td>5mCpG</td>\n",
       "    </tr>\n",
       "    <tr>\n",
       "      <th>17</th>\n",
       "      <td>Chr18A</td>\n",
       "      <td>27535891</td>\n",
       "      <td>45174</td>\n",
       "      <td>0.164055</td>\n",
       "      <td>A</td>\n",
       "      <td>5mCpG</td>\n",
       "    </tr>\n",
       "    <tr>\n",
       "      <th>35</th>\n",
       "      <td>Chr18B</td>\n",
       "      <td>26484131</td>\n",
       "      <td>50349</td>\n",
       "      <td>0.190110</td>\n",
       "      <td>B</td>\n",
       "      <td>5mCpG</td>\n",
       "    </tr>\n",
       "  </tbody>\n",
       "</table>\n",
       "</div>"
      ],
      "text/plain": [
       "       chr      size   count       Cov hap   type\n",
       "0   Chr01A  85591751  229230  0.267818   A  5mCpG\n",
       "19  Chr01B  81879591  247551  0.302335   B  5mCpG\n",
       "1   Chr02A  84617575  211671  0.250150   A  5mCpG\n",
       "20  Chr02B  83031777  215669  0.259743   B  5mCpG\n",
       "2   Chr03A  76987749  184976  0.240267   A  5mCpG\n",
       "21  Chr03B  84687478  240530  0.284021   B  5mCpG\n",
       "3   Chr04A  70778902  174353  0.246335   A  5mCpG\n",
       "22  Chr04B  71071614  197329  0.277648   B  5mCpG\n",
       "4   Chr05A  69948377  180550  0.258119   A  5mCpG\n",
       "23  Chr05B  70239414  213208  0.303545   B  5mCpG\n",
       "5   Chr06A  65770632  159993  0.243259   A  5mCpG\n",
       "24  Chr06B  63517070  160373  0.252488   B  5mCpG\n",
       "6   Chr07A  61052114  177855  0.291317   A  5mCpG\n",
       "25  Chr07B  58501933  179868  0.307457   B  5mCpG\n",
       "7   Chr08A  60211033  143535  0.238387   A  5mCpG\n",
       "26  Chr08B  59431777  157212  0.264525   B  5mCpG\n",
       "8   Chr09A  57827416  137330  0.237483   A  5mCpG\n",
       "27  Chr09B  59097721  156274  0.264433   B  5mCpG\n",
       "9   Chr10A  57602587  159374  0.276679   A  5mCpG\n",
       "28  Chr10B  55509584  158781  0.286042   B  5mCpG\n",
       "10  Chr11A  56546150  115860  0.204895   A  5mCpG\n",
       "29  Chr11B  51355936  114047  0.222072   B  5mCpG\n",
       "11  Chr12A  54851119  123253  0.224705   A  5mCpG\n",
       "30  Chr12B  60506416  157437  0.260199   B  5mCpG\n",
       "12  Chr13A  46523952  131839  0.283379   A  5mCpG\n",
       "31  Chr13B  44901655  140836  0.313654   B  5mCpG\n",
       "13  Chr14A  45634404  120854  0.264831   A  5mCpG\n",
       "18  Chr14B  42960447  105367  0.245265   B  5mCpG\n",
       "14  Chr15A  43942271  105029  0.239016   A  5mCpG\n",
       "32  Chr15B  46997453  149805  0.318751   B  5mCpG\n",
       "15  Chr16A  37086052   83331  0.224696   A  5mCpG\n",
       "33  Chr16B  35082462   84124  0.239789   B  5mCpG\n",
       "16  Chr17A  28021773   51724  0.184585   A  5mCpG\n",
       "34  Chr17B  30262541   68472  0.226260   B  5mCpG\n",
       "17  Chr18A  27535891   45174  0.164055   A  5mCpG\n",
       "35  Chr18B  26484131   50349  0.190110   B  5mCpG"
      ]
     },
     "execution_count": 54,
     "metadata": {},
     "output_type": "execute_result"
    }
   ],
   "source": [
    "bed_5mC_count =pd.merge(bed_5mC_count, telomere_df, left_on='chr', right_on='id', how='left')"
   ]
  },
  {
   "cell_type": "code",
   "execution_count": 7,
   "metadata": {},
   "outputs": [],
   "source": [
    "#Check whether methylation covering TE regions\n",
    "#Read TE regions\n",
    "TE = pd.read_table('../TE/Au3_TE.bed', header=None, comment='#')\n",
    "TE.columns = ['chr', 'start', 'end', 'Div', 'strand', 'phase', 'id']\n"
   ]
  },
  {
   "cell_type": "code",
   "execution_count": 8,
   "metadata": {},
   "outputs": [
    {
     "name": "stderr",
     "output_type": "stream",
     "text": [
      "***** WARNING: File /tmp/pybedtools.06treohy.tmp has a record where naming convention (leading zero) is inconsistent with other files:\n",
      "Chr10A\t13511\t13512\n",
      "\n",
      "***** WARNING: File /tmp/pybedtools.06treohy.tmp has a record where naming convention (leading zero) is inconsistent with other files:\n",
      "Chr10A\t13511\t13512\n",
      "\n"
     ]
    },
    {
     "data": {
      "text/html": [
       "<div>\n",
       "<style scoped>\n",
       "    .dataframe tbody tr th:only-of-type {\n",
       "        vertical-align: middle;\n",
       "    }\n",
       "\n",
       "    .dataframe tbody tr th {\n",
       "        vertical-align: top;\n",
       "    }\n",
       "\n",
       "    .dataframe thead th {\n",
       "        text-align: right;\n",
       "    }\n",
       "</style>\n",
       "<table border=\"1\" class=\"dataframe\">\n",
       "  <thead>\n",
       "    <tr style=\"text-align: right;\">\n",
       "      <th></th>\n",
       "      <th>chrom</th>\n",
       "      <th>start</th>\n",
       "      <th>end</th>\n",
       "      <th>name</th>\n",
       "      <th>score</th>\n",
       "      <th>strand</th>\n",
       "      <th>thickStart</th>\n",
       "    </tr>\n",
       "  </thead>\n",
       "  <tbody>\n",
       "    <tr>\n",
       "      <th>0</th>\n",
       "      <td>Chr01A</td>\n",
       "      <td>2</td>\n",
       "      <td>10118</td>\n",
       "      <td>0</td>\n",
       "      <td>0</td>\n",
       "      <td>10116</td>\n",
       "      <td>0.000000</td>\n",
       "    </tr>\n",
       "    <tr>\n",
       "      <th>1</th>\n",
       "      <td>Chr01A</td>\n",
       "      <td>11363</td>\n",
       "      <td>11663</td>\n",
       "      <td>1</td>\n",
       "      <td>1</td>\n",
       "      <td>300</td>\n",
       "      <td>0.003333</td>\n",
       "    </tr>\n",
       "    <tr>\n",
       "      <th>2</th>\n",
       "      <td>Chr01A</td>\n",
       "      <td>11836</td>\n",
       "      <td>12515</td>\n",
       "      <td>0</td>\n",
       "      <td>0</td>\n",
       "      <td>679</td>\n",
       "      <td>0.000000</td>\n",
       "    </tr>\n",
       "    <tr>\n",
       "      <th>3</th>\n",
       "      <td>Chr01A</td>\n",
       "      <td>12605</td>\n",
       "      <td>13954</td>\n",
       "      <td>2</td>\n",
       "      <td>2</td>\n",
       "      <td>1349</td>\n",
       "      <td>0.001483</td>\n",
       "    </tr>\n",
       "    <tr>\n",
       "      <th>4</th>\n",
       "      <td>Chr01A</td>\n",
       "      <td>14542</td>\n",
       "      <td>17922</td>\n",
       "      <td>4</td>\n",
       "      <td>4</td>\n",
       "      <td>3380</td>\n",
       "      <td>0.001183</td>\n",
       "    </tr>\n",
       "    <tr>\n",
       "      <th>...</th>\n",
       "      <td>...</td>\n",
       "      <td>...</td>\n",
       "      <td>...</td>\n",
       "      <td>...</td>\n",
       "      <td>...</td>\n",
       "      <td>...</td>\n",
       "      <td>...</td>\n",
       "    </tr>\n",
       "    <tr>\n",
       "      <th>474671</th>\n",
       "      <td>Chr18B</td>\n",
       "      <td>26461749</td>\n",
       "      <td>26464514</td>\n",
       "      <td>12</td>\n",
       "      <td>12</td>\n",
       "      <td>2765</td>\n",
       "      <td>0.004340</td>\n",
       "    </tr>\n",
       "    <tr>\n",
       "      <th>474672</th>\n",
       "      <td>Chr18B</td>\n",
       "      <td>26464515</td>\n",
       "      <td>26465053</td>\n",
       "      <td>1</td>\n",
       "      <td>1</td>\n",
       "      <td>538</td>\n",
       "      <td>0.001859</td>\n",
       "    </tr>\n",
       "    <tr>\n",
       "      <th>474673</th>\n",
       "      <td>Chr18B</td>\n",
       "      <td>26465068</td>\n",
       "      <td>26468954</td>\n",
       "      <td>25</td>\n",
       "      <td>25</td>\n",
       "      <td>3886</td>\n",
       "      <td>0.006433</td>\n",
       "    </tr>\n",
       "    <tr>\n",
       "      <th>474674</th>\n",
       "      <td>Chr18B</td>\n",
       "      <td>26468955</td>\n",
       "      <td>26472443</td>\n",
       "      <td>28</td>\n",
       "      <td>28</td>\n",
       "      <td>3488</td>\n",
       "      <td>0.008027</td>\n",
       "    </tr>\n",
       "    <tr>\n",
       "      <th>474675</th>\n",
       "      <td>Chr18B</td>\n",
       "      <td>26472445</td>\n",
       "      <td>26484131</td>\n",
       "      <td>0</td>\n",
       "      <td>0</td>\n",
       "      <td>11686</td>\n",
       "      <td>0.000000</td>\n",
       "    </tr>\n",
       "  </tbody>\n",
       "</table>\n",
       "<p>474676 rows × 7 columns</p>\n",
       "</div>"
      ],
      "text/plain": [
       "         chrom     start       end  name  score  strand  thickStart\n",
       "0       Chr01A         2     10118     0      0   10116    0.000000\n",
       "1       Chr01A     11363     11663     1      1     300    0.003333\n",
       "2       Chr01A     11836     12515     0      0     679    0.000000\n",
       "3       Chr01A     12605     13954     2      2    1349    0.001483\n",
       "4       Chr01A     14542     17922     4      4    3380    0.001183\n",
       "...        ...       ...       ...   ...    ...     ...         ...\n",
       "474671  Chr18B  26461749  26464514    12     12    2765    0.004340\n",
       "474672  Chr18B  26464515  26465053     1      1     538    0.001859\n",
       "474673  Chr18B  26465068  26468954    25     25    3886    0.006433\n",
       "474674  Chr18B  26468955  26472443    28     28    3488    0.008027\n",
       "474675  Chr18B  26472445  26484131     0      0   11686    0.000000\n",
       "\n",
       "[474676 rows x 7 columns]"
      ]
     },
     "execution_count": 8,
     "metadata": {},
     "output_type": "execute_result"
    }
   ],
   "source": [
    "TE_bed = TE[['chr', 'start', 'end']]\n",
    "#sort \n",
    "TE_bed = TE_bed.sort_values(by=['chr', 'start'])\n",
    "TE_bed.columns = ['chrom', 'start', 'end']\n",
    "#Convert to bed file\n",
    "TE_bed = BedTool.from_dataframe(TE_bed)\n",
    "#Merge the TE bed\n",
    "TE_bed = TE_bed.merge()\n",
    "#intersect the bed files\n",
    "bed_5mc_short = bed_5mC[['chr', 'start', 'end']]\n",
    "bed_5mc_short = BedTool.from_dataframe(bed_5mc_short)\n",
    "#TE_5mC = TE_bed.intersect(bed_5mc_short, wa=True, wb=True).to_dataframe()\n",
    "TE_5mC = TE_bed.coverage(bed_5mc_short).to_dataframe()\n",
    "\n",
    "TE_5mC"
   ]
  },
  {
   "cell_type": "code",
   "execution_count": 9,
   "metadata": {},
   "outputs": [
    {
     "data": {
      "text/html": [
       "<div>\n",
       "<style scoped>\n",
       "    .dataframe tbody tr th:only-of-type {\n",
       "        vertical-align: middle;\n",
       "    }\n",
       "\n",
       "    .dataframe tbody tr th {\n",
       "        vertical-align: top;\n",
       "    }\n",
       "\n",
       "    .dataframe thead th {\n",
       "        text-align: right;\n",
       "    }\n",
       "</style>\n",
       "<table border=\"1\" class=\"dataframe\">\n",
       "  <thead>\n",
       "    <tr style=\"text-align: right;\">\n",
       "      <th></th>\n",
       "      <th>chrom</th>\n",
       "      <th>start</th>\n",
       "      <th>end</th>\n",
       "      <th>name</th>\n",
       "      <th>score</th>\n",
       "      <th>strand</th>\n",
       "      <th>thickStart</th>\n",
       "    </tr>\n",
       "  </thead>\n",
       "  <tbody>\n",
       "    <tr>\n",
       "      <th>0</th>\n",
       "      <td>Chr01A</td>\n",
       "      <td>767853151831</td>\n",
       "      <td>767930610087</td>\n",
       "      <td>223128</td>\n",
       "      <td>223128</td>\n",
       "      <td>77458256</td>\n",
       "      <td>49.218616</td>\n",
       "    </tr>\n",
       "    <tr>\n",
       "      <th>1</th>\n",
       "      <td>Chr01B</td>\n",
       "      <td>678482880551</td>\n",
       "      <td>678556976168</td>\n",
       "      <td>241295</td>\n",
       "      <td>241295</td>\n",
       "      <td>74095617</td>\n",
       "      <td>48.263893</td>\n",
       "    </tr>\n",
       "    <tr>\n",
       "      <th>2</th>\n",
       "      <td>Chr02A</td>\n",
       "      <td>764252647808</td>\n",
       "      <td>764328518322</td>\n",
       "      <td>204729</td>\n",
       "      <td>204729</td>\n",
       "      <td>75870514</td>\n",
       "      <td>43.029690</td>\n",
       "    </tr>\n",
       "    <tr>\n",
       "      <th>3</th>\n",
       "      <td>Chr02B</td>\n",
       "      <td>781648537032</td>\n",
       "      <td>781722873926</td>\n",
       "      <td>207270</td>\n",
       "      <td>207270</td>\n",
       "      <td>74336894</td>\n",
       "      <td>48.655957</td>\n",
       "    </tr>\n",
       "    <tr>\n",
       "      <th>4</th>\n",
       "      <td>Chr03A</td>\n",
       "      <td>636638567002</td>\n",
       "      <td>636707070002</td>\n",
       "      <td>178574</td>\n",
       "      <td>178574</td>\n",
       "      <td>68503000</td>\n",
       "      <td>43.414622</td>\n",
       "    </tr>\n",
       "    <tr>\n",
       "      <th>5</th>\n",
       "      <td>Chr03B</td>\n",
       "      <td>742750911704</td>\n",
       "      <td>742826887681</td>\n",
       "      <td>232879</td>\n",
       "      <td>232879</td>\n",
       "      <td>75975977</td>\n",
       "      <td>55.781107</td>\n",
       "    </tr>\n",
       "    <tr>\n",
       "      <th>6</th>\n",
       "      <td>Chr04A</td>\n",
       "      <td>582810002432</td>\n",
       "      <td>582873123891</td>\n",
       "      <td>168470</td>\n",
       "      <td>168470</td>\n",
       "      <td>63121459</td>\n",
       "      <td>36.833831</td>\n",
       "    </tr>\n",
       "    <tr>\n",
       "      <th>7</th>\n",
       "      <td>Chr04B</td>\n",
       "      <td>576031417986</td>\n",
       "      <td>576094885526</td>\n",
       "      <td>191253</td>\n",
       "      <td>191253</td>\n",
       "      <td>63467540</td>\n",
       "      <td>43.018889</td>\n",
       "    </tr>\n",
       "    <tr>\n",
       "      <th>8</th>\n",
       "      <td>Chr05A</td>\n",
       "      <td>520256388391</td>\n",
       "      <td>520319067245</td>\n",
       "      <td>174794</td>\n",
       "      <td>174794</td>\n",
       "      <td>62678854</td>\n",
       "      <td>32.489080</td>\n",
       "    </tr>\n",
       "    <tr>\n",
       "      <th>9</th>\n",
       "      <td>Chr05B</td>\n",
       "      <td>534736769264</td>\n",
       "      <td>534799450244</td>\n",
       "      <td>206338</td>\n",
       "      <td>206338</td>\n",
       "      <td>62680980</td>\n",
       "      <td>35.164464</td>\n",
       "    </tr>\n",
       "    <tr>\n",
       "      <th>10</th>\n",
       "      <td>Chr06A</td>\n",
       "      <td>469224675828</td>\n",
       "      <td>469283377959</td>\n",
       "      <td>154743</td>\n",
       "      <td>154743</td>\n",
       "      <td>58702131</td>\n",
       "      <td>31.809801</td>\n",
       "    </tr>\n",
       "    <tr>\n",
       "      <th>11</th>\n",
       "      <td>Chr06B</td>\n",
       "      <td>442466525721</td>\n",
       "      <td>442523204419</td>\n",
       "      <td>155247</td>\n",
       "      <td>155247</td>\n",
       "      <td>56678698</td>\n",
       "      <td>32.258551</td>\n",
       "    </tr>\n",
       "    <tr>\n",
       "      <th>12</th>\n",
       "      <td>Chr07A</td>\n",
       "      <td>418046599656</td>\n",
       "      <td>418101963596</td>\n",
       "      <td>172298</td>\n",
       "      <td>172298</td>\n",
       "      <td>55363940</td>\n",
       "      <td>36.124416</td>\n",
       "    </tr>\n",
       "    <tr>\n",
       "      <th>13</th>\n",
       "      <td>Chr07B</td>\n",
       "      <td>379722716661</td>\n",
       "      <td>379775673742</td>\n",
       "      <td>174203</td>\n",
       "      <td>174203</td>\n",
       "      <td>52957081</td>\n",
       "      <td>40.404488</td>\n",
       "    </tr>\n",
       "    <tr>\n",
       "      <th>14</th>\n",
       "      <td>Chr08A</td>\n",
       "      <td>391025612361</td>\n",
       "      <td>391079254413</td>\n",
       "      <td>138141</td>\n",
       "      <td>138141</td>\n",
       "      <td>53642052</td>\n",
       "      <td>33.371703</td>\n",
       "    </tr>\n",
       "    <tr>\n",
       "      <th>15</th>\n",
       "      <td>Chr08B</td>\n",
       "      <td>372646533422</td>\n",
       "      <td>372699436498</td>\n",
       "      <td>152357</td>\n",
       "      <td>152357</td>\n",
       "      <td>52903076</td>\n",
       "      <td>38.449891</td>\n",
       "    </tr>\n",
       "    <tr>\n",
       "      <th>16</th>\n",
       "      <td>Chr09A</td>\n",
       "      <td>361967974499</td>\n",
       "      <td>362019114447</td>\n",
       "      <td>132386</td>\n",
       "      <td>132386</td>\n",
       "      <td>51139948</td>\n",
       "      <td>24.703512</td>\n",
       "    </tr>\n",
       "    <tr>\n",
       "      <th>17</th>\n",
       "      <td>Chr09B</td>\n",
       "      <td>371397138284</td>\n",
       "      <td>371449555424</td>\n",
       "      <td>150897</td>\n",
       "      <td>150897</td>\n",
       "      <td>52417140</td>\n",
       "      <td>31.230145</td>\n",
       "    </tr>\n",
       "    <tr>\n",
       "      <th>18</th>\n",
       "      <td>Chr10A</td>\n",
       "      <td>327031698957</td>\n",
       "      <td>327084107506</td>\n",
       "      <td>154826</td>\n",
       "      <td>154826</td>\n",
       "      <td>52408549</td>\n",
       "      <td>29.293546</td>\n",
       "    </tr>\n",
       "    <tr>\n",
       "      <th>19</th>\n",
       "      <td>Chr10B</td>\n",
       "      <td>303792357403</td>\n",
       "      <td>303842675543</td>\n",
       "      <td>153664</td>\n",
       "      <td>153664</td>\n",
       "      <td>50318140</td>\n",
       "      <td>29.943530</td>\n",
       "    </tr>\n",
       "    <tr>\n",
       "      <th>20</th>\n",
       "      <td>Chr11A</td>\n",
       "      <td>406977233515</td>\n",
       "      <td>407026746384</td>\n",
       "      <td>110806</td>\n",
       "      <td>110806</td>\n",
       "      <td>49512869</td>\n",
       "      <td>23.732064</td>\n",
       "    </tr>\n",
       "    <tr>\n",
       "      <th>21</th>\n",
       "      <td>Chr11B</td>\n",
       "      <td>353148404922</td>\n",
       "      <td>353193186966</td>\n",
       "      <td>108575</td>\n",
       "      <td>108575</td>\n",
       "      <td>44782044</td>\n",
       "      <td>22.547069</td>\n",
       "    </tr>\n",
       "    <tr>\n",
       "      <th>22</th>\n",
       "      <td>Chr12A</td>\n",
       "      <td>333758577613</td>\n",
       "      <td>333807480977</td>\n",
       "      <td>117837</td>\n",
       "      <td>117837</td>\n",
       "      <td>48903364</td>\n",
       "      <td>26.412315</td>\n",
       "    </tr>\n",
       "    <tr>\n",
       "      <th>23</th>\n",
       "      <td>Chr12B</td>\n",
       "      <td>398940613113</td>\n",
       "      <td>398994614981</td>\n",
       "      <td>150458</td>\n",
       "      <td>150458</td>\n",
       "      <td>54001868</td>\n",
       "      <td>35.255981</td>\n",
       "    </tr>\n",
       "    <tr>\n",
       "      <th>24</th>\n",
       "      <td>Chr13A</td>\n",
       "      <td>229934992662</td>\n",
       "      <td>229976996353</td>\n",
       "      <td>127645</td>\n",
       "      <td>127645</td>\n",
       "      <td>42003691</td>\n",
       "      <td>26.283137</td>\n",
       "    </tr>\n",
       "    <tr>\n",
       "      <th>25</th>\n",
       "      <td>Chr13B</td>\n",
       "      <td>211209723802</td>\n",
       "      <td>211250228520</td>\n",
       "      <td>136692</td>\n",
       "      <td>136692</td>\n",
       "      <td>40504718</td>\n",
       "      <td>22.766885</td>\n",
       "    </tr>\n",
       "    <tr>\n",
       "      <th>26</th>\n",
       "      <td>Chr14A</td>\n",
       "      <td>242868500745</td>\n",
       "      <td>242908941004</td>\n",
       "      <td>116742</td>\n",
       "      <td>116742</td>\n",
       "      <td>40440259</td>\n",
       "      <td>18.966009</td>\n",
       "    </tr>\n",
       "    <tr>\n",
       "      <th>27</th>\n",
       "      <td>Chr14B</td>\n",
       "      <td>201310223273</td>\n",
       "      <td>201348162047</td>\n",
       "      <td>101371</td>\n",
       "      <td>101371</td>\n",
       "      <td>37938774</td>\n",
       "      <td>19.719135</td>\n",
       "    </tr>\n",
       "    <tr>\n",
       "      <th>28</th>\n",
       "      <td>Chr15A</td>\n",
       "      <td>251176458392</td>\n",
       "      <td>251215318874</td>\n",
       "      <td>101941</td>\n",
       "      <td>101941</td>\n",
       "      <td>38860482</td>\n",
       "      <td>19.225042</td>\n",
       "    </tr>\n",
       "    <tr>\n",
       "      <th>29</th>\n",
       "      <td>Chr15B</td>\n",
       "      <td>276302112151</td>\n",
       "      <td>276343983997</td>\n",
       "      <td>145504</td>\n",
       "      <td>145504</td>\n",
       "      <td>41871846</td>\n",
       "      <td>24.486221</td>\n",
       "    </tr>\n",
       "    <tr>\n",
       "      <th>30</th>\n",
       "      <td>Chr16A</td>\n",
       "      <td>173036212677</td>\n",
       "      <td>173068808010</td>\n",
       "      <td>79430</td>\n",
       "      <td>79430</td>\n",
       "      <td>32595333</td>\n",
       "      <td>15.665814</td>\n",
       "    </tr>\n",
       "    <tr>\n",
       "      <th>31</th>\n",
       "      <td>Chr16B</td>\n",
       "      <td>160382290149</td>\n",
       "      <td>160412976969</td>\n",
       "      <td>80794</td>\n",
       "      <td>80794</td>\n",
       "      <td>30686820</td>\n",
       "      <td>17.121185</td>\n",
       "    </tr>\n",
       "    <tr>\n",
       "      <th>32</th>\n",
       "      <td>Chr17A</td>\n",
       "      <td>104191437295</td>\n",
       "      <td>104215554906</td>\n",
       "      <td>48793</td>\n",
       "      <td>48793</td>\n",
       "      <td>24117611</td>\n",
       "      <td>11.410573</td>\n",
       "    </tr>\n",
       "    <tr>\n",
       "      <th>33</th>\n",
       "      <td>Chr17B</td>\n",
       "      <td>113591271436</td>\n",
       "      <td>113617491175</td>\n",
       "      <td>65082</td>\n",
       "      <td>65082</td>\n",
       "      <td>26219739</td>\n",
       "      <td>15.114682</td>\n",
       "    </tr>\n",
       "    <tr>\n",
       "      <th>34</th>\n",
       "      <td>Chr18A</td>\n",
       "      <td>106232240916</td>\n",
       "      <td>106255478766</td>\n",
       "      <td>42466</td>\n",
       "      <td>42466</td>\n",
       "      <td>23237850</td>\n",
       "      <td>10.384646</td>\n",
       "    </tr>\n",
       "    <tr>\n",
       "      <th>35</th>\n",
       "      <td>Chr18B</td>\n",
       "      <td>99767982806</td>\n",
       "      <td>99790279202</td>\n",
       "      <td>47703</td>\n",
       "      <td>47703</td>\n",
       "      <td>22296396</td>\n",
       "      <td>9.344252</td>\n",
       "    </tr>\n",
       "  </tbody>\n",
       "</table>\n",
       "</div>"
      ],
      "text/plain": [
       "     chrom         start           end    name   score    strand  thickStart\n",
       "0   Chr01A  767853151831  767930610087  223128  223128  77458256   49.218616\n",
       "1   Chr01B  678482880551  678556976168  241295  241295  74095617   48.263893\n",
       "2   Chr02A  764252647808  764328518322  204729  204729  75870514   43.029690\n",
       "3   Chr02B  781648537032  781722873926  207270  207270  74336894   48.655957\n",
       "4   Chr03A  636638567002  636707070002  178574  178574  68503000   43.414622\n",
       "5   Chr03B  742750911704  742826887681  232879  232879  75975977   55.781107\n",
       "6   Chr04A  582810002432  582873123891  168470  168470  63121459   36.833831\n",
       "7   Chr04B  576031417986  576094885526  191253  191253  63467540   43.018889\n",
       "8   Chr05A  520256388391  520319067245  174794  174794  62678854   32.489080\n",
       "9   Chr05B  534736769264  534799450244  206338  206338  62680980   35.164464\n",
       "10  Chr06A  469224675828  469283377959  154743  154743  58702131   31.809801\n",
       "11  Chr06B  442466525721  442523204419  155247  155247  56678698   32.258551\n",
       "12  Chr07A  418046599656  418101963596  172298  172298  55363940   36.124416\n",
       "13  Chr07B  379722716661  379775673742  174203  174203  52957081   40.404488\n",
       "14  Chr08A  391025612361  391079254413  138141  138141  53642052   33.371703\n",
       "15  Chr08B  372646533422  372699436498  152357  152357  52903076   38.449891\n",
       "16  Chr09A  361967974499  362019114447  132386  132386  51139948   24.703512\n",
       "17  Chr09B  371397138284  371449555424  150897  150897  52417140   31.230145\n",
       "18  Chr10A  327031698957  327084107506  154826  154826  52408549   29.293546\n",
       "19  Chr10B  303792357403  303842675543  153664  153664  50318140   29.943530\n",
       "20  Chr11A  406977233515  407026746384  110806  110806  49512869   23.732064\n",
       "21  Chr11B  353148404922  353193186966  108575  108575  44782044   22.547069\n",
       "22  Chr12A  333758577613  333807480977  117837  117837  48903364   26.412315\n",
       "23  Chr12B  398940613113  398994614981  150458  150458  54001868   35.255981\n",
       "24  Chr13A  229934992662  229976996353  127645  127645  42003691   26.283137\n",
       "25  Chr13B  211209723802  211250228520  136692  136692  40504718   22.766885\n",
       "26  Chr14A  242868500745  242908941004  116742  116742  40440259   18.966009\n",
       "27  Chr14B  201310223273  201348162047  101371  101371  37938774   19.719135\n",
       "28  Chr15A  251176458392  251215318874  101941  101941  38860482   19.225042\n",
       "29  Chr15B  276302112151  276343983997  145504  145504  41871846   24.486221\n",
       "30  Chr16A  173036212677  173068808010   79430   79430  32595333   15.665814\n",
       "31  Chr16B  160382290149  160412976969   80794   80794  30686820   17.121185\n",
       "32  Chr17A  104191437295  104215554906   48793   48793  24117611   11.410573\n",
       "33  Chr17B  113591271436  113617491175   65082   65082  26219739   15.114682\n",
       "34  Chr18A  106232240916  106255478766   42466   42466  23237850   10.384646\n",
       "35  Chr18B   99767982806   99790279202   47703   47703  22296396    9.344252"
      ]
     },
     "execution_count": 9,
     "metadata": {},
     "output_type": "execute_result"
    }
   ],
   "source": [
    "TE_5mC.groupby(['chrom']).sum('name').reset_index()"
   ]
  },
  {
   "cell_type": "code",
   "execution_count": 10,
   "metadata": {},
   "outputs": [
    {
     "data": {
      "text/html": [
       "<div>\n",
       "<style scoped>\n",
       "    .dataframe tbody tr th:only-of-type {\n",
       "        vertical-align: middle;\n",
       "    }\n",
       "\n",
       "    .dataframe tbody tr th {\n",
       "        vertical-align: top;\n",
       "    }\n",
       "\n",
       "    .dataframe thead th {\n",
       "        text-align: right;\n",
       "    }\n",
       "</style>\n",
       "<table border=\"1\" class=\"dataframe\">\n",
       "  <thead>\n",
       "    <tr style=\"text-align: right;\">\n",
       "      <th></th>\n",
       "      <th>chr</th>\n",
       "      <th>size</th>\n",
       "      <th>count</th>\n",
       "      <th>Cov</th>\n",
       "      <th>hap</th>\n",
       "      <th>type</th>\n",
       "      <th>5mC in TE</th>\n",
       "      <th>5mC in TE.cov</th>\n",
       "    </tr>\n",
       "  </thead>\n",
       "  <tbody>\n",
       "    <tr>\n",
       "      <th>0</th>\n",
       "      <td>Chr01A</td>\n",
       "      <td>85591751</td>\n",
       "      <td>229230</td>\n",
       "      <td>0.267818</td>\n",
       "      <td>A</td>\n",
       "      <td>5mCpG</td>\n",
       "      <td>223128</td>\n",
       "      <td>97.338045</td>\n",
       "    </tr>\n",
       "    <tr>\n",
       "      <th>1</th>\n",
       "      <td>Chr01B</td>\n",
       "      <td>81879591</td>\n",
       "      <td>247551</td>\n",
       "      <td>0.302335</td>\n",
       "      <td>B</td>\n",
       "      <td>5mCpG</td>\n",
       "      <td>241295</td>\n",
       "      <td>97.472844</td>\n",
       "    </tr>\n",
       "    <tr>\n",
       "      <th>2</th>\n",
       "      <td>Chr02A</td>\n",
       "      <td>84617575</td>\n",
       "      <td>211671</td>\n",
       "      <td>0.250150</td>\n",
       "      <td>A</td>\n",
       "      <td>5mCpG</td>\n",
       "      <td>204729</td>\n",
       "      <td>96.720382</td>\n",
       "    </tr>\n",
       "    <tr>\n",
       "      <th>3</th>\n",
       "      <td>Chr02B</td>\n",
       "      <td>83031777</td>\n",
       "      <td>215669</td>\n",
       "      <td>0.259743</td>\n",
       "      <td>B</td>\n",
       "      <td>5mCpG</td>\n",
       "      <td>207270</td>\n",
       "      <td>96.105606</td>\n",
       "    </tr>\n",
       "    <tr>\n",
       "      <th>4</th>\n",
       "      <td>Chr03A</td>\n",
       "      <td>76987749</td>\n",
       "      <td>184976</td>\n",
       "      <td>0.240267</td>\n",
       "      <td>A</td>\n",
       "      <td>5mCpG</td>\n",
       "      <td>178574</td>\n",
       "      <td>96.539010</td>\n",
       "    </tr>\n",
       "    <tr>\n",
       "      <th>5</th>\n",
       "      <td>Chr03B</td>\n",
       "      <td>84687478</td>\n",
       "      <td>240530</td>\n",
       "      <td>0.284021</td>\n",
       "      <td>B</td>\n",
       "      <td>5mCpG</td>\n",
       "      <td>232879</td>\n",
       "      <td>96.819108</td>\n",
       "    </tr>\n",
       "    <tr>\n",
       "      <th>6</th>\n",
       "      <td>Chr04A</td>\n",
       "      <td>70778902</td>\n",
       "      <td>174353</td>\n",
       "      <td>0.246335</td>\n",
       "      <td>A</td>\n",
       "      <td>5mCpG</td>\n",
       "      <td>168470</td>\n",
       "      <td>96.625811</td>\n",
       "    </tr>\n",
       "    <tr>\n",
       "      <th>7</th>\n",
       "      <td>Chr04B</td>\n",
       "      <td>71071614</td>\n",
       "      <td>197329</td>\n",
       "      <td>0.277648</td>\n",
       "      <td>B</td>\n",
       "      <td>5mCpG</td>\n",
       "      <td>191253</td>\n",
       "      <td>96.920878</td>\n",
       "    </tr>\n",
       "    <tr>\n",
       "      <th>8</th>\n",
       "      <td>Chr05A</td>\n",
       "      <td>69948377</td>\n",
       "      <td>180550</td>\n",
       "      <td>0.258119</td>\n",
       "      <td>A</td>\n",
       "      <td>5mCpG</td>\n",
       "      <td>174794</td>\n",
       "      <td>96.811963</td>\n",
       "    </tr>\n",
       "    <tr>\n",
       "      <th>9</th>\n",
       "      <td>Chr05B</td>\n",
       "      <td>70239414</td>\n",
       "      <td>213208</td>\n",
       "      <td>0.303545</td>\n",
       "      <td>B</td>\n",
       "      <td>5mCpG</td>\n",
       "      <td>206338</td>\n",
       "      <td>96.777794</td>\n",
       "    </tr>\n",
       "    <tr>\n",
       "      <th>10</th>\n",
       "      <td>Chr06A</td>\n",
       "      <td>65770632</td>\n",
       "      <td>159993</td>\n",
       "      <td>0.243259</td>\n",
       "      <td>A</td>\n",
       "      <td>5mCpG</td>\n",
       "      <td>154743</td>\n",
       "      <td>96.718606</td>\n",
       "    </tr>\n",
       "    <tr>\n",
       "      <th>11</th>\n",
       "      <td>Chr06B</td>\n",
       "      <td>63517070</td>\n",
       "      <td>160373</td>\n",
       "      <td>0.252488</td>\n",
       "      <td>B</td>\n",
       "      <td>5mCpG</td>\n",
       "      <td>155247</td>\n",
       "      <td>96.803701</td>\n",
       "    </tr>\n",
       "    <tr>\n",
       "      <th>12</th>\n",
       "      <td>Chr07A</td>\n",
       "      <td>61052114</td>\n",
       "      <td>177855</td>\n",
       "      <td>0.291317</td>\n",
       "      <td>A</td>\n",
       "      <td>5mCpG</td>\n",
       "      <td>172298</td>\n",
       "      <td>96.875545</td>\n",
       "    </tr>\n",
       "    <tr>\n",
       "      <th>13</th>\n",
       "      <td>Chr07B</td>\n",
       "      <td>58501933</td>\n",
       "      <td>179868</td>\n",
       "      <td>0.307457</td>\n",
       "      <td>B</td>\n",
       "      <td>5mCpG</td>\n",
       "      <td>174203</td>\n",
       "      <td>96.850468</td>\n",
       "    </tr>\n",
       "    <tr>\n",
       "      <th>14</th>\n",
       "      <td>Chr08A</td>\n",
       "      <td>60211033</td>\n",
       "      <td>143535</td>\n",
       "      <td>0.238387</td>\n",
       "      <td>A</td>\n",
       "      <td>5mCpG</td>\n",
       "      <td>138141</td>\n",
       "      <td>96.242032</td>\n",
       "    </tr>\n",
       "    <tr>\n",
       "      <th>15</th>\n",
       "      <td>Chr08B</td>\n",
       "      <td>59431777</td>\n",
       "      <td>157212</td>\n",
       "      <td>0.264525</td>\n",
       "      <td>B</td>\n",
       "      <td>5mCpG</td>\n",
       "      <td>152357</td>\n",
       "      <td>96.911813</td>\n",
       "    </tr>\n",
       "    <tr>\n",
       "      <th>16</th>\n",
       "      <td>Chr09A</td>\n",
       "      <td>57827416</td>\n",
       "      <td>137330</td>\n",
       "      <td>0.237483</td>\n",
       "      <td>A</td>\n",
       "      <td>5mCpG</td>\n",
       "      <td>132386</td>\n",
       "      <td>96.399913</td>\n",
       "    </tr>\n",
       "    <tr>\n",
       "      <th>17</th>\n",
       "      <td>Chr09B</td>\n",
       "      <td>59097721</td>\n",
       "      <td>156274</td>\n",
       "      <td>0.264433</td>\n",
       "      <td>B</td>\n",
       "      <td>5mCpG</td>\n",
       "      <td>150897</td>\n",
       "      <td>96.559248</td>\n",
       "    </tr>\n",
       "    <tr>\n",
       "      <th>18</th>\n",
       "      <td>Chr10A</td>\n",
       "      <td>57602587</td>\n",
       "      <td>159374</td>\n",
       "      <td>0.276679</td>\n",
       "      <td>A</td>\n",
       "      <td>5mCpG</td>\n",
       "      <td>154826</td>\n",
       "      <td>97.146335</td>\n",
       "    </tr>\n",
       "    <tr>\n",
       "      <th>19</th>\n",
       "      <td>Chr10B</td>\n",
       "      <td>55509584</td>\n",
       "      <td>158781</td>\n",
       "      <td>0.286042</td>\n",
       "      <td>B</td>\n",
       "      <td>5mCpG</td>\n",
       "      <td>153664</td>\n",
       "      <td>96.777322</td>\n",
       "    </tr>\n",
       "    <tr>\n",
       "      <th>20</th>\n",
       "      <td>Chr11A</td>\n",
       "      <td>56546150</td>\n",
       "      <td>115860</td>\n",
       "      <td>0.204895</td>\n",
       "      <td>A</td>\n",
       "      <td>5mCpG</td>\n",
       "      <td>110806</td>\n",
       "      <td>95.637839</td>\n",
       "    </tr>\n",
       "    <tr>\n",
       "      <th>21</th>\n",
       "      <td>Chr11B</td>\n",
       "      <td>51355936</td>\n",
       "      <td>114047</td>\n",
       "      <td>0.222072</td>\n",
       "      <td>B</td>\n",
       "      <td>5mCpG</td>\n",
       "      <td>108575</td>\n",
       "      <td>95.201978</td>\n",
       "    </tr>\n",
       "    <tr>\n",
       "      <th>22</th>\n",
       "      <td>Chr12A</td>\n",
       "      <td>54851119</td>\n",
       "      <td>123253</td>\n",
       "      <td>0.224705</td>\n",
       "      <td>A</td>\n",
       "      <td>5mCpG</td>\n",
       "      <td>117837</td>\n",
       "      <td>95.605786</td>\n",
       "    </tr>\n",
       "    <tr>\n",
       "      <th>23</th>\n",
       "      <td>Chr12B</td>\n",
       "      <td>60506416</td>\n",
       "      <td>157437</td>\n",
       "      <td>0.260199</td>\n",
       "      <td>B</td>\n",
       "      <td>5mCpG</td>\n",
       "      <td>150458</td>\n",
       "      <td>95.567116</td>\n",
       "    </tr>\n",
       "    <tr>\n",
       "      <th>24</th>\n",
       "      <td>Chr13A</td>\n",
       "      <td>46523952</td>\n",
       "      <td>131839</td>\n",
       "      <td>0.283379</td>\n",
       "      <td>A</td>\n",
       "      <td>5mCpG</td>\n",
       "      <td>127645</td>\n",
       "      <td>96.818847</td>\n",
       "    </tr>\n",
       "    <tr>\n",
       "      <th>25</th>\n",
       "      <td>Chr13B</td>\n",
       "      <td>44901655</td>\n",
       "      <td>140836</td>\n",
       "      <td>0.313654</td>\n",
       "      <td>B</td>\n",
       "      <td>5mCpG</td>\n",
       "      <td>136692</td>\n",
       "      <td>97.057571</td>\n",
       "    </tr>\n",
       "    <tr>\n",
       "      <th>26</th>\n",
       "      <td>Chr14A</td>\n",
       "      <td>45634404</td>\n",
       "      <td>120854</td>\n",
       "      <td>0.264831</td>\n",
       "      <td>A</td>\n",
       "      <td>5mCpG</td>\n",
       "      <td>116742</td>\n",
       "      <td>96.597547</td>\n",
       "    </tr>\n",
       "    <tr>\n",
       "      <th>27</th>\n",
       "      <td>Chr14B</td>\n",
       "      <td>42960447</td>\n",
       "      <td>105367</td>\n",
       "      <td>0.245265</td>\n",
       "      <td>B</td>\n",
       "      <td>5mCpG</td>\n",
       "      <td>101371</td>\n",
       "      <td>96.207541</td>\n",
       "    </tr>\n",
       "    <tr>\n",
       "      <th>28</th>\n",
       "      <td>Chr15A</td>\n",
       "      <td>43942271</td>\n",
       "      <td>105029</td>\n",
       "      <td>0.239016</td>\n",
       "      <td>A</td>\n",
       "      <td>5mCpG</td>\n",
       "      <td>101941</td>\n",
       "      <td>97.059860</td>\n",
       "    </tr>\n",
       "    <tr>\n",
       "      <th>29</th>\n",
       "      <td>Chr15B</td>\n",
       "      <td>46997453</td>\n",
       "      <td>149805</td>\n",
       "      <td>0.318751</td>\n",
       "      <td>B</td>\n",
       "      <td>5mCpG</td>\n",
       "      <td>145504</td>\n",
       "      <td>97.128934</td>\n",
       "    </tr>\n",
       "    <tr>\n",
       "      <th>30</th>\n",
       "      <td>Chr16A</td>\n",
       "      <td>37086052</td>\n",
       "      <td>83331</td>\n",
       "      <td>0.224696</td>\n",
       "      <td>A</td>\n",
       "      <td>5mCpG</td>\n",
       "      <td>79430</td>\n",
       "      <td>95.318669</td>\n",
       "    </tr>\n",
       "    <tr>\n",
       "      <th>31</th>\n",
       "      <td>Chr16B</td>\n",
       "      <td>35082462</td>\n",
       "      <td>84124</td>\n",
       "      <td>0.239789</td>\n",
       "      <td>B</td>\n",
       "      <td>5mCpG</td>\n",
       "      <td>80794</td>\n",
       "      <td>96.041558</td>\n",
       "    </tr>\n",
       "    <tr>\n",
       "      <th>32</th>\n",
       "      <td>Chr17A</td>\n",
       "      <td>28021773</td>\n",
       "      <td>51724</td>\n",
       "      <td>0.184585</td>\n",
       "      <td>A</td>\n",
       "      <td>5mCpG</td>\n",
       "      <td>48793</td>\n",
       "      <td>94.333385</td>\n",
       "    </tr>\n",
       "    <tr>\n",
       "      <th>33</th>\n",
       "      <td>Chr17B</td>\n",
       "      <td>30262541</td>\n",
       "      <td>68472</td>\n",
       "      <td>0.226260</td>\n",
       "      <td>B</td>\n",
       "      <td>5mCpG</td>\n",
       "      <td>65082</td>\n",
       "      <td>95.049071</td>\n",
       "    </tr>\n",
       "    <tr>\n",
       "      <th>34</th>\n",
       "      <td>Chr18A</td>\n",
       "      <td>27535891</td>\n",
       "      <td>45174</td>\n",
       "      <td>0.164055</td>\n",
       "      <td>A</td>\n",
       "      <td>5mCpG</td>\n",
       "      <td>42466</td>\n",
       "      <td>94.005401</td>\n",
       "    </tr>\n",
       "    <tr>\n",
       "      <th>35</th>\n",
       "      <td>Chr18B</td>\n",
       "      <td>26484131</td>\n",
       "      <td>50349</td>\n",
       "      <td>0.190110</td>\n",
       "      <td>B</td>\n",
       "      <td>5mCpG</td>\n",
       "      <td>47703</td>\n",
       "      <td>94.744682</td>\n",
       "    </tr>\n",
       "  </tbody>\n",
       "</table>\n",
       "</div>"
      ],
      "text/plain": [
       "       chr      size   count       Cov hap   type  5mC in TE  5mC in TE.cov\n",
       "0   Chr01A  85591751  229230  0.267818   A  5mCpG     223128      97.338045\n",
       "1   Chr01B  81879591  247551  0.302335   B  5mCpG     241295      97.472844\n",
       "2   Chr02A  84617575  211671  0.250150   A  5mCpG     204729      96.720382\n",
       "3   Chr02B  83031777  215669  0.259743   B  5mCpG     207270      96.105606\n",
       "4   Chr03A  76987749  184976  0.240267   A  5mCpG     178574      96.539010\n",
       "5   Chr03B  84687478  240530  0.284021   B  5mCpG     232879      96.819108\n",
       "6   Chr04A  70778902  174353  0.246335   A  5mCpG     168470      96.625811\n",
       "7   Chr04B  71071614  197329  0.277648   B  5mCpG     191253      96.920878\n",
       "8   Chr05A  69948377  180550  0.258119   A  5mCpG     174794      96.811963\n",
       "9   Chr05B  70239414  213208  0.303545   B  5mCpG     206338      96.777794\n",
       "10  Chr06A  65770632  159993  0.243259   A  5mCpG     154743      96.718606\n",
       "11  Chr06B  63517070  160373  0.252488   B  5mCpG     155247      96.803701\n",
       "12  Chr07A  61052114  177855  0.291317   A  5mCpG     172298      96.875545\n",
       "13  Chr07B  58501933  179868  0.307457   B  5mCpG     174203      96.850468\n",
       "14  Chr08A  60211033  143535  0.238387   A  5mCpG     138141      96.242032\n",
       "15  Chr08B  59431777  157212  0.264525   B  5mCpG     152357      96.911813\n",
       "16  Chr09A  57827416  137330  0.237483   A  5mCpG     132386      96.399913\n",
       "17  Chr09B  59097721  156274  0.264433   B  5mCpG     150897      96.559248\n",
       "18  Chr10A  57602587  159374  0.276679   A  5mCpG     154826      97.146335\n",
       "19  Chr10B  55509584  158781  0.286042   B  5mCpG     153664      96.777322\n",
       "20  Chr11A  56546150  115860  0.204895   A  5mCpG     110806      95.637839\n",
       "21  Chr11B  51355936  114047  0.222072   B  5mCpG     108575      95.201978\n",
       "22  Chr12A  54851119  123253  0.224705   A  5mCpG     117837      95.605786\n",
       "23  Chr12B  60506416  157437  0.260199   B  5mCpG     150458      95.567116\n",
       "24  Chr13A  46523952  131839  0.283379   A  5mCpG     127645      96.818847\n",
       "25  Chr13B  44901655  140836  0.313654   B  5mCpG     136692      97.057571\n",
       "26  Chr14A  45634404  120854  0.264831   A  5mCpG     116742      96.597547\n",
       "27  Chr14B  42960447  105367  0.245265   B  5mCpG     101371      96.207541\n",
       "28  Chr15A  43942271  105029  0.239016   A  5mCpG     101941      97.059860\n",
       "29  Chr15B  46997453  149805  0.318751   B  5mCpG     145504      97.128934\n",
       "30  Chr16A  37086052   83331  0.224696   A  5mCpG      79430      95.318669\n",
       "31  Chr16B  35082462   84124  0.239789   B  5mCpG      80794      96.041558\n",
       "32  Chr17A  28021773   51724  0.184585   A  5mCpG      48793      94.333385\n",
       "33  Chr17B  30262541   68472  0.226260   B  5mCpG      65082      95.049071\n",
       "34  Chr18A  27535891   45174  0.164055   A  5mCpG      42466      94.005401\n",
       "35  Chr18B  26484131   50349  0.190110   B  5mCpG      47703      94.744682"
      ]
     },
     "execution_count": 10,
     "metadata": {},
     "output_type": "execute_result"
    }
   ],
   "source": [
    "TE_5mC_intersect = TE_5mC.groupby(['chrom']).sum('name').reset_index()\n",
    "#Convert to dataframe\n",
    "TE_5mC_intersect = TE_5mC_intersect[['chrom', 'name']]\n",
    "TE_5mC_intersect.columns = ['chr', '5mC in TE']\n",
    "TE_5mC_intersect = pd.merge(bed_5mC_count, TE_5mC_intersect, on='chr', how='left')\n",
    "TE_5mC_intersect['5mC in TE.cov'] = TE_5mC_intersect['5mC in TE']*100/TE_5mC_intersect['count']\n",
    "TE_5mC_intersect"
   ]
  },
  {
   "cell_type": "code",
   "execution_count": 14,
   "metadata": {},
   "outputs": [
    {
     "data": {
      "text/plain": [
       "TtestResult(statistic=-0.501573053127541, pvalue=0.3097006677701556, df=32.0)"
      ]
     },
     "execution_count": 14,
     "metadata": {},
     "output_type": "execute_result"
    }
   ],
   "source": [
    "hapA_TE_5mC = TE_5mC_intersect[(TE_5mC_intersect['hap'] == 'A') & (TE_5mC_intersect['chr'] != 'Chr14A')]\n",
    "hapB_TE_5mC = TE_5mC_intersect[(TE_5mC_intersect['hap'] == 'B') & (TE_5mC_intersect['chr'] != 'Chr14B')]\n",
    "stats.ttest_ind(hapA_TE_5mC['5mC in TE.cov'], hapB_TE_5mC['5mC in TE.cov'], alternative='less')"
   ]
  },
  {
   "cell_type": "code",
   "execution_count": 186,
   "metadata": {},
   "outputs": [
    {
     "data": {
      "text/plain": [
       "count    36.000000\n",
       "mean     96.327561\n",
       "std       0.852314\n",
       "min      94.005401\n",
       "25%      95.940628\n",
       "50%      96.672209\n",
       "75%      96.856737\n",
       "max      97.472844\n",
       "Name: 5mC in TE.cov, dtype: float64"
      ]
     },
     "execution_count": 186,
     "metadata": {},
     "output_type": "execute_result"
    }
   ],
   "source": [
    "TE_5mC_intersect['5mC in TE.cov'].describe()"
   ]
  },
  {
   "cell_type": "code",
   "execution_count": 189,
   "metadata": {},
   "outputs": [
    {
     "data": {
      "text/plain": [
       "0.9655303991271221"
      ]
     },
     "execution_count": 189,
     "metadata": {},
     "output_type": "execute_result"
    }
   ],
   "source": [
    "TE_5mC_intersect['5mC in TE'].sum()/TE_5mC_intersect['count'].sum()"
   ]
  },
  {
   "cell_type": "code",
   "execution_count": 13,
   "metadata": {},
   "outputs": [
    {
     "name": "stdout",
     "output_type": "stream",
     "text": [
      "94.00540133705229\n",
      "97.4728439796244\n"
     ]
    }
   ],
   "source": [
    "print(TE_5mC_intersect['5mC in TE.cov'].min())\n",
    "print(TE_5mC_intersect['5mC in TE.cov'].max())"
   ]
  },
  {
   "cell_type": "code",
   "execution_count": 51,
   "metadata": {},
   "outputs": [
    {
     "name": "stderr",
     "output_type": "stream",
     "text": [
      "/tmp/ipykernel_31279/2114766795.py:5: FutureWarning: \n",
      "\n",
      "Passing `palette` without assigning `hue` is deprecated and will be removed in v0.14.0. Assign the `y` variable to `hue` and set `legend=False` for the same effect.\n",
      "\n",
      "  sns.boxplot(y='hap', x='5mC in TE.cov', data=TE_5mC_intersect, palette='coolwarm')\n"
     ]
    },
    {
     "data": {
      "image/png": "[encoded data removed]",
      "text/plain": [
       "<Figure size 700x100 with 1 Axes>"
      ]
     },
     "metadata": {},
     "output_type": "display_data"
    }
   ],
   "source": [
    "#Plot the coverage of 5mC in TE regions\n",
    "plt.figure(figsize=(7, 1))\n",
    "from seaborn import violinplot\n",
    "import seaborn as sns\n",
    "sns.boxplot(y='hap', x='5mC in TE.cov', data=TE_5mC_intersect, palette='coolwarm')\n",
    "sns.boxplot(x='5mC in TE.cov', data=TE_5mC_intersect, color='yellow')\n",
    "#add dot plot\n",
    "sns.swarmplot(y='hap', x='5mC in TE.cov', data=TE_5mC_intersect, color='k', size=1.5)\n",
    "sns.swarmplot(x='5mC in TE.cov', data=TE_5mC_intersect, color='k', size=1.5)\n",
    "#plt.xlabel('Percentage of 5mCpG overlapping TEs (%)')\n",
    "plt.xlim(80,100)\n",
    "plt.xticks(np.arange(82, 102, 4))\n",
    "#plt.savefig(\"/mnt/c/Users/lzy55/Downloads/boxplot_5mCpG_TE.svg\", format=\"svg\", bbox_inches=\"tight\")\n",
    "plt.show()\n"
   ]
  },
  {
   "cell_type": "code",
   "execution_count": 55,
   "metadata": {},
   "outputs": [
    {
     "data": {
      "text/plain": [
       "TtestResult(statistic=0.501573053127541, pvalue=0.3097006677701556, df=32.0)"
      ]
     },
     "execution_count": 55,
     "metadata": {},
     "output_type": "execute_result"
    }
   ],
   "source": [
    "#tmp_A = TE_5mC_intersect[TE_5mC_intersect['chr'].str.contains('A') ]\n",
    "tmp_A = TE_5mC_intersect[(TE_5mC_intersect['hap'] == 'A') & (TE_5mC_intersect['chr'] != 'Chr14A')]\n",
    "#tmp_B = TE_5mC_intersect[TE_5mC_intersect['chr'].str.contains('B') ]\n",
    "tmp_B = TE_5mC_intersect[(TE_5mC_intersect['hap'] == 'B') & (TE_5mC_intersect['chr'] != 'Chr14B')]\n",
    "#tmp_B = TE_5mC_intersect[TE_5mC_intersect['chr'].str.contains('B') ]\n",
    "stats.ttest_ind(tmp_B['5mC in TE.cov'], tmp_A['5mC in TE.cov'],alternative='greater')"
   ]
  },
  {
   "cell_type": "code",
   "execution_count": null,
   "metadata": {},
   "outputs": [],
   "source": []
  },
  {
   "cell_type": "code",
   "execution_count": 23,
   "metadata": {},
   "outputs": [],
   "source": [
    "def calculate_dinucleotide_frequency(seqrecords):\n",
    "    seq_id = seqrecords.id\n",
    "    seq = str(seqrecords.seq)\n",
    "    #Turn to upper case\n",
    "    seq = seq.upper()\n",
    "    dinucleotide_freq = {seq_id: {}}\n",
    "    dinucleotide_types = ['AA', 'AC', 'AG', 'AT', 'CA', 'CC', 'CG', 'CT', 'GA', 'GC', 'GG', 'GT', 'TA', 'TC', 'TG', 'TT']\n",
    "    total_dinucleotides = 0\n",
    "    for i in range(len(seq) - 1):\n",
    "        if seq[i:i+2] in dinucleotide_types:\n",
    "            total_dinucleotides += 1\n",
    "            # Count the number of each dinucleotide\n",
    "            dinucleotide_freq[seq_id][seq[i:i+2]] = dinucleotide_freq[seq_id].get(seq[i:i+2], 0) + 1\n",
    "\n",
    "    return dinucleotide_freq"
   ]
  },
  {
   "cell_type": "code",
   "execution_count": 95,
   "metadata": {},
   "outputs": [],
   "source": [
    "def get_CpG_position(seqrecords):\n",
    "    seq_id = seqrecords.id\n",
    "    seq = str(seqrecords.seq)\n",
    "    #Turn to upper case\n",
    "    seq = seq.upper()\n",
    "    dinucleotide_df = pd.DataFrame()\n",
    "    total_dinucleotides = 0\n",
    "    for i in range(len(seq) - 1):\n",
    "        if seq[i:i+2] == 'CG':\n",
    "            # Count the number of each dinucleotide\n",
    "            #Save the position of the dinucleotide\n",
    "            tmp_df = pd.DataFrame({'chr': [seq_id], 'pos': [i]})\n",
    "            dinucleotide_df = pd.concat([dinucleotide_df, tmp_df])\n",
    "\n",
    "    return dinucleotide_df"
   ]
  },
  {
   "cell_type": "code",
   "execution_count": 102,
   "metadata": {},
   "outputs": [],
   "source": [
    "def find_CpG_in_chromosome(chromosome_data):\n",
    "    \"\"\"Find all CpG sites in a single chromosome\"\"\"\n",
    "    chr_id = chromosome_data.id\n",
    "    sequence = chromosome_data.seq\n",
    "    # Convert sequence to string and uppercase\n",
    "    sequence = str(sequence).upper()\n",
    "    \n",
    "    # Find all occurrences of CG using regex\n",
    "    matches = re.finditer(r'CG', sequence)\n",
    "    \n",
    "    # Create list of positions\n",
    "    positions = [(chr_id, match.start(), match.start() + 2) for match in matches]\n",
    "    #save the positions to a dataframe\n",
    "    positions_df = pd.DataFrame(positions, columns=['chr', 'start', 'end'])\n",
    "    return positions_df"
   ]
  },
  {
   "cell_type": "code",
   "execution_count": 100,
   "metadata": {},
   "outputs": [],
   "source": [
    "#get chr1A sequence\n",
    "CHR01A = [x for x in Au3_genome if 'Chr01A' in x.id][0]\n",
    "CHR01B = [x for x in Au3_genome if 'Chr01B' in x.id][0]\n",
    "CHR05A = [x for x in Au3_genome if 'Chr05A' in x.id][0]\n",
    "CHR05B = [x for x in Au3_genome if 'Chr05B' in x.id][0]"
   ]
  },
  {
   "cell_type": "code",
   "execution_count": 103,
   "metadata": {},
   "outputs": [],
   "source": [
    "CHR01A_CpG = find_CpG_in_chromosome(CHR01A)\n",
    "CHR01B_CpG = find_CpG_in_chromosome(CHR01B)\n",
    "CHR05A_CpG = find_CpG_in_chromosome(CHR05A)\n",
    "CHR05B_CpG = find_CpG_in_chromosome(CHR05B)"
   ]
  },
  {
   "cell_type": "code",
   "execution_count": 108,
   "metadata": {},
   "outputs": [],
   "source": [
    "#Save the CpG sites to a bed file\n",
    "CHR01A_CpG.to_csv('CHR01A_CpG.bed', sep='\\t', index=False, header=False)\n",
    "CHR01B_CpG.to_csv('CHR01B_CpG.bed', sep='\\t', index=False, header=False)\n",
    "CHR05A_CpG.to_csv('CHR05A_CpG.bed', sep='\\t', index=False, header=False)\n",
    "CHR05B_CpG.to_csv('CHR05B_CpG.bed', sep='\\t', index=False, header=False)"
   ]
  },
  {
   "cell_type": "code",
   "execution_count": 18,
   "metadata": {},
   "outputs": [],
   "source": [
    "#Verify whether the 5mC sites are CpG sites\n",
    "def verify_CpG_sites(bed_5mC, genome):\n",
    "    #test if the 5mC sites are CpG sites\n",
    "    for i in range(len(bed_5mC)):\n",
    "        chr = bed_5mC['chr'][i]\n",
    "        start = bed_5mC['start'][i]\n",
    "        end = bed_5mC['end'][i]\n",
    "        for chr_seq in genome:\n",
    "            if chr_seq.id == chr:\n",
    "                seq = str(chr_seq.seq)\n",
    "                seq = seq.upper()\n",
    "                if seq[start:start+2] == 'CG':\n",
    "                    bed_5mC.loc[i, 'Type'] = 'CpG'\n",
    "                else:\n",
    "                    bed_5mC.loc[i, 'Type'] = 'Non-CpG'\n",
    "    return bed_5mC"
   ]
  },
  {
   "cell_type": "code",
   "execution_count": 19,
   "metadata": {},
   "outputs": [],
   "source": [
    "Au3_genome_hapA = list(SeqIO.parse('../Au3_CHR_hapA_v3.fasta', 'fasta'))\n",
    "Au3_genome_hapB = list(SeqIO.parse('../Au3_CHR_hapB_v3.fasta', 'fasta'))\n",
    "Au3_genome = Au3_genome_hapA + Au3_genome_hapB\n",
    "\n"
   ]
  },
  {
   "cell_type": "code",
   "execution_count": 20,
   "metadata": {},
   "outputs": [],
   "source": [
    "Au3_genome_name = [seq.id for seq in Au3_genome]\n",
    "Au3_genome_name = pd.DataFrame(Au3_genome_name, columns=['old'])\n",
    "#Make new column, if HapA, then A, if HapB, then B\n",
    "Au3_genome_name['old'] = Au3_genome_name['old'].str.replace('APSI_AU3_HapA_CHR14_ab', 'APSI_AU3_HapB_CHR14')\n",
    "#If contains hapA, add A in the end, if contains hapB, add B in the end\n",
    "Au3_genome_name['new'] = Au3_genome_name['old'].apply(lambda x: x + 'A' if 'HapA' in x else x + 'B')\n",
    "Au3_genome_name['new'] = Au3_genome_name['new'].str.replace('APSI_AU3_HapA_CHR', 'Chr')\n",
    "Au3_genome_name['new'] = Au3_genome_name['new'].str.replace('APSI_AU3_HapB_CHR', 'Chr')"
   ]
  },
  {
   "cell_type": "code",
   "execution_count": 21,
   "metadata": {},
   "outputs": [],
   "source": [
    "#Change the sequence id\n",
    "for i in range(len(Au3_genome)):\n",
    "    new_id = Au3_genome_name['new'][i]\n",
    "    Au3_genome[i].id = new_id"
   ]
  },
  {
   "cell_type": "code",
   "execution_count": 24,
   "metadata": {},
   "outputs": [],
   "source": [
    "dinucleotide_freq_dict = {}\n",
    "\n",
    "def update_dict(result):\n",
    "    dinucleotide_freq_dict.update(result)\n",
    "\n",
    "pool = mp.Pool(mp.cpu_count())\n",
    "\n",
    "for result in pool.map(calculate_dinucleotide_frequency, Au3_genome):\n",
    "    update_dict(result)\n",
    "\n",
    "pool.close()\n",
    "pool.join()\n"
   ]
  },
  {
   "cell_type": "code",
   "execution_count": 25,
   "metadata": {},
   "outputs": [],
   "source": [
    "#Convert the dictionary to a dataframe and get CpG frequency\n",
    "dinucleotide_freq_df = pd.DataFrame(dinucleotide_freq_dict).T\n",
    "dinucleotide_freq_df = dinucleotide_freq_df[['CG']]"
   ]
  },
  {
   "cell_type": "code",
   "execution_count": 26,
   "metadata": {},
   "outputs": [
    {
     "name": "stderr",
     "output_type": "stream",
     "text": [
      "/tmp/ipykernel_31279/654173047.py:6: FutureWarning: \n",
      "\n",
      "Passing `palette` without assigning `hue` is deprecated and will be removed in v0.14.0. Assign the `x` variable to `hue` and set `legend=False` for the same effect.\n",
      "\n",
      "  sns.boxplot(x='hap', y='Cov', data=bed_5mC_merge, palette='coolwarm', legend=True)\n"
     ]
    },
    {
     "data": {
      "image/png": "[encoded data removed]",
      "text/plain": [
       "<Figure size 300x300 with 1 Axes>"
      ]
     },
     "metadata": {},
     "output_type": "display_data"
    }
   ],
   "source": [
    "#merge the CpG frequency to the bed_5mC\n",
    "bed_5mC_merge = pd.merge(bed_5mC_count, dinucleotide_freq_df, left_on='chr', right_index=True, how='left')\n",
    "bed_5mC_merge['Cov'] = bed_5mC_merge['count']*100/bed_5mC_merge['CG']\n",
    "#Plot the CpG frequency by haplotype with violin plot\n",
    "plt.figure(figsize=(3, 3))\n",
    "sns.boxplot(x='hap', y='Cov', data=bed_5mC_merge, palette='coolwarm', legend=True)\n",
    "\n",
    "sns.boxplot(y='Cov', data=bed_5mC_merge, color='yellow')\n",
    "#add dot plot\n",
    "sns.swarmplot(x='hap', y='Cov', data=bed_5mC_merge, color='k', size=2)\n",
    "sns.swarmplot(y='Cov', data=bed_5mC_merge, color='k', size=2)\n",
    "plt.ylim(30, 60)\n",
    "#plt.ylabel('Proportion of methylated CpG (%)')\n",
    "plt.ylabel('Haplotype')\n",
    "\n",
    "#plt.savefig(\"/mnt/c/Users/lzy55/Downloads/WG_5mCpG.svg\", format=\"svg\", bbox_inches=\"tight\")\n",
    "plt.show()"
   ]
  },
  {
   "cell_type": "code",
   "execution_count": 75,
   "metadata": {},
   "outputs": [
    {
     "data": {
      "text/html": [
       "<div>\n",
       "<style scoped>\n",
       "    .dataframe tbody tr th:only-of-type {\n",
       "        vertical-align: middle;\n",
       "    }\n",
       "\n",
       "    .dataframe tbody tr th {\n",
       "        vertical-align: top;\n",
       "    }\n",
       "\n",
       "    .dataframe thead th {\n",
       "        text-align: right;\n",
       "    }\n",
       "</style>\n",
       "<table border=\"1\" class=\"dataframe\">\n",
       "  <thead>\n",
       "    <tr style=\"text-align: right;\">\n",
       "      <th></th>\n",
       "      <th>chr</th>\n",
       "      <th>size</th>\n",
       "      <th>count</th>\n",
       "      <th>Cov</th>\n",
       "      <th>hap</th>\n",
       "      <th>type</th>\n",
       "      <th>CG</th>\n",
       "    </tr>\n",
       "  </thead>\n",
       "  <tbody>\n",
       "    <tr>\n",
       "      <th>0</th>\n",
       "      <td>Chr01A</td>\n",
       "      <td>85591751</td>\n",
       "      <td>229230</td>\n",
       "      <td>48.667033</td>\n",
       "      <td>A</td>\n",
       "      <td>5mCpG</td>\n",
       "      <td>471017</td>\n",
       "    </tr>\n",
       "    <tr>\n",
       "      <th>19</th>\n",
       "      <td>Chr01B</td>\n",
       "      <td>81879591</td>\n",
       "      <td>247551</td>\n",
       "      <td>52.654853</td>\n",
       "      <td>B</td>\n",
       "      <td>5mCpG</td>\n",
       "      <td>470139</td>\n",
       "    </tr>\n",
       "    <tr>\n",
       "      <th>1</th>\n",
       "      <td>Chr02A</td>\n",
       "      <td>84617575</td>\n",
       "      <td>211671</td>\n",
       "      <td>46.811536</td>\n",
       "      <td>A</td>\n",
       "      <td>5mCpG</td>\n",
       "      <td>452177</td>\n",
       "    </tr>\n",
       "    <tr>\n",
       "      <th>20</th>\n",
       "      <td>Chr02B</td>\n",
       "      <td>83031777</td>\n",
       "      <td>215669</td>\n",
       "      <td>49.095015</td>\n",
       "      <td>B</td>\n",
       "      <td>5mCpG</td>\n",
       "      <td>439289</td>\n",
       "    </tr>\n",
       "    <tr>\n",
       "      <th>2</th>\n",
       "      <td>Chr03A</td>\n",
       "      <td>76987749</td>\n",
       "      <td>184976</td>\n",
       "      <td>45.446080</td>\n",
       "      <td>A</td>\n",
       "      <td>5mCpG</td>\n",
       "      <td>407023</td>\n",
       "    </tr>\n",
       "    <tr>\n",
       "      <th>21</th>\n",
       "      <td>Chr03B</td>\n",
       "      <td>84687478</td>\n",
       "      <td>240530</td>\n",
       "      <td>50.887511</td>\n",
       "      <td>B</td>\n",
       "      <td>5mCpG</td>\n",
       "      <td>472670</td>\n",
       "    </tr>\n",
       "    <tr>\n",
       "      <th>3</th>\n",
       "      <td>Chr04A</td>\n",
       "      <td>70778902</td>\n",
       "      <td>174353</td>\n",
       "      <td>46.719759</td>\n",
       "      <td>A</td>\n",
       "      <td>5mCpG</td>\n",
       "      <td>373189</td>\n",
       "    </tr>\n",
       "    <tr>\n",
       "      <th>22</th>\n",
       "      <td>Chr04B</td>\n",
       "      <td>71071614</td>\n",
       "      <td>197329</td>\n",
       "      <td>51.027907</td>\n",
       "      <td>B</td>\n",
       "      <td>5mCpG</td>\n",
       "      <td>386708</td>\n",
       "    </tr>\n",
       "    <tr>\n",
       "      <th>4</th>\n",
       "      <td>Chr05A</td>\n",
       "      <td>69948377</td>\n",
       "      <td>180550</td>\n",
       "      <td>47.708260</td>\n",
       "      <td>A</td>\n",
       "      <td>5mCpG</td>\n",
       "      <td>378446</td>\n",
       "    </tr>\n",
       "    <tr>\n",
       "      <th>23</th>\n",
       "      <td>Chr05B</td>\n",
       "      <td>70239414</td>\n",
       "      <td>213208</td>\n",
       "      <td>52.586819</td>\n",
       "      <td>B</td>\n",
       "      <td>5mCpG</td>\n",
       "      <td>405440</td>\n",
       "    </tr>\n",
       "    <tr>\n",
       "      <th>5</th>\n",
       "      <td>Chr06A</td>\n",
       "      <td>65770632</td>\n",
       "      <td>159993</td>\n",
       "      <td>46.234204</td>\n",
       "      <td>A</td>\n",
       "      <td>5mCpG</td>\n",
       "      <td>346049</td>\n",
       "    </tr>\n",
       "    <tr>\n",
       "      <th>24</th>\n",
       "      <td>Chr06B</td>\n",
       "      <td>63517070</td>\n",
       "      <td>160373</td>\n",
       "      <td>48.721602</td>\n",
       "      <td>B</td>\n",
       "      <td>5mCpG</td>\n",
       "      <td>329162</td>\n",
       "    </tr>\n",
       "    <tr>\n",
       "      <th>6</th>\n",
       "      <td>Chr07A</td>\n",
       "      <td>61052114</td>\n",
       "      <td>177855</td>\n",
       "      <td>51.382686</td>\n",
       "      <td>A</td>\n",
       "      <td>5mCpG</td>\n",
       "      <td>346138</td>\n",
       "    </tr>\n",
       "    <tr>\n",
       "      <th>25</th>\n",
       "      <td>Chr07B</td>\n",
       "      <td>58501933</td>\n",
       "      <td>179868</td>\n",
       "      <td>54.244260</td>\n",
       "      <td>B</td>\n",
       "      <td>5mCpG</td>\n",
       "      <td>331589</td>\n",
       "    </tr>\n",
       "    <tr>\n",
       "      <th>7</th>\n",
       "      <td>Chr08A</td>\n",
       "      <td>60211033</td>\n",
       "      <td>143535</td>\n",
       "      <td>45.602570</td>\n",
       "      <td>A</td>\n",
       "      <td>5mCpG</td>\n",
       "      <td>314752</td>\n",
       "    </tr>\n",
       "    <tr>\n",
       "      <th>26</th>\n",
       "      <td>Chr08B</td>\n",
       "      <td>59431777</td>\n",
       "      <td>157212</td>\n",
       "      <td>49.194548</td>\n",
       "      <td>B</td>\n",
       "      <td>5mCpG</td>\n",
       "      <td>319572</td>\n",
       "    </tr>\n",
       "    <tr>\n",
       "      <th>8</th>\n",
       "      <td>Chr09A</td>\n",
       "      <td>57827416</td>\n",
       "      <td>137330</td>\n",
       "      <td>45.481492</td>\n",
       "      <td>A</td>\n",
       "      <td>5mCpG</td>\n",
       "      <td>301947</td>\n",
       "    </tr>\n",
       "    <tr>\n",
       "      <th>27</th>\n",
       "      <td>Chr09B</td>\n",
       "      <td>59097721</td>\n",
       "      <td>156274</td>\n",
       "      <td>49.587653</td>\n",
       "      <td>B</td>\n",
       "      <td>5mCpG</td>\n",
       "      <td>315147</td>\n",
       "    </tr>\n",
       "    <tr>\n",
       "      <th>9</th>\n",
       "      <td>Chr10A</td>\n",
       "      <td>57602587</td>\n",
       "      <td>159374</td>\n",
       "      <td>50.280151</td>\n",
       "      <td>A</td>\n",
       "      <td>5mCpG</td>\n",
       "      <td>316972</td>\n",
       "    </tr>\n",
       "    <tr>\n",
       "      <th>28</th>\n",
       "      <td>Chr10B</td>\n",
       "      <td>55509584</td>\n",
       "      <td>158781</td>\n",
       "      <td>52.049446</td>\n",
       "      <td>B</td>\n",
       "      <td>5mCpG</td>\n",
       "      <td>305058</td>\n",
       "    </tr>\n",
       "    <tr>\n",
       "      <th>10</th>\n",
       "      <td>Chr11A</td>\n",
       "      <td>56546150</td>\n",
       "      <td>115860</td>\n",
       "      <td>42.175999</td>\n",
       "      <td>A</td>\n",
       "      <td>5mCpG</td>\n",
       "      <td>274706</td>\n",
       "    </tr>\n",
       "    <tr>\n",
       "      <th>29</th>\n",
       "      <td>Chr11B</td>\n",
       "      <td>51355936</td>\n",
       "      <td>114047</td>\n",
       "      <td>44.715371</td>\n",
       "      <td>B</td>\n",
       "      <td>5mCpG</td>\n",
       "      <td>255051</td>\n",
       "    </tr>\n",
       "    <tr>\n",
       "      <th>11</th>\n",
       "      <td>Chr12A</td>\n",
       "      <td>54851119</td>\n",
       "      <td>123253</td>\n",
       "      <td>45.011924</td>\n",
       "      <td>A</td>\n",
       "      <td>5mCpG</td>\n",
       "      <td>273823</td>\n",
       "    </tr>\n",
       "    <tr>\n",
       "      <th>30</th>\n",
       "      <td>Chr12B</td>\n",
       "      <td>60506416</td>\n",
       "      <td>157437</td>\n",
       "      <td>50.116189</td>\n",
       "      <td>B</td>\n",
       "      <td>5mCpG</td>\n",
       "      <td>314144</td>\n",
       "    </tr>\n",
       "    <tr>\n",
       "      <th>12</th>\n",
       "      <td>Chr13A</td>\n",
       "      <td>46523952</td>\n",
       "      <td>131839</td>\n",
       "      <td>50.901713</td>\n",
       "      <td>A</td>\n",
       "      <td>5mCpG</td>\n",
       "      <td>259007</td>\n",
       "    </tr>\n",
       "    <tr>\n",
       "      <th>31</th>\n",
       "      <td>Chr13B</td>\n",
       "      <td>44901655</td>\n",
       "      <td>140836</td>\n",
       "      <td>54.771655</td>\n",
       "      <td>B</td>\n",
       "      <td>5mCpG</td>\n",
       "      <td>257133</td>\n",
       "    </tr>\n",
       "    <tr>\n",
       "      <th>13</th>\n",
       "      <td>Chr14A</td>\n",
       "      <td>45634404</td>\n",
       "      <td>120854</td>\n",
       "      <td>48.506327</td>\n",
       "      <td>A</td>\n",
       "      <td>5mCpG</td>\n",
       "      <td>249151</td>\n",
       "    </tr>\n",
       "    <tr>\n",
       "      <th>18</th>\n",
       "      <td>Chr14B</td>\n",
       "      <td>42960447</td>\n",
       "      <td>105367</td>\n",
       "      <td>47.355955</td>\n",
       "      <td>B</td>\n",
       "      <td>5mCpG</td>\n",
       "      <td>222500</td>\n",
       "    </tr>\n",
       "    <tr>\n",
       "      <th>14</th>\n",
       "      <td>Chr15A</td>\n",
       "      <td>43942271</td>\n",
       "      <td>105029</td>\n",
       "      <td>46.642863</td>\n",
       "      <td>A</td>\n",
       "      <td>5mCpG</td>\n",
       "      <td>225177</td>\n",
       "    </tr>\n",
       "    <tr>\n",
       "      <th>32</th>\n",
       "      <td>Chr15B</td>\n",
       "      <td>46997453</td>\n",
       "      <td>149805</td>\n",
       "      <td>54.787131</td>\n",
       "      <td>B</td>\n",
       "      <td>5mCpG</td>\n",
       "      <td>273431</td>\n",
       "    </tr>\n",
       "    <tr>\n",
       "      <th>15</th>\n",
       "      <td>Chr16A</td>\n",
       "      <td>37086052</td>\n",
       "      <td>83331</td>\n",
       "      <td>44.882691</td>\n",
       "      <td>A</td>\n",
       "      <td>5mCpG</td>\n",
       "      <td>185664</td>\n",
       "    </tr>\n",
       "    <tr>\n",
       "      <th>33</th>\n",
       "      <td>Chr16B</td>\n",
       "      <td>35082462</td>\n",
       "      <td>84124</td>\n",
       "      <td>47.008991</td>\n",
       "      <td>B</td>\n",
       "      <td>5mCpG</td>\n",
       "      <td>178953</td>\n",
       "    </tr>\n",
       "    <tr>\n",
       "      <th>16</th>\n",
       "      <td>Chr17A</td>\n",
       "      <td>28021773</td>\n",
       "      <td>51724</td>\n",
       "      <td>39.433398</td>\n",
       "      <td>A</td>\n",
       "      <td>5mCpG</td>\n",
       "      <td>131168</td>\n",
       "    </tr>\n",
       "    <tr>\n",
       "      <th>34</th>\n",
       "      <td>Chr17B</td>\n",
       "      <td>30262541</td>\n",
       "      <td>68472</td>\n",
       "      <td>45.214543</td>\n",
       "      <td>B</td>\n",
       "      <td>5mCpG</td>\n",
       "      <td>151438</td>\n",
       "    </tr>\n",
       "    <tr>\n",
       "      <th>17</th>\n",
       "      <td>Chr18A</td>\n",
       "      <td>27535891</td>\n",
       "      <td>45174</td>\n",
       "      <td>37.136844</td>\n",
       "      <td>A</td>\n",
       "      <td>5mCpG</td>\n",
       "      <td>121642</td>\n",
       "    </tr>\n",
       "    <tr>\n",
       "      <th>35</th>\n",
       "      <td>Chr18B</td>\n",
       "      <td>26484131</td>\n",
       "      <td>50349</td>\n",
       "      <td>41.174498</td>\n",
       "      <td>B</td>\n",
       "      <td>5mCpG</td>\n",
       "      <td>122282</td>\n",
       "    </tr>\n",
       "  </tbody>\n",
       "</table>\n",
       "</div>"
      ],
      "text/plain": [
       "       chr      size   count        Cov hap   type      CG\n",
       "0   Chr01A  85591751  229230  48.667033   A  5mCpG  471017\n",
       "19  Chr01B  81879591  247551  52.654853   B  5mCpG  470139\n",
       "1   Chr02A  84617575  211671  46.811536   A  5mCpG  452177\n",
       "20  Chr02B  83031777  215669  49.095015   B  5mCpG  439289\n",
       "2   Chr03A  76987749  184976  45.446080   A  5mCpG  407023\n",
       "21  Chr03B  84687478  240530  50.887511   B  5mCpG  472670\n",
       "3   Chr04A  70778902  174353  46.719759   A  5mCpG  373189\n",
       "22  Chr04B  71071614  197329  51.027907   B  5mCpG  386708\n",
       "4   Chr05A  69948377  180550  47.708260   A  5mCpG  378446\n",
       "23  Chr05B  70239414  213208  52.586819   B  5mCpG  405440\n",
       "5   Chr06A  65770632  159993  46.234204   A  5mCpG  346049\n",
       "24  Chr06B  63517070  160373  48.721602   B  5mCpG  329162\n",
       "6   Chr07A  61052114  177855  51.382686   A  5mCpG  346138\n",
       "25  Chr07B  58501933  179868  54.244260   B  5mCpG  331589\n",
       "7   Chr08A  60211033  143535  45.602570   A  5mCpG  314752\n",
       "26  Chr08B  59431777  157212  49.194548   B  5mCpG  319572\n",
       "8   Chr09A  57827416  137330  45.481492   A  5mCpG  301947\n",
       "27  Chr09B  59097721  156274  49.587653   B  5mCpG  315147\n",
       "9   Chr10A  57602587  159374  50.280151   A  5mCpG  316972\n",
       "28  Chr10B  55509584  158781  52.049446   B  5mCpG  305058\n",
       "10  Chr11A  56546150  115860  42.175999   A  5mCpG  274706\n",
       "29  Chr11B  51355936  114047  44.715371   B  5mCpG  255051\n",
       "11  Chr12A  54851119  123253  45.011924   A  5mCpG  273823\n",
       "30  Chr12B  60506416  157437  50.116189   B  5mCpG  314144\n",
       "12  Chr13A  46523952  131839  50.901713   A  5mCpG  259007\n",
       "31  Chr13B  44901655  140836  54.771655   B  5mCpG  257133\n",
       "13  Chr14A  45634404  120854  48.506327   A  5mCpG  249151\n",
       "18  Chr14B  42960447  105367  47.355955   B  5mCpG  222500\n",
       "14  Chr15A  43942271  105029  46.642863   A  5mCpG  225177\n",
       "32  Chr15B  46997453  149805  54.787131   B  5mCpG  273431\n",
       "15  Chr16A  37086052   83331  44.882691   A  5mCpG  185664\n",
       "33  Chr16B  35082462   84124  47.008991   B  5mCpG  178953\n",
       "16  Chr17A  28021773   51724  39.433398   A  5mCpG  131168\n",
       "34  Chr17B  30262541   68472  45.214543   B  5mCpG  151438\n",
       "17  Chr18A  27535891   45174  37.136844   A  5mCpG  121642\n",
       "35  Chr18B  26484131   50349  41.174498   B  5mCpG  122282"
      ]
     },
     "execution_count": 75,
     "metadata": {},
     "output_type": "execute_result"
    }
   ],
   "source": [
    "bed_5mC_merge"
   ]
  },
  {
   "cell_type": "code",
   "execution_count": 56,
   "metadata": {},
   "outputs": [
    {
     "data": {
      "text/plain": [
       "TtestResult(statistic=3.0914869857600014, pvalue=0.0020533809082572134, df=32.0)"
      ]
     },
     "execution_count": 56,
     "metadata": {},
     "output_type": "execute_result"
    }
   ],
   "source": [
    "tmp_A = bed_5mC_merge[bed_5mC_merge['chr'].str.contains('A') & (bed_5mC_merge['chr'] != 'Chr14A')]\n",
    "tmp_B = bed_5mC_merge[bed_5mC_merge['chr'].str.contains('B') & (bed_5mC_merge['chr'] != 'Chr14B')]\n",
    "stats.ttest_ind(tmp_B['Cov'], tmp_A['Cov'],alternative='greater')"
   ]
  },
  {
   "cell_type": "code",
   "execution_count": 29,
   "metadata": {},
   "outputs": [
    {
     "data": {
      "text/plain": [
       "TtestResult(statistic=3.002715467104881, pvalue=0.0024950781179283858, df=34.0)"
      ]
     },
     "execution_count": 29,
     "metadata": {},
     "output_type": "execute_result"
    }
   ],
   "source": [
    "tmp_A = bed_5mC_merge[bed_5mC_merge['chr'].str.contains('A') ]\n",
    "tmp_B = bed_5mC_merge[bed_5mC_merge['chr'].str.contains('B') ]\n",
    "stats.ttest_ind(tmp_B['Cov'], tmp_A['Cov'],alternative='greater')"
   ]
  },
  {
   "cell_type": "code",
   "execution_count": 59,
   "metadata": {},
   "outputs": [
    {
     "data": {
      "text/plain": [
       "TtestResult(statistic=10.097709668790284, pvalue=1.1994323669845101e-08, df=16)"
      ]
     },
     "execution_count": 59,
     "metadata": {},
     "output_type": "execute_result"
    }
   ],
   "source": [
    "#Pairwise t-test\n",
    "stats.ttest_rel(tmp_B['Cov'], tmp_A['Cov'],alternative='greater')"
   ]
  },
  {
   "cell_type": "code",
   "execution_count": 67,
   "metadata": {},
   "outputs": [],
   "source": [
    "Au3_genome_df = pd.DataFrame()\n",
    "for seq in Au3_genome:\n",
    "    seq_id = seq.id\n",
    "    seq = str(seq.seq)\n",
    "    seq = seq.upper()\n",
    "    seq_df = pd.DataFrame({'chrom': [seq_id], 'size': len(seq)}, index=[0])\n",
    "    Au3_genome_df = pd.concat([Au3_genome_df, seq_df])"
   ]
  },
  {
   "cell_type": "code",
   "execution_count": 69,
   "metadata": {},
   "outputs": [],
   "source": [
    "# Calculate the length of each interval\n",
    "TE_bed_df = TE_bed.to_dataframe()\n",
    "TE_bed_df['length'] = TE_bed_df['end'] - TE_bed_df['start']\n",
    "\n",
    "# Sum the lengths grouped by chromosome\n",
    "TE_bed_length_sum = TE_bed_df.groupby(['chrom'])['length'].sum().reset_index()"
   ]
  },
  {
   "cell_type": "code",
   "execution_count": 70,
   "metadata": {},
   "outputs": [],
   "source": [
    "#left join\n",
    "TE_bed_length_sum = pd.merge(Au3_genome_df, TE_bed_length_sum, left_on='chrom', right_on='chrom', how='left')"
   ]
  },
  {
   "cell_type": "code",
   "execution_count": 72,
   "metadata": {},
   "outputs": [],
   "source": [
    "TE_bed_length_sum['TE_cov'] = TE_bed_length_sum['length']*100/TE_bed_length_sum['size']"
   ]
  },
  {
   "cell_type": "code",
   "execution_count": 74,
   "metadata": {},
   "outputs": [
    {
     "data": {
      "text/plain": [
       "TtestResult(statistic=0.028754303327753986, pvalue=0.9772391317713319, df=32.0)"
      ]
     },
     "execution_count": 74,
     "metadata": {},
     "output_type": "execute_result"
    }
   ],
   "source": [
    "TE_hapA_tmp = TE_bed_length_sum[TE_bed_length_sum['chrom'].str.contains('A') & (TE_bed_length_sum['chrom'] != 'Chr14A')]\n",
    "TE_hapB_tmp = TE_bed_length_sum[TE_bed_length_sum['chrom'].str.contains('B') & (TE_bed_length_sum['chrom'] != 'Chr14B')]\n",
    "stats.ttest_ind(TE_hapB_tmp['TE_cov'], TE_hapA_tmp['TE_cov'],alternative='two-sided')"
   ]
  },
  {
   "cell_type": "code",
   "execution_count": null,
   "metadata": {},
   "outputs": [],
   "source": []
  },
  {
   "cell_type": "code",
   "execution_count": null,
   "metadata": {},
   "outputs": [],
   "source": []
  },
  {
   "cell_type": "code",
   "execution_count": null,
   "metadata": {},
   "outputs": [],
   "source": []
  },
  {
   "cell_type": "code",
   "execution_count": null,
   "metadata": {},
   "outputs": [],
   "source": []
  },
  {
   "cell_type": "code",
   "execution_count": 33,
   "metadata": {},
   "outputs": [
    {
     "name": "stdout",
     "output_type": "stream",
     "text": [
      "count    17.000000\n",
      "mean     45.912894\n",
      "std       3.725955\n",
      "min      37.136844\n",
      "25%      45.011924\n",
      "50%      46.234204\n",
      "75%      47.708260\n",
      "max      51.382686\n",
      "Name: Cov, dtype: float64 count    17.000000\n",
      "mean     49.872823\n",
      "std       3.742973\n",
      "min      41.174498\n",
      "25%      48.721602\n",
      "50%      50.116189\n",
      "75%      52.586819\n",
      "max      54.787131\n",
      "Name: Cov, dtype: float64\n"
     ]
    }
   ],
   "source": [
    "print(tmp_A['Cov'].describe(), tmp_B['Cov'].describe())"
   ]
  },
  {
   "cell_type": "code",
   "execution_count": 181,
   "metadata": {},
   "outputs": [
    {
     "data": {
      "text/plain": [
       "WilcoxonResult(statistic=170.0, pvalue=7.62939453125e-06)"
      ]
     },
     "execution_count": 181,
     "metadata": {},
     "output_type": "execute_result"
    }
   ],
   "source": [
    "stats.wilcoxon(tmp_B['Cov'], tmp_A['Cov'],alternative='greater')\n"
   ]
  },
  {
   "cell_type": "code",
   "execution_count": 2,
   "metadata": {},
   "outputs": [],
   "source": [
    "gene = pd.read_table('../..//data/Au3_deduplicate/Au3_deduplicate.gff3', header=None, sep = '\\t')\n",
    "gene = gene[gene[2] == 'CDS']\n",
    "gene.columns = ['Chr', 'source', 'type','start', 'end','phase1','strand','phase2','id']\n",
    "gene = gene[['Chr','start','end','strand','id']]\n",
    "gene['gene_id'] = gene['id'].str.split(';').str[0].str.split('.').str[0].str.split('=').str[1]\n",
    "gene['Chr'] = gene['Chr'].str.replace('AU3_HapA_CHR14ab', 'AU3_HapB_CHR14')\n",
    "#If contains hapA, add A in the end, if contains hapB, add B in the end\n",
    "gene['Chr'] = gene['Chr'].apply(lambda x: x + 'A' if 'HapA' in x else x + 'B')\n",
    "gene['Chr'] = gene['Chr'].str.replace('AU3_HapA_CHR', 'Chr')\n",
    "gene['Chr']  = gene['Chr'].str.replace('AU3_HapB_CHR', 'Chr')"
   ]
  },
  {
   "cell_type": "code",
   "execution_count": 3,
   "metadata": {},
   "outputs": [],
   "source": [
    "cds_bed = gene[['Chr','start','end']]\n",
    "cds_bed = cds_bed.sort_values(by=['Chr','start'])"
   ]
  },
  {
   "cell_type": "code",
   "execution_count": 6,
   "metadata": {},
   "outputs": [],
   "source": [
    "cds_bed.to_csv('../../data/Au3_CDS.bed', sep='\\t', index=False, header=False)"
   ]
  },
  {
   "cell_type": "code",
   "execution_count": 38,
   "metadata": {},
   "outputs": [
    {
     "name": "stderr",
     "output_type": "stream",
     "text": [
      "***** WARNING: File /tmp/pybedtools.06treohy.tmp has a record where naming convention (leading zero) is inconsistent with other files:\n",
      "Chr10A\t13511\t13512\n",
      "\n",
      "***** WARNING: File /tmp/pybedtools.06treohy.tmp has a record where naming convention (leading zero) is inconsistent with other files:\n",
      "Chr10A\t13511\t13512\n",
      "\n"
     ]
    }
   ],
   "source": [
    "cds_bed = BedTool.from_dataframe(cds_bed).merge()\n",
    "cds_5mC = cds_bed.coverage(bed_5mc_short).to_dataframe()"
   ]
  },
  {
   "cell_type": "code",
   "execution_count": 40,
   "metadata": {},
   "outputs": [],
   "source": [
    "cds_5mC_intersect = cds_5mC.groupby(['chrom']).sum('name').reset_index()\n",
    "#Convert to dataframe\n",
    "cds_5mC_intersect = cds_5mC_intersect[['chrom', 'name']]\n",
    "cds_5mC_intersect.columns = ['chr', '5mC in cds']\n",
    "cds_5mC_intersect = pd.merge(bed_5mC_count, cds_5mC_intersect, on='chr', how='left')\n",
    "cds_5mC_intersect['5mC in cds.cov'] = cds_5mC_intersect['5mC in cds']*100/cds_5mC_intersect['count']"
   ]
  },
  {
   "cell_type": "code",
   "execution_count": 41,
   "metadata": {},
   "outputs": [
    {
     "data": {
      "text/plain": [
       "0.018408962936253777"
      ]
     },
     "execution_count": 41,
     "metadata": {},
     "output_type": "execute_result"
    }
   ],
   "source": [
    "cds_5mC_intersect['5mC in cds'].sum()/cds_5mC_intersect['count'].sum()"
   ]
  },
  {
   "cell_type": "code",
   "execution_count": 42,
   "metadata": {},
   "outputs": [
    {
     "name": "stderr",
     "output_type": "stream",
     "text": [
      "/tmp/ipykernel_31279/2204415468.py:3: FutureWarning: \n",
      "\n",
      "Passing `palette` without assigning `hue` is deprecated and will be removed in v0.14.0. Assign the `y` variable to `hue` and set `legend=False` for the same effect.\n",
      "\n",
      "  sns.boxplot(y='hap', x='5mC in cds.cov', data=cds_5mC_intersect, palette='coolwarm')\n"
     ]
    },
    {
     "data": {
      "image/png": "[encoded data removed]",
      "text/plain": [
       "<Figure size 700x100 with 1 Axes>"
      ]
     },
     "metadata": {},
     "output_type": "display_data"
    }
   ],
   "source": [
    "#Plot the CpG frequency by haplotype with violin plot\n",
    "plt.figure(figsize=(7, 1))\n",
    "sns.boxplot(y='hap', x='5mC in cds.cov', data=cds_5mC_intersect, palette='coolwarm')\n",
    "#add dot plot\n",
    "sns.swarmplot(y='hap', x='5mC in cds.cov', data=cds_5mC_intersect, color='k', size=1.5)\n",
    "sns.boxplot( x='5mC in cds.cov', data=cds_5mC_intersect, color='yellow')\n",
    "sns.swarmplot(x='5mC in cds.cov', data=cds_5mC_intersect, color='k', size=1.5)\n",
    "plt.xlim(0, 10)\n",
    "#plt.ylabel('Proportion of methylated CpG (%)')\n",
    "plt.ylabel('Haplotype')\n",
    "#plt.savefig(\"/mnt/c/Users/lzy55/Downloads/CDS_5mCpG.svg\", format=\"svg\", bbox_inches=\"tight\")\n",
    "plt.show()"
   ]
  },
  {
   "cell_type": "code",
   "execution_count": 46,
   "metadata": {},
   "outputs": [
    {
     "data": {
      "text/plain": [
       "TtestResult(statistic=0.03543809887482299, pvalue=0.9719376505414553, df=34.0)"
      ]
     },
     "execution_count": 46,
     "metadata": {},
     "output_type": "execute_result"
    }
   ],
   "source": [
    "tmp_A = cds_5mC_intersect[cds_5mC_intersect['chr'].str.contains('A') ]\n",
    "tmp_B = cds_5mC_intersect[cds_5mC_intersect['chr'].str.contains('B') ]\n",
    "stats.ttest_ind(tmp_B['5mC in cds.cov'], tmp_A['5mC in cds.cov'],alternative='two-sided')"
   ]
  },
  {
   "cell_type": "code",
   "execution_count": 50,
   "metadata": {},
   "outputs": [
    {
     "data": {
      "text/plain": [
       "TtestResult(statistic=-0.3822289846263523, pvalue=0.7048183681648335, df=32.0)"
      ]
     },
     "execution_count": 50,
     "metadata": {},
     "output_type": "execute_result"
    }
   ],
   "source": [
    "tmp_A = cds_5mC_intersect[(cds_5mC_intersect['chr'].str.contains('A') ) & (cds_5mC_intersect['chr'] != 'Chr14A')]\n",
    "tmp_B = cds_5mC_intersect[(cds_5mC_intersect['chr'].str.contains('B'))& (cds_5mC_intersect['chr'] != 'Chr14B')]\n",
    "stats.ttest_ind(tmp_B['5mC in cds.cov'], tmp_A['5mC in cds.cov'],alternative='two-sided')"
   ]
  },
  {
   "cell_type": "code",
   "execution_count": 156,
   "metadata": {},
   "outputs": [
    {
     "data": {
      "text/plain": [
       "9.147475094415581e-12"
      ]
     },
     "execution_count": 156,
     "metadata": {},
     "output_type": "execute_result"
    }
   ],
   "source": [
    "#Compare 5UTR and 3UTR coverage of 5mCpG\n",
    "import numpy as np\n",
    "from scipy.stats import mannwhitneyu\n",
    "from statsmodels.stats.multitest import multipletests\n",
    "p_value = mannwhitneyu(utr3_mCpG_intersect['5mC in utr3.cov'], utr5_mCpG_intersect['5mC in utr5.cov'], alternative='greater')\n",
    "reject, pval_corrected, _, _ = multipletests(p_value, method='fdr_bh')\n",
    "pval_corrected[1]\n",
    "p_value = mannwhitneyu(utr3_mCpG_intersect['5mC in utr3.cov'], cds_5mC_intersect['5mC in cds.cov'], alternative='greater')\n",
    "reject, pval_corrected, _, _ = multipletests(p_value, method='fdr_bh')\n",
    "pval_corrected[1]"
   ]
  },
  {
   "cell_type": "code",
   "execution_count": 8,
   "metadata": {},
   "outputs": [],
   "source": [
    "gene_pos = gene.groupby(['Chr','gene_id', 'strand']).agg({'start': 'min', 'end': 'max'}).reset_index()"
   ]
  },
  {
   "cell_type": "code",
   "execution_count": 7,
   "metadata": {},
   "outputs": [],
   "source": [
    "def calculate_5utr(row):\n",
    "    if row['strand'] == '+':\n",
    "        utr_start = max(0, row['start'] - 2000) \n",
    "        utr_end = row['start']\n",
    "    elif row['strand'] == '-':\n",
    "        utr_start = row['end']\n",
    "        utr_end = row['end'] + 2000\n",
    "    else:\n",
    "        raise ValueError(\"Invalid strand value. Strand must be '+' or '-'.\")\n",
    "    \n",
    "    return pd.Series([row['Chr'], utr_start, utr_end, row['gene_id'],  row['strand']])\n",
    "\n",
    "def calculate_3utr(row):\n",
    "    if row['strand'] == '+':\n",
    "        utr_start = row['end']\n",
    "        utr_end = row['end'] + 2000\n",
    "    elif row['strand'] == '-':\n",
    "        utr_start = max(0, row['start'] - 2000) \n",
    "        utr_end = row['start']\n",
    "    else:\n",
    "        raise ValueError(\"Invalid strand value. Strand must be '+' or '-'.\")\n",
    "    \n",
    "    return pd.Series([row['Chr'], utr_start, utr_end, row['gene_id'],  row['strand']])\n",
    "    "
   ]
  },
  {
   "cell_type": "code",
   "execution_count": 9,
   "metadata": {},
   "outputs": [],
   "source": [
    "utr5_bed = gene_pos.apply(calculate_5utr, axis=1)\n",
    "utr3_bed = gene_pos.apply(calculate_3utr, axis=1)"
   ]
  },
  {
   "cell_type": "code",
   "execution_count": 10,
   "metadata": {},
   "outputs": [],
   "source": [
    "utr5_bed.sort_values([0,1]).to_csv('../../data/Au3_UTR5.bed', sep='\\t', index=False, header=False)\n",
    "utr3_bed.sort_values([0,1]).to_csv('../../data/Au3_UTR3.bed', sep='\\t', index=False, header=False)"
   ]
  },
  {
   "cell_type": "code",
   "execution_count": 145,
   "metadata": {},
   "outputs": [
    {
     "name": "stderr",
     "output_type": "stream",
     "text": [
      "***** WARNING: File /tmp/pybedtools.p52fav89.tmp has a record where naming convention (leading zero) is inconsistent with other files:\n",
      "Chr10A\t13511\t13512\n",
      "\n",
      "***** WARNING: File /tmp/pybedtools.p52fav89.tmp has a record where naming convention (leading zero) is inconsistent with other files:\n",
      "Chr10A\t13511\t13512\n",
      "\n",
      "/tmp/ipykernel_96803/4135312166.py:11: FutureWarning: \n",
      "\n",
      "Passing `palette` without assigning `hue` is deprecated and will be removed in v0.14.0. Assign the `y` variable to `hue` and set `legend=False` for the same effect.\n",
      "\n",
      "  sns.boxplot(y='hap', x='5mC in utr5.cov', data=utr5_mCpG_intersect, palette='coolwarm')\n"
     ]
    },
    {
     "data": {
      "image/png": "[encoded data removed]",
      "text/plain": [
       "<Figure size 700x100 with 1 Axes>"
      ]
     },
     "metadata": {},
     "output_type": "display_data"
    }
   ],
   "source": [
    "utr5_bed_short = utr5_bed.sort_values([0,1])\n",
    "utr5_bed_short = BedTool.from_dataframe(utr5_bed_short[[0,1,2]]).merge()\n",
    "utr5_mCpG = utr5_bed_short.coverage(bed_5mc_short).to_dataframe()\n",
    "utr5_mCpG_intersect = utr5_mCpG.groupby(['chrom']).sum('name').reset_index()\n",
    "#Convert to dataframe\n",
    "utr5_mCpG_intersect = utr5_mCpG_intersect[['chrom', 'name']]\n",
    "utr5_mCpG_intersect.columns = ['chr', '5mC in utr5']\n",
    "utr5_mCpG_intersect = pd.merge(bed_5mC_count, utr5_mCpG_intersect, on='chr', how='left')\n",
    "utr5_mCpG_intersect['5mC in utr5.cov'] = utr5_mCpG_intersect['5mC in utr5']*100/cds_5mC_intersect['count']\n",
    "plt.figure(figsize=(7, 1))\n",
    "sns.boxplot(y='hap', x='5mC in utr5.cov', data=utr5_mCpG_intersect, palette='coolwarm')\n",
    "#add dot plot\n",
    "sns.swarmplot(y='hap', x='5mC in utr5.cov', data=utr5_mCpG_intersect, color='k', size=1.5)\n",
    "sns.boxplot( x='5mC in utr5.cov', data=utr5_mCpG_intersect, color='yellow')\n",
    "sns.swarmplot(x='5mC in utr5.cov', data=utr5_mCpG_intersect, color='k', size=1.5)\n",
    "plt.xlim(0, 10)\n",
    "#plt.ylabel('Proportion of methylated CpG (%)')\n",
    "plt.ylabel('Haplotype')\n",
    "plt.savefig(\"/mnt/c/Users/lzy55/Downloads/5utr_5mCpG.svg\", format=\"svg\", bbox_inches=\"tight\")\n",
    "plt.show()"
   ]
  },
  {
   "cell_type": "code",
   "execution_count": 192,
   "metadata": {},
   "outputs": [
    {
     "name": "stdout",
     "output_type": "stream",
     "text": [
      "0.026395593009251733\n",
      "0.02762881989543541\n"
     ]
    }
   ],
   "source": [
    "print(utr5_mCpG_intersect['5mC in utr5'].sum()/utr5_mCpG_intersect['count'].sum())\n",
    "print(utr3_mCpG_intersect['5mC in utr3'].sum()/utr3_mCpG_intersect['count'].sum())"
   ]
  },
  {
   "cell_type": "code",
   "execution_count": 194,
   "metadata": {},
   "outputs": [
    {
     "data": {
      "text/plain": [
       "TtestResult(statistic=-0.8366720748672962, pvalue=0.20281207275633045, df=70.0)"
      ]
     },
     "execution_count": 194,
     "metadata": {},
     "output_type": "execute_result"
    }
   ],
   "source": [
    "stats.ttest_ind(utr5_mCpG_intersect['5mC in utr5.cov'], utr3_mCpG_intersect['5mC in utr3.cov'],alternative='less')"
   ]
  },
  {
   "cell_type": "code",
   "execution_count": 196,
   "metadata": {},
   "outputs": [
    {
     "data": {
      "text/plain": [
       "count    36.000000\n",
       "mean      2.742709\n",
       "std       0.466404\n",
       "min       2.111484\n",
       "25%       2.347233\n",
       "50%       2.711492\n",
       "75%       3.033010\n",
       "max       3.843708\n",
       "Name: 5mC in utr5.cov, dtype: float64"
      ]
     },
     "execution_count": 196,
     "metadata": {},
     "output_type": "execute_result"
    }
   ],
   "source": [
    "utr5_mCpG_intersect['5mC in utr5.cov'].describe()"
   ]
  },
  {
   "cell_type": "code",
   "execution_count": 197,
   "metadata": {},
   "outputs": [
    {
     "data": {
      "text/plain": [
       "count    36.000000\n",
       "mean      2.830123\n",
       "std       0.418846\n",
       "min       2.059133\n",
       "25%       2.513460\n",
       "50%       2.802918\n",
       "75%       3.115403\n",
       "max       3.596003\n",
       "Name: 5mC in utr3.cov, dtype: float64"
      ]
     },
     "execution_count": 197,
     "metadata": {},
     "output_type": "execute_result"
    }
   ],
   "source": [
    "utr3_mCpG_intersect['5mC in utr3.cov'].describe()"
   ]
  },
  {
   "cell_type": "code",
   "execution_count": 204,
   "metadata": {},
   "outputs": [
    {
     "data": {
      "text/plain": [
       "'1.12.0'"
      ]
     },
     "execution_count": 204,
     "metadata": {},
     "output_type": "execute_result"
    }
   ],
   "source": [
    "import scipy\n",
    "scipy.__version__"
   ]
  },
  {
   "cell_type": "code",
   "execution_count": 198,
   "metadata": {},
   "outputs": [
    {
     "data": {
      "text/plain": [
       "count    36.000000\n",
       "mean      1.898131\n",
       "std       0.285410\n",
       "min       1.371919\n",
       "25%       1.699533\n",
       "50%       1.864478\n",
       "75%       2.123560\n",
       "max       2.532430\n",
       "Name: 5mC in cds.cov, dtype: float64"
      ]
     },
     "execution_count": 198,
     "metadata": {},
     "output_type": "execute_result"
    }
   ],
   "source": [
    "cds_5mC_intersect['5mC in cds.cov'].describe()"
   ]
  },
  {
   "cell_type": "code",
   "execution_count": 201,
   "metadata": {},
   "outputs": [
    {
     "data": {
      "text/plain": [
       "TtestResult(statistic=-11.032886499223174, pvalue=2.862621497451574e-17, df=70.0)"
      ]
     },
     "execution_count": 201,
     "metadata": {},
     "output_type": "execute_result"
    }
   ],
   "source": [
    "stats.ttest_ind(cds_5mC_intersect['5mC in cds.cov'], utr3_mCpG_intersect['5mC in utr3.cov'],alternative='less')"
   ]
  },
  {
   "cell_type": "code",
   "execution_count": 202,
   "metadata": {},
   "outputs": [
    {
     "data": {
      "text/plain": [
       "TtestResult(statistic=-9.267487513049156, pvalue=4.281684542892853e-14, df=70.0)"
      ]
     },
     "execution_count": 202,
     "metadata": {},
     "output_type": "execute_result"
    }
   ],
   "source": [
    "stats.ttest_ind(cds_5mC_intersect['5mC in cds.cov'], utr5_mCpG_intersect['5mC in utr5.cov'],alternative='less')"
   ]
  },
  {
   "cell_type": "code",
   "execution_count": 146,
   "metadata": {},
   "outputs": [
    {
     "name": "stderr",
     "output_type": "stream",
     "text": [
      "***** WARNING: File /tmp/pybedtools.p52fav89.tmp has a record where naming convention (leading zero) is inconsistent with other files:\n",
      "Chr10A\t13511\t13512\n",
      "\n",
      "***** WARNING: File /tmp/pybedtools.p52fav89.tmp has a record where naming convention (leading zero) is inconsistent with other files:\n",
      "Chr10A\t13511\t13512\n",
      "\n",
      "/tmp/ipykernel_96803/3062280827.py:11: FutureWarning: \n",
      "\n",
      "Passing `palette` without assigning `hue` is deprecated and will be removed in v0.14.0. Assign the `y` variable to `hue` and set `legend=False` for the same effect.\n",
      "\n",
      "  sns.boxplot(y='hap', x='5mC in utr3.cov', data=utr3_mCpG_intersect, palette='coolwarm')\n"
     ]
    },
    {
     "data": {
      "image/png": "[encoded data removed]",
      "text/plain": [
       "<Figure size 700x100 with 1 Axes>"
      ]
     },
     "metadata": {},
     "output_type": "display_data"
    }
   ],
   "source": [
    "utr3_bed_short = utr3_bed.sort_values([0,1])\n",
    "utr3_bed_short = BedTool.from_dataframe(utr3_bed_short[[0,1,2]]).merge()\n",
    "utr3_mCpG = utr3_bed_short.coverage(bed_5mc_short).to_dataframe()\n",
    "utr3_mCpG_intersect = utr3_mCpG.groupby(['chrom']).sum('name').reset_index()\n",
    "#Convert to dataframe\n",
    "utr3_mCpG_intersect = utr3_mCpG_intersect[['chrom', 'name']]\n",
    "utr3_mCpG_intersect.columns = ['chr', '5mC in utr3']\n",
    "utr3_mCpG_intersect = pd.merge(bed_5mC_count, utr3_mCpG_intersect, on='chr', how='left')\n",
    "utr3_mCpG_intersect['5mC in utr3.cov'] = utr3_mCpG_intersect['5mC in utr3']*100/cds_5mC_intersect['count']\n",
    "plt.figure(figsize=(7, 1))\n",
    "sns.boxplot(y='hap', x='5mC in utr3.cov', data=utr3_mCpG_intersect, palette='coolwarm')\n",
    "#add dot plot\n",
    "sns.swarmplot(y='hap', x='5mC in utr3.cov', data=utr3_mCpG_intersect, color='k', size=1.5)\n",
    "sns.boxplot( x='5mC in utr3.cov', data=utr3_mCpG_intersect, color='yellow')\n",
    "sns.swarmplot(x='5mC in utr3.cov', data=utr3_mCpG_intersect, color='k', size=1.5)\n",
    "plt.xlim(0, 10)\n",
    "#plt.ylabel('Proportion of methylated CpG (%)')\n",
    "plt.ylabel('Haplotype')\n",
    "plt.savefig(\"/mnt/c/Users/lzy55/Downloads/3utr_5mCpG.svg\", format=\"svg\", bbox_inches=\"tight\")\n",
    "plt.show()"
   ]
  },
  {
   "cell_type": "code",
   "execution_count": 143,
   "metadata": {},
   "outputs": [
    {
     "data": {
      "text/html": [
       "<div>\n",
       "<style scoped>\n",
       "    .dataframe tbody tr th:only-of-type {\n",
       "        vertical-align: middle;\n",
       "    }\n",
       "\n",
       "    .dataframe tbody tr th {\n",
       "        vertical-align: top;\n",
       "    }\n",
       "\n",
       "    .dataframe thead th {\n",
       "        text-align: right;\n",
       "    }\n",
       "</style>\n",
       "<table border=\"1\" class=\"dataframe\">\n",
       "  <thead>\n",
       "    <tr style=\"text-align: right;\">\n",
       "      <th></th>\n",
       "      <th>chrom</th>\n",
       "      <th>start</th>\n",
       "      <th>end</th>\n",
       "      <th>name</th>\n",
       "      <th>score</th>\n",
       "      <th>strand</th>\n",
       "      <th>thickStart</th>\n",
       "    </tr>\n",
       "  </thead>\n",
       "  <tbody>\n",
       "    <tr>\n",
       "      <th>0</th>\n",
       "      <td>Chr01A</td>\n",
       "      <td>130870</td>\n",
       "      <td>132870</td>\n",
       "      <td>4</td>\n",
       "      <td>4</td>\n",
       "      <td>2000</td>\n",
       "      <td>0.002000</td>\n",
       "    </tr>\n",
       "    <tr>\n",
       "      <th>1</th>\n",
       "      <td>Chr01A</td>\n",
       "      <td>157775</td>\n",
       "      <td>159775</td>\n",
       "      <td>0</td>\n",
       "      <td>0</td>\n",
       "      <td>2000</td>\n",
       "      <td>0.000000</td>\n",
       "    </tr>\n",
       "    <tr>\n",
       "      <th>2</th>\n",
       "      <td>Chr01A</td>\n",
       "      <td>195429</td>\n",
       "      <td>197429</td>\n",
       "      <td>3</td>\n",
       "      <td>3</td>\n",
       "      <td>2000</td>\n",
       "      <td>0.001500</td>\n",
       "    </tr>\n",
       "    <tr>\n",
       "      <th>3</th>\n",
       "      <td>Chr01A</td>\n",
       "      <td>311912</td>\n",
       "      <td>315745</td>\n",
       "      <td>1</td>\n",
       "      <td>1</td>\n",
       "      <td>3833</td>\n",
       "      <td>0.000261</td>\n",
       "    </tr>\n",
       "    <tr>\n",
       "      <th>4</th>\n",
       "      <td>Chr01A</td>\n",
       "      <td>526247</td>\n",
       "      <td>529794</td>\n",
       "      <td>0</td>\n",
       "      <td>0</td>\n",
       "      <td>3547</td>\n",
       "      <td>0.000000</td>\n",
       "    </tr>\n",
       "    <tr>\n",
       "      <th>...</th>\n",
       "      <td>...</td>\n",
       "      <td>...</td>\n",
       "      <td>...</td>\n",
       "      <td>...</td>\n",
       "      <td>...</td>\n",
       "      <td>...</td>\n",
       "      <td>...</td>\n",
       "    </tr>\n",
       "    <tr>\n",
       "      <th>29823</th>\n",
       "      <td>Chr18B</td>\n",
       "      <td>26054617</td>\n",
       "      <td>26056617</td>\n",
       "      <td>28</td>\n",
       "      <td>28</td>\n",
       "      <td>2000</td>\n",
       "      <td>0.014000</td>\n",
       "    </tr>\n",
       "    <tr>\n",
       "      <th>29824</th>\n",
       "      <td>Chr18B</td>\n",
       "      <td>26305887</td>\n",
       "      <td>26307887</td>\n",
       "      <td>0</td>\n",
       "      <td>0</td>\n",
       "      <td>2000</td>\n",
       "      <td>0.000000</td>\n",
       "    </tr>\n",
       "    <tr>\n",
       "      <th>29825</th>\n",
       "      <td>Chr18B</td>\n",
       "      <td>26308460</td>\n",
       "      <td>26310460</td>\n",
       "      <td>0</td>\n",
       "      <td>0</td>\n",
       "      <td>2000</td>\n",
       "      <td>0.000000</td>\n",
       "    </tr>\n",
       "    <tr>\n",
       "      <th>29826</th>\n",
       "      <td>Chr18B</td>\n",
       "      <td>26382378</td>\n",
       "      <td>26384378</td>\n",
       "      <td>5</td>\n",
       "      <td>5</td>\n",
       "      <td>2000</td>\n",
       "      <td>0.002500</td>\n",
       "    </tr>\n",
       "    <tr>\n",
       "      <th>29827</th>\n",
       "      <td>Chr18B</td>\n",
       "      <td>26469770</td>\n",
       "      <td>26471770</td>\n",
       "      <td>19</td>\n",
       "      <td>19</td>\n",
       "      <td>2000</td>\n",
       "      <td>0.009500</td>\n",
       "    </tr>\n",
       "  </tbody>\n",
       "</table>\n",
       "<p>29828 rows × 7 columns</p>\n",
       "</div>"
      ],
      "text/plain": [
       "        chrom     start       end  name  score  strand  thickStart\n",
       "0      Chr01A    130870    132870     4      4    2000    0.002000\n",
       "1      Chr01A    157775    159775     0      0    2000    0.000000\n",
       "2      Chr01A    195429    197429     3      3    2000    0.001500\n",
       "3      Chr01A    311912    315745     1      1    3833    0.000261\n",
       "4      Chr01A    526247    529794     0      0    3547    0.000000\n",
       "...       ...       ...       ...   ...    ...     ...         ...\n",
       "29823  Chr18B  26054617  26056617    28     28    2000    0.014000\n",
       "29824  Chr18B  26305887  26307887     0      0    2000    0.000000\n",
       "29825  Chr18B  26308460  26310460     0      0    2000    0.000000\n",
       "29826  Chr18B  26382378  26384378     5      5    2000    0.002500\n",
       "29827  Chr18B  26469770  26471770    19     19    2000    0.009500\n",
       "\n",
       "[29828 rows x 7 columns]"
      ]
     },
     "execution_count": 143,
     "metadata": {},
     "output_type": "execute_result"
    }
   ],
   "source": [
    "utr5_mCpG"
   ]
  },
  {
   "cell_type": "code",
   "execution_count": null,
   "metadata": {},
   "outputs": [],
   "source": [
    "stats.pearsonr(x, y, *, alternative='two-sided', method=None, axis=0)"
   ]
  },
  {
   "cell_type": "code",
   "execution_count": null,
   "metadata": {},
   "outputs": [],
   "source": []
  },
  {
   "cell_type": "code",
   "execution_count": 172,
   "metadata": {},
   "outputs": [
    {
     "name": "stderr",
     "output_type": "stream",
     "text": [
      "/tmp/ipykernel_1462/1602697259.py:5: FutureWarning: \n",
      "\n",
      "Passing `palette` without assigning `hue` is deprecated and will be removed in v0.14.0. Assign the `x` variable to `hue` and set `legend=False` for the same effect.\n",
      "\n",
      "  sns.violinplot(x='hap', y='Cov', data=bed_4mC_count, palette='coolwarm')\n"
     ]
    },
    {
     "data": {
      "image/png": "[encoded data removed]",
      "text/plain": [
       "<Figure size 600x300 with 1 Axes>"
      ]
     },
     "metadata": {},
     "output_type": "display_data"
    }
   ],
   "source": [
    "#plot 5mC coverage as violin plot\n",
    "import seaborn as sns\n",
    "import matplotlib.pyplot as plt\n",
    "plt.figure(figsize=(6, 3))\n",
    "sns.violinplot(x='hap', y='Cov', data=bed_4mC_count, palette='coolwarm')\n",
    "#add dot plot\n",
    "sns.swarmplot(x='hap', y='Cov', data=bed_4mC_count, color='k', size=4)\n",
    "plt.title('4mC coverage in total residues')\n",
    "plt.ylabel('Coverage (%)')\n",
    "plt.show()\n"
   ]
  },
  {
   "cell_type": "code",
   "execution_count": 176,
   "metadata": {},
   "outputs": [],
   "source": [
    "#Add a column for C count in bed_4mC_count\n",
    "for i in range(0, len(fna_rename)):\n",
    "    C_count = fna_rename[i].seq.count('C')\n",
    "    bed_4mC_count.loc[bed_4mC_count['chr'] == fna_rename[i].id, 'C_count'] = C_count"
   ]
  },
  {
   "cell_type": "code",
   "execution_count": 186,
   "metadata": {},
   "outputs": [],
   "source": [
    "for i in range(0, len(fna_rename)):\n",
    "    C_count = fna_rename[i].seq.count('C')\n",
    "    bed_5mC_count.loc[bed_5mC_count['chr'] == fna_rename[i].id, 'C_count'] = C_count\n"
   ]
  },
  {
   "cell_type": "code",
   "execution_count": 178,
   "metadata": {},
   "outputs": [],
   "source": [
    "bed_4mC_count['C_cov']= bed_4mC_count['count']*100/bed_4mC_count['C_count']\n"
   ]
  },
  {
   "cell_type": "code",
   "execution_count": 189,
   "metadata": {},
   "outputs": [],
   "source": [
    "bed_5mC_count['C_cov']= bed_5mC_count['count']*100/bed_5mC_count['C_count']"
   ]
  },
  {
   "cell_type": "code",
   "execution_count": 190,
   "metadata": {},
   "outputs": [
    {
     "name": "stderr",
     "output_type": "stream",
     "text": [
      "/tmp/ipykernel_1462/2123845319.py:2: FutureWarning: \n",
      "\n",
      "Passing `palette` without assigning `hue` is deprecated and will be removed in v0.14.0. Assign the `x` variable to `hue` and set `legend=False` for the same effect.\n",
      "\n",
      "  sns.violinplot(x='hap', y='C_cov', data=bed_5mC_count, palette='coolwarm')\n"
     ]
    },
    {
     "data": {
      "image/png": "[encoded data removed]",
      "text/plain": [
       "<Figure size 600x300 with 1 Axes>"
      ]
     },
     "metadata": {},
     "output_type": "display_data"
    }
   ],
   "source": [
    "plt.figure(figsize=(6, 3))\n",
    "sns.violinplot(x='hap', y='C_cov', data=bed_5mC_count, palette='coolwarm')\n",
    "#add dot plot\n",
    "sns.swarmplot(x='hap', y='C_cov', data=bed_5mC_count, color='k', size=4)\n",
    "plt.title('5mCpG proportion in total cytosine residues')\n",
    "plt.ylabel('Coverage (%)')\n",
    "plt.show()"
   ]
  },
  {
   "cell_type": "code",
   "execution_count": 182,
   "metadata": {},
   "outputs": [
    {
     "name": "stderr",
     "output_type": "stream",
     "text": [
      "/tmp/ipykernel_1462/3796124269.py:3: FutureWarning: \n",
      "\n",
      "Passing `palette` without assigning `hue` is deprecated and will be removed in v0.14.0. Assign the `x` variable to `hue` and set `legend=False` for the same effect.\n",
      "\n",
      "  sns.violinplot(x='hap', y='C_cov', data=bed_4mC_count, palette='coolwarm')\n"
     ]
    },
    {
     "data": {
      "image/png": "[encoded data removed]",
      "text/plain": [
       "<Figure size 600x300 with 1 Axes>"
      ]
     },
     "metadata": {},
     "output_type": "display_data"
    }
   ],
   "source": [
    "#Plot 4mC coverage in C residues\n",
    "plt.figure(figsize=(6, 3))\n",
    "sns.violinplot(x='hap', y='C_cov', data=bed_4mC_count, palette='coolwarm')\n",
    "#add dot plot\n",
    "sns.swarmplot(x='hap', y='C_cov', data=bed_4mC_count, color='k', size=4)\n",
    "plt.title('4mC proportion in total cytosine residues')\n",
    "plt.ylabel('Coverage (%)')\n",
    "plt.show()"
   ]
  },
  {
   "cell_type": "code",
   "execution_count": 183,
   "metadata": {},
   "outputs": [
    {
     "name": "stderr",
     "output_type": "stream",
     "text": [
      "/tmp/ipykernel_1462/2772126211.py:7: FutureWarning: \n",
      "\n",
      "Passing `palette` without assigning `hue` is deprecated and will be removed in v0.14.0. Assign the `x` variable to `hue` and set `legend=False` for the same effect.\n",
      "\n",
      "  sns.violinplot(x='hap', y='A_cov', data=bed_6mA_count, palette='coolwarm')\n"
     ]
    },
    {
     "data": {
      "image/png": "[encoded data removed]",
      "text/plain": [
       "<Figure size 600x300 with 1 Axes>"
      ]
     },
     "metadata": {},
     "output_type": "display_data"
    }
   ],
   "source": [
    "for i in range(0, len(fna_rename)):\n",
    "    A_count = fna_rename[i].seq.count('A')\n",
    "    bed_6mA_count.loc[bed_6mA_count['chr'] == fna_rename[i].id, 'A_count'] = A_count\n",
    "bed_6mA_count['A_cov']= bed_6mA_count['count']*100/bed_6mA_count['A_count']\n",
    "plt.figure(figsize=(6, 3))\n",
    "sns.violinplot(x='hap', y='A_cov', data=bed_6mA_count, palette='coolwarm')\n",
    "#add dot plot\n",
    "sns.swarmplot(x='hap', y='A_cov', data=bed_6mA_count, color='k', size=4)\n",
    "plt.title('6mA proportion in total adenine residues')\n",
    "plt.ylabel('Coverage (%)')\n",
    "plt.show()"
   ]
  },
  {
   "cell_type": "code",
   "execution_count": 184,
   "metadata": {},
   "outputs": [
    {
     "name": "stderr",
     "output_type": "stream",
     "text": [
      "/tmp/ipykernel_1462/433359152.py:5: FutureWarning: \n",
      "\n",
      "Passing `palette` without assigning `hue` is deprecated and will be removed in v0.14.0. Assign the `x` variable to `hue` and set `legend=False` for the same effect.\n",
      "\n",
      "  sns.violinplot(x='hap', y='Cov', data=bed_6mA_count, palette='coolwarm')\n"
     ]
    },
    {
     "data": {
      "image/png": "[encoded data removed]",
      "text/plain": [
       "<Figure size 600x300 with 1 Axes>"
      ]
     },
     "metadata": {},
     "output_type": "display_data"
    }
   ],
   "source": [
    "#plot 5mC coverage as violin plot\n",
    "import seaborn as sns\n",
    "import matplotlib.pyplot as plt\n",
    "plt.figure(figsize=(6, 3))\n",
    "sns.violinplot(x='hap', y='Cov', data=bed_6mA_count, palette='coolwarm')\n",
    "#add dot plot\n",
    "sns.swarmplot(x='hap', y='Cov', data=bed_6mA_count, color='k', size=4)\n",
    "plt.title('6mA coverage in whole genome')\n",
    "plt.ylabel('Coverage (%)')\n",
    "plt.show()\n"
   ]
  },
  {
   "cell_type": "code",
   "execution_count": 130,
   "metadata": {},
   "outputs": [
    {
     "name": "stderr",
     "output_type": "stream",
     "text": [
      "/tmp/ipykernel_1462/3816882187.py:3: FutureWarning: \n",
      "\n",
      "Passing `palette` without assigning `hue` is deprecated and will be removed in v0.14.0. Assign the `x` variable to `hue` and set `legend=False` for the same effect.\n",
      "\n",
      "  sns.barplot(x='type', y='Cov', data=Methy_count, palette='coolwarm')\n"
     ]
    },
    {
     "data": {
      "text/plain": [
       "Text(0, 0.5, 'Coverage (%)')"
      ]
     },
     "execution_count": 130,
     "metadata": {},
     "output_type": "execute_result"
    },
    {
     "data": {
      "image/png": "[encoded data removed]",
      "text/plain": [
       "<Figure size 600x300 with 1 Axes>"
      ]
     },
     "metadata": {},
     "output_type": "display_data"
    }
   ],
   "source": [
    "#Make a bar plot of the coverage of 5mC, 4mC and 6mA\n",
    "plt.figure(figsize=(6, 3))\n",
    "sns.barplot(x='type', y='Cov', data=Methy_count, palette='coolwarm')\n",
    "plt.title('Methylation coverage')\n",
    "plt.ylabel('Coverage (%)')"
   ]
  },
  {
   "cell_type": "code",
   "execution_count": 185,
   "metadata": {},
   "outputs": [
    {
     "data": {
      "image/png": "[encoded data removed]",
      "text/plain": [
       "<Figure size 1200x500 with 1 Axes>"
      ]
     },
     "metadata": {},
     "output_type": "display_data"
    }
   ],
   "source": [
    "#Make bar plot of the coverage of 5mC, 4mC and 6mA for each chromosome, separated by haplotype, stacked by type\n",
    "pivot_df = Methy_count.pivot_table(index='chr', columns='type', values='Cov', aggfunc='sum').fillna(0)\n",
    "\n",
    "# Plotting\n",
    "pivot_df.plot(kind='bar', stacked=True, figsize=(12, 5), colormap='coolwarm')\n",
    "plt.title('4mC/5mCpG/6mA total coverage')\n",
    "plt.ylabel('Coverage (%)')\n",
    "plt.xlabel('Chromosome')\n",
    "plt.legend(loc='upper right')\n",
    "plt.show()"
   ]
  },
  {
   "cell_type": "code",
   "execution_count": 50,
   "metadata": {},
   "outputs": [],
   "source": [
    "fna_hapA = list(SeqIO.parse('../Au3_CHR_hapA_v3.fasta', 'fasta'))\n",
    "fna_hapB = list(SeqIO.parse('../Au3_CHR_hapB_v3.fasta', 'fasta'))\n",
    "\n"
   ]
  },
  {
   "cell_type": "code",
   "execution_count": null,
   "metadata": {},
   "outputs": [],
   "source": []
  },
  {
   "cell_type": "code",
   "execution_count": 62,
   "metadata": {},
   "outputs": [],
   "source": [
    "CpG_df = pd.DataFrame()\n",
    "for i in range(0, len(fna_hapA)):\n",
    "    seq = fna_hapA[i].seq\n",
    "    CpG_count = seq.count('CG')\n",
    "    CpG_cov = CpG_count*100/len(seq)\n",
    "    tmp = pd.DataFrame({'chr': fna_hapA[i].id, 'CpG_count': CpG_count, 'CpG_cov': CpG_cov}, index=[0])\n",
    "    CpG_df = pd.concat([CpG_df, tmp])\n",
    "for i in range(0, len(fna_hapB)):\n",
    "    seq = fna_hapB[i].seq\n",
    "    CpG_count = seq.count('CG')\n",
    "    CpG_cov = CpG_count*100/len(seq)\n",
    "    tmp = pd.DataFrame({'chr': fna_hapB[i].id, 'CpG_count': CpG_count, 'CpG_cov': CpG_cov}, index=[0])\n",
    "    CpG_df = pd.concat([CpG_df, tmp])"
   ]
  },
  {
   "cell_type": "code",
   "execution_count": 89,
   "metadata": {},
   "outputs": [],
   "source": [
    "fna_rename = []\n",
    "for i in range(0, len(fna_hapA)):\n",
    "    seq = fna_hapA[i].seq\n",
    "    if re.search(r'HapA', fna_hapA[i].id):\n",
    "        hap = 'A'\n",
    "    else:\n",
    "        hap = 'B'\n",
    "    chr = fna_hapA[i].id.split('_')[3]\n",
    "    chr = chr.replace('CHR', 'Chr')\n",
    "    header = chr+hap\n",
    "    if fna_hapA[i].id == 'APSI_AU3_HapA_CHR14_ab':\n",
    "        header = 'Chr14B'\n",
    "    fna_rename.append(SeqIO.SeqRecord(seq, id=header, description=''))\n",
    "for i in range(0, len(fna_hapB)):\n",
    "    seq = fna_hapB[i].seq\n",
    "    if re.search(r'HapA', fna_hapB[i].id):\n",
    "        hap = 'A'\n",
    "    else:\n",
    "        hap = 'B'\n",
    "    chr = fna_hapB[i].id.split('_')[3]\n",
    "    chr = chr.replace('CHR', 'Chr')\n",
    "    header = chr+hap\n",
    "    fna_rename.append(SeqIO.SeqRecord(seq, id=header, description=''))\n",
    "    "
   ]
  },
  {
   "cell_type": "code",
   "execution_count": 134,
   "metadata": {},
   "outputs": [],
   "source": [
    "CG_content = pd.DataFrame()\n",
    "for i in range(0, len(fna_rename)):\n",
    "    seq = fna_rename[i].seq\n",
    "    C_count = seq.count('C')\n",
    "    G_count = seq.count('G')\n",
    "    seq_len = len(seq)\n",
    "    CG_cov = (C_count+G_count)*100/seq_len\n",
    "    tmp = pd.DataFrame({'chr': fna_rename[i].id, 'C_count': C_count, 'G_count':G_count, 'CG_count': C_count+G_count, 'CG_cov': CG_cov}, index=[0])\n",
    "    CG_content = pd.concat([CG_content, tmp])"
   ]
  },
  {
   "cell_type": "code",
   "execution_count": 142,
   "metadata": {},
   "outputs": [],
   "source": [
    "#Merge CpG and CG content\n",
    "CG_content_df = pd.merge(CG_content, CpG_df, on='chr', how='left')\n",
    "CG_content_df['Percentage of methylated Cytosine residue of total cytosine'] = CG_content_df['CpG_count']*100/CG_content_df['C_count']"
   ]
  },
  {
   "cell_type": "code",
   "execution_count": 146,
   "metadata": {},
   "outputs": [
    {
     "data": {
      "image/png": "[encoded data removed]",
      "text/plain": [
       "<Figure size 600x300 with 1 Axes>"
      ]
     },
     "metadata": {},
     "output_type": "display_data"
    }
   ],
   "source": [
    "#plot Percentage of methylated Cytosine residue of total cytosine\n",
    "plt.figure(figsize=(6, 3))\n",
    "sns.barplot(x='chr', y='Percentage of methylated Cytosine residue of total cytosine', data=CG_content_df)\n",
    "plt.title('Percentage of methylated Cytosine residue of total cytosine')\n",
    "plt.ylabel('Percentage (%)')\n",
    "plt.xticks(rotation=90)\n",
    "plt.show()"
   ]
  },
  {
   "cell_type": "code",
   "execution_count": 152,
   "metadata": {},
   "outputs": [
    {
     "data": {
      "text/plain": [
       "TtestResult(statistic=-1.6039463736202548, pvalue=0.11797627226738112, df=34.0)"
      ]
     },
     "execution_count": 152,
     "metadata": {},
     "output_type": "execute_result"
    }
   ],
   "source": [
    "CG_content_df['chr_num'] = CG_content_df['chr'].str.extract('(\\d+)').astype(int)\n",
    "CG_content_df.sort_values(by=['chr_num'], ascending=True, inplace=True)\n",
    "#Run pair t-test to compare the percentage of methylated Cytosine residue of total cytosine between haplotype A and B\n",
    "from scipy.stats import ttest_ind\n",
    "hapA = CG_content_df[CG_content_df['chr'].str.contains('A')]['Percentage of methylated Cytosine residue of total cytosine']\n",
    "hapB = CG_content_df[CG_content_df['chr'].str.contains('B')]['Percentage of methylated Cytosine residue of total cytosine']\n",
    "ttest_ind(hapA, hapB)\n"
   ]
  },
  {
   "cell_type": "code",
   "execution_count": null,
   "metadata": {},
   "outputs": [],
   "source": []
  },
  {
   "cell_type": "code",
   "execution_count": 149,
   "metadata": {},
   "outputs": [
    {
     "data": {
      "text/plain": [
       "3.4222003279633157"
      ]
     },
     "execution_count": 149,
     "metadata": {},
     "output_type": "execute_result"
    }
   ],
   "source": [
    "max(CG_content_df['Percentage of methylated Cytosine residue of total cytosine'])"
   ]
  },
  {
   "cell_type": "code",
   "execution_count": 65,
   "metadata": {},
   "outputs": [],
   "source": [
    "#If chr contain HapA, then hap = A, else hap = B\n",
    "CpG_df['chr'] = CpG_df['chr'].str.replace('APSI_AU3_HapA_CHR14_ab', 'APSI_AU3_HapB_CHR14')\n",
    "CpG_df['chr'] = CpG_df['chr'].str.replace('CHR', 'Chr')\n",
    "CpG_df['hap'] = np.where(CpG_df['chr'].str.contains('HapA'), 'A', 'B')\n",
    "CpG_df['chr'] = CpG_df['chr'].str.split('_').str[3]  + CpG_df['hap']"
   ]
  },
  {
   "cell_type": "code",
   "execution_count": 132,
   "metadata": {},
   "outputs": [
    {
     "name": "stderr",
     "output_type": "stream",
     "text": [
      "/tmp/ipykernel_1462/4169835476.py:7: SettingWithCopyWarning: \n",
      "A value is trying to be set on a copy of a slice from a DataFrame.\n",
      "Try using .loc[row_indexer,col_indexer] = value instead\n",
      "\n",
      "See the caveats in the documentation: https://pandas.pydata.org/pandas-docs/stable/user_guide/indexing.html#returning-a-view-versus-a-copy\n",
      "  CpG_df2_5mCpG['type'] = '5mCpG'\n",
      "/tmp/ipykernel_1462/4169835476.py:10: SettingWithCopyWarning: \n",
      "A value is trying to be set on a copy of a slice from a DataFrame.\n",
      "Try using .loc[row_indexer,col_indexer] = value instead\n",
      "\n",
      "See the caveats in the documentation: https://pandas.pydata.org/pandas-docs/stable/user_guide/indexing.html#returning-a-view-versus-a-copy\n",
      "  CpG_df2_no5mCpG['Cov'] = 100 - CpG_df2_no5mCpG['5mC_per_CpG']\n",
      "/tmp/ipykernel_1462/4169835476.py:11: SettingWithCopyWarning: \n",
      "A value is trying to be set on a copy of a slice from a DataFrame.\n",
      "Try using .loc[row_indexer,col_indexer] = value instead\n",
      "\n",
      "See the caveats in the documentation: https://pandas.pydata.org/pandas-docs/stable/user_guide/indexing.html#returning-a-view-versus-a-copy\n",
      "  CpG_df2_no5mCpG['type'] = 'No5mCpG'\n"
     ]
    }
   ],
   "source": [
    "bed_5mC_count_df2 = bed_5mC_count[['chr', 'count']]\n",
    "bed_5mC_count_df2.columns = ['chr', '5mC_count']\n",
    "#left join\n",
    "CpG_df2 = pd.merge(CpG_df, bed_5mC_count_df2, on='chr', how='left')\n",
    "CpG_df2['5mC_per_CpG'] = CpG_df2['5mC_count']*100/CpG_df2['CpG_count']\n",
    "CpG_df2_5mCpG = CpG_df2[['chr', '5mC_per_CpG']]\n",
    "CpG_df2_5mCpG['type'] = '5mCpG'\n",
    "CpG_df2_5mCpG.columns = ['chr', 'Cov', 'type']\n",
    "CpG_df2_no5mCpG = CpG_df2[['chr', '5mC_per_CpG']]\n",
    "CpG_df2_no5mCpG['Cov'] = 100 - CpG_df2_no5mCpG['5mC_per_CpG']\n",
    "CpG_df2_no5mCpG['type'] = 'No5mCpG'\n",
    "CpG_merge = pd.concat([CpG_df2_5mCpG, CpG_df2_no5mCpG])\n",
    "CpG_merge = CpG_merge.drop('5mC_per_CpG', axis=1)\n"
   ]
  },
  {
   "cell_type": "code",
   "execution_count": 153,
   "metadata": {},
   "outputs": [
    {
     "data": {
      "text/html": [
       "<div>\n",
       "<style scoped>\n",
       "    .dataframe tbody tr th:only-of-type {\n",
       "        vertical-align: middle;\n",
       "    }\n",
       "\n",
       "    .dataframe tbody tr th {\n",
       "        vertical-align: top;\n",
       "    }\n",
       "\n",
       "    .dataframe thead th {\n",
       "        text-align: right;\n",
       "    }\n",
       "</style>\n",
       "<table border=\"1\" class=\"dataframe\">\n",
       "  <thead>\n",
       "    <tr style=\"text-align: right;\">\n",
       "      <th></th>\n",
       "      <th>chr</th>\n",
       "      <th>Cov</th>\n",
       "      <th>type</th>\n",
       "    </tr>\n",
       "  </thead>\n",
       "  <tbody>\n",
       "    <tr>\n",
       "      <th>0</th>\n",
       "      <td>Chr01A</td>\n",
       "      <td>48.667033</td>\n",
       "      <td>5mCpG</td>\n",
       "    </tr>\n",
       "    <tr>\n",
       "      <th>1</th>\n",
       "      <td>Chr02A</td>\n",
       "      <td>46.811536</td>\n",
       "      <td>5mCpG</td>\n",
       "    </tr>\n",
       "    <tr>\n",
       "      <th>2</th>\n",
       "      <td>Chr03A</td>\n",
       "      <td>45.446080</td>\n",
       "      <td>5mCpG</td>\n",
       "    </tr>\n",
       "    <tr>\n",
       "      <th>3</th>\n",
       "      <td>Chr04A</td>\n",
       "      <td>46.719759</td>\n",
       "      <td>5mCpG</td>\n",
       "    </tr>\n",
       "    <tr>\n",
       "      <th>4</th>\n",
       "      <td>Chr05A</td>\n",
       "      <td>47.708260</td>\n",
       "      <td>5mCpG</td>\n",
       "    </tr>\n",
       "    <tr>\n",
       "      <th>...</th>\n",
       "      <td>...</td>\n",
       "      <td>...</td>\n",
       "      <td>...</td>\n",
       "    </tr>\n",
       "    <tr>\n",
       "      <th>31</th>\n",
       "      <td>Chr13B</td>\n",
       "      <td>45.228345</td>\n",
       "      <td>No5mCpG</td>\n",
       "    </tr>\n",
       "    <tr>\n",
       "      <th>32</th>\n",
       "      <td>Chr15B</td>\n",
       "      <td>45.212869</td>\n",
       "      <td>No5mCpG</td>\n",
       "    </tr>\n",
       "    <tr>\n",
       "      <th>33</th>\n",
       "      <td>Chr16B</td>\n",
       "      <td>52.991009</td>\n",
       "      <td>No5mCpG</td>\n",
       "    </tr>\n",
       "    <tr>\n",
       "      <th>34</th>\n",
       "      <td>Chr17B</td>\n",
       "      <td>54.785457</td>\n",
       "      <td>No5mCpG</td>\n",
       "    </tr>\n",
       "    <tr>\n",
       "      <th>35</th>\n",
       "      <td>Chr18B</td>\n",
       "      <td>58.825502</td>\n",
       "      <td>No5mCpG</td>\n",
       "    </tr>\n",
       "  </tbody>\n",
       "</table>\n",
       "<p>72 rows × 3 columns</p>\n",
       "</div>"
      ],
      "text/plain": [
       "       chr        Cov     type\n",
       "0   Chr01A  48.667033    5mCpG\n",
       "1   Chr02A  46.811536    5mCpG\n",
       "2   Chr03A  45.446080    5mCpG\n",
       "3   Chr04A  46.719759    5mCpG\n",
       "4   Chr05A  47.708260    5mCpG\n",
       "..     ...        ...      ...\n",
       "31  Chr13B  45.228345  No5mCpG\n",
       "32  Chr15B  45.212869  No5mCpG\n",
       "33  Chr16B  52.991009  No5mCpG\n",
       "34  Chr17B  54.785457  No5mCpG\n",
       "35  Chr18B  58.825502  No5mCpG\n",
       "\n",
       "[72 rows x 3 columns]"
      ]
     },
     "execution_count": 153,
     "metadata": {},
     "output_type": "execute_result"
    }
   ],
   "source": [
    "CpG_merge"
   ]
  },
  {
   "cell_type": "code",
   "execution_count": 156,
   "metadata": {},
   "outputs": [
    {
     "data": {
      "text/plain": [
       "TtestResult(statistic=-3.002715467104881, pvalue=0.0049901562358567715, df=34.0)"
      ]
     },
     "execution_count": 156,
     "metadata": {},
     "output_type": "execute_result"
    }
   ],
   "source": [
    "CpG_merge['chr_num'] = CpG_merge['chr'].str.extract('(\\d+)').astype(int)\n",
    "CpG_merge['hap']= CpG_merge['chr'].str[-1]\n",
    "CpG_merge.sort_values(by=['chr_num'], ascending=True, inplace=True)\n",
    "#Run pair t-test to compare the percentage of methylated Cytosine residue of total cytosine between haplotype A and B\n",
    "hapA = CpG_merge[CpG_merge['chr'].str.contains('A')]\n",
    "hapA_methy = hapA[hapA['type'] == '5mCpG']['Cov']\n",
    "hapB = CpG_merge[CpG_merge['chr'].str.contains('B')]\n",
    "hapB_methy = hapB[hapB['type'] == '5mCpG']['Cov']\n",
    "ttest_ind(hapA_methy, hapB_methy)\n"
   ]
  },
  {
   "cell_type": "code",
   "execution_count": 171,
   "metadata": {},
   "outputs": [
    {
     "name": "stderr",
     "output_type": "stream",
     "text": [
      "/tmp/ipykernel_1462/736805703.py:9: FutureWarning: \n",
      "\n",
      "Passing `palette` without assigning `hue` is deprecated and will be removed in v0.14.0. Assign the `x` variable to `hue` and set `legend=False` for the same effect.\n",
      "\n",
      "  sns.violinplot(x='hap', y='Cov', data=CpG_merge_5mCpG, palette='coolwarm')\n"
     ]
    },
    {
     "data": {
      "image/png": "[encoded data removed]",
      "text/plain": [
       "<Figure size 600x300 with 1 Axes>"
      ]
     },
     "metadata": {},
     "output_type": "display_data"
    }
   ],
   "source": [
    "#Plot the percentage of 5mCpG and No5mCpG\n",
    "\n",
    "plt.figure(figsize=(6, 3))\n",
    "CpG_merge_no5mCpG = CpG_merge[CpG_merge['type'] == 'No5mCpG']\n",
    "#sns.violinplot(x='hap', y='Cov', data=CpG_merge_no5mCpG, palette='coolwarm')\n",
    "#add dot plot\n",
    "#sns.swarmplot(x='hap', y='Cov', data=CpG_merge_no5mCpG, color='k', size=4)\n",
    "CpG_merge_5mCpG = CpG_merge[CpG_merge['type'] == '5mCpG']\n",
    "sns.violinplot(x='hap', y='Cov', data=CpG_merge_5mCpG, palette='coolwarm')\n",
    "#add dot plot\n",
    "sns.swarmplot(x='hap', y='Cov', data=CpG_merge_5mCpG, color='k', size=4)\n",
    "\n",
    "plt.title('Percentage of 5mCpG in total CpG')\n",
    "plt.ylabel('Coverage (%)')\n",
    "plt.show()\n"
   ]
  },
  {
   "cell_type": "code",
   "execution_count": 164,
   "metadata": {},
   "outputs": [
    {
     "data": {
      "text/plain": [
       "18"
      ]
     },
     "execution_count": 164,
     "metadata": {},
     "output_type": "execute_result"
    }
   ],
   "source": [
    "len(hapA_methy)"
   ]
  },
  {
   "cell_type": "code",
   "execution_count": 133,
   "metadata": {},
   "outputs": [
    {
     "data": {
      "image/png": "[encoded data removed]",
      "text/plain": [
       "<Figure size 1200x500 with 1 Axes>"
      ]
     },
     "metadata": {},
     "output_type": "display_data"
    }
   ],
   "source": [
    "pivot_df = CpG_merge.pivot_table(index='chr', columns='type', values='Cov', aggfunc='sum').fillna(0)\n",
    "\n",
    "# Plotting\n",
    "pivot_df.plot(kind='bar', stacked=True, figsize=(12, 5), colormap='coolwarm')\n",
    "plt.title('CpG methylation coverage by chromosome')\n",
    "plt.ylabel('Coverage (%)')\n",
    "plt.xlabel('Chromosome')\n",
    "plt.legend(loc='upper right')\n",
    "plt.show()"
   ]
  },
  {
   "cell_type": "code",
   "execution_count": 195,
   "metadata": {},
   "outputs": [],
   "source": [
    "ApT_df = pd.read_table('Au3_6mApT_filtered.bed', header=None)\n",
    "ApT_df0 = bed_6mA_count[['chr','count']]\n",
    "ApT_df.columns = ['chr', 'start', 'end', 'strand','score']\n",
    "ApT_count = ApT_df.groupby(['chr']).size().reset_index(name='count')\n",
    "for i in range(0, len(fna_rename)):\n",
    "    ApT_counter = fna_rename[i].seq.count('AT')\n",
    "    ApT_count.loc[ApT_count['chr'] == fna_rename[i].id, 'ApT_count'] = ApT_counter\n",
    "ApT_count['Cov']= ApT_count['count']*100/ApT_count['ApT_count']"
   ]
  },
  {
   "cell_type": "code",
   "execution_count": 203,
   "metadata": {},
   "outputs": [],
   "source": [
    "ApT_df0 = bed_6mA_count[['chr','count']].reset_index(drop=True)\n",
    "ApT_df0 = ApT_df0.rename(columns={'count': '6mA_count'})\n",
    "ApT_count = ApT_count.rename(columns={'count': '6mApT_count'})\n",
    "ApT_count = pd.merge(ApT_count, ApT_df0, on='chr', how='left')\n",
    "ApT_count['6mApT_per_6mA'] = ApT_count['6mApT_count']*100/ApT_count['6mA_count']"
   ]
  },
  {
   "cell_type": "code",
   "execution_count": 205,
   "metadata": {},
   "outputs": [
    {
     "name": "stderr",
     "output_type": "stream",
     "text": [
      "/tmp/ipykernel_1462/613990886.py:3: FutureWarning: \n",
      "\n",
      "Passing `palette` without assigning `hue` is deprecated and will be removed in v0.14.0. Assign the `x` variable to `hue` and set `legend=False` for the same effect.\n",
      "\n",
      "  sns.violinplot(x='hap', y='6mApT_per_6mA', data=ApT_count, palette='coolwarm')\n"
     ]
    },
    {
     "data": {
      "image/png": "[encoded data removed]",
      "text/plain": [
       "<Figure size 600x300 with 1 Axes>"
      ]
     },
     "metadata": {},
     "output_type": "display_data"
    }
   ],
   "source": [
    "ApT_count['hap']= ApT_count['chr'].str[-1]\n",
    "plt.figure(figsize=(6, 3))\n",
    "sns.violinplot(x='hap', y='6mApT_per_6mA', data=ApT_count, palette='coolwarm')\n",
    "#add dot plot\n",
    "sns.swarmplot(x='hap', y='6mApT_per_6mA', data=ApT_count, color='k', size=4)\n",
    "\n",
    "plt.title('Percentage of 6mApT in total 6mA site')\n",
    "plt.ylabel('Coverage (%)')\n",
    "plt.show()"
   ]
  },
  {
   "cell_type": "code",
   "execution_count": 208,
   "metadata": {},
   "outputs": [
    {
     "data": {
      "text/plain": [
       "0     0.012470\n",
       "1     0.012856\n",
       "2     0.012016\n",
       "3     0.012738\n",
       "4     0.012346\n",
       "5     0.012821\n",
       "6     0.012538\n",
       "7     0.012117\n",
       "8     0.013813\n",
       "9     0.012765\n",
       "10    0.012379\n",
       "11    0.013373\n",
       "12    0.013834\n",
       "13    0.012829\n",
       "14    0.012839\n",
       "15    0.013979\n",
       "16    0.013207\n",
       "17    0.012761\n",
       "18    0.012102\n",
       "19    0.012211\n",
       "20    0.015063\n",
       "21    0.013054\n",
       "22    0.012904\n",
       "23    0.013271\n",
       "24    0.012569\n",
       "25    0.011839\n",
       "26    0.013177\n",
       "27    0.011839\n",
       "28    0.013139\n",
       "29    0.012278\n",
       "30    0.012392\n",
       "31    0.012334\n",
       "32    0.012726\n",
       "33    0.012520\n",
       "34    0.013540\n",
       "35    0.013715\n",
       "dtype: float64"
      ]
     },
     "execution_count": 208,
     "metadata": {},
     "output_type": "execute_result"
    }
   ],
   "source": [
    "ApT_count['6mApT_count']*100/ApT_count['ApT_count']"
   ]
  },
  {
   "cell_type": "code",
   "execution_count": null,
   "metadata": {},
   "outputs": [],
   "source": [
    "for i in range(0, len(fna_rename)):\n",
    "    A_count = fna_rename[i].seq.count('A')\n",
    "    bed_6mA_count.loc[bed_6mA_count['chr'] == fna_rename[i].id, 'A_count'] = A_count"
   ]
  }
 ],
 "metadata": {
  "kernelspec": {
   "display_name": "biopy",
   "language": "python",
   "name": "python3"
  },
  "language_info": {
   "codemirror_mode": {
    "name": "ipython",
    "version": 3
   },
   "file_extension": ".py",
   "mimetype": "text/x-python",
   "name": "python",
   "nbconvert_exporter": "python",
   "pygments_lexer": "ipython3",
   "version": "3.10.12"
  }
 },
 "nbformat": 4,
 "nbformat_minor": 2
}
